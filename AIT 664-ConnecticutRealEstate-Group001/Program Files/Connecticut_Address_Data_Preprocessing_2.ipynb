{
  "nbformat": 4,
  "nbformat_minor": 0,
  "metadata": {
    "colab": {
      "provenance": []
    },
    "kernelspec": {
      "name": "python3",
      "display_name": "Python 3"
    },
    "language_info": {
      "name": "python"
    }
  },
  "cells": [
    {
      "cell_type": "code",
      "execution_count": 3,
      "metadata": {
        "id": "uL31rW7B9tkQ",
        "colab": {
          "base_uri": "https://localhost:8080/"
        },
        "outputId": "1791af9b-b635-4749-96b1-d1f0da21c878"
      },
      "outputs": [
        {
          "output_type": "stream",
          "name": "stdout",
          "text": [
            "Requirement already satisfied: pyspark in /usr/local/lib/python3.10/dist-packages (3.5.1)\n",
            "Requirement already satisfied: py4j==0.10.9.7 in /usr/local/lib/python3.10/dist-packages (from pyspark) (0.10.9.7)\n"
          ]
        }
      ],
      "source": [
        "!pip install pyspark"
      ]
    },
    {
      "cell_type": "code",
      "source": [
        "from pyspark.sql import SparkSession\n",
        "spark = SparkSession.builder.getOrCreate()\n",
        "df = spark.read.format(\"csv\").option(\"header\", True).load(\"/content/AIT664-Group001-Connecticut-RealEstateData-Preprocessed-Part01.csv\")\n",
        "print(df.dtypes)\n",
        "df.printSchema()"
      ],
      "metadata": {
        "colab": {
          "base_uri": "https://localhost:8080/"
        },
        "id": "MyN1QzAXA7W7",
        "outputId": "96ef5d15-8b10-479e-e6b9-57b14990ad99"
      },
      "execution_count": 4,
      "outputs": [
        {
          "output_type": "stream",
          "name": "stdout",
          "text": [
            "[('Serial Number', 'string'), ('List Year', 'string'), ('Date Recorded', 'string'), ('Town', 'string'), ('Address', 'string'), ('Assessed Value', 'string'), ('Sale Amount', 'string'), ('Sales Ratio', 'string'), ('Property Type', 'string'), ('Residential Type', 'string'), ('Non Use Code', 'string'), ('Assessor Remarks', 'string'), ('OPM remarks', 'string'), ('Location', 'string')]\n",
            "root\n",
            " |-- Serial Number: string (nullable = true)\n",
            " |-- List Year: string (nullable = true)\n",
            " |-- Date Recorded: string (nullable = true)\n",
            " |-- Town: string (nullable = true)\n",
            " |-- Address: string (nullable = true)\n",
            " |-- Assessed Value: string (nullable = true)\n",
            " |-- Sale Amount: string (nullable = true)\n",
            " |-- Sales Ratio: string (nullable = true)\n",
            " |-- Property Type: string (nullable = true)\n",
            " |-- Residential Type: string (nullable = true)\n",
            " |-- Non Use Code: string (nullable = true)\n",
            " |-- Assessor Remarks: string (nullable = true)\n",
            " |-- OPM remarks: string (nullable = true)\n",
            " |-- Location: string (nullable = true)\n",
            "\n"
          ]
        }
      ]
    },
    {
      "cell_type": "code",
      "source": [
        "# Define a list of desired property types\n",
        "desired_types = [\"Residential\", \"Condo\", \"Single Family\", \"Two Family\", \"Three Family\", \"Four Family\"]\n",
        "# Filter the DataFrame based on the list\n",
        "df = df.filter(df[\"Property Type\"].isin(desired_types))\n",
        "print(df.count())"
      ],
      "metadata": {
        "colab": {
          "base_uri": "https://localhost:8080/"
        },
        "id": "JIKA6CCxL4ye",
        "outputId": "cf240975-599d-4f02-f7b7-c8da80a00c3f"
      },
      "execution_count": 5,
      "outputs": [
        {
          "output_type": "stream",
          "name": "stdout",
          "text": [
            "243680\n"
          ]
        }
      ]
    },
    {
      "cell_type": "code",
      "source": [
        "print(df.distinct().count())"
      ],
      "metadata": {
        "colab": {
          "base_uri": "https://localhost:8080/"
        },
        "id": "l4axRDaSMAWE",
        "outputId": "b5ab8a9d-8e7a-4cf3-b2d8-ec35143144e5"
      },
      "execution_count": 6,
      "outputs": [
        {
          "output_type": "stream",
          "name": "stdout",
          "text": [
            "242714\n"
          ]
        }
      ]
    },
    {
      "cell_type": "code",
      "source": [
        "for col in df.columns:\n",
        "    null_count = df.filter(df[col].isNull() | (df[col] == \"\")).count()\n",
        "    print(f\"Column: {col}\\t Null Count: {null_count}\")\n",
        "total_count = df.count()\n",
        "print(f\"Total Count: {total_count}\")"
      ],
      "metadata": {
        "colab": {
          "base_uri": "https://localhost:8080/"
        },
        "id": "uuMHOkuCMIRp",
        "outputId": "73e7aa94-93b9-4ded-cec9-4e2cac75ea78"
      },
      "execution_count": 7,
      "outputs": [
        {
          "output_type": "stream",
          "name": "stdout",
          "text": [
            "Column: Serial Number\t Null Count: 0\n",
            "Column: List Year\t Null Count: 0\n",
            "Column: Date Recorded\t Null Count: 0\n",
            "Column: Town\t Null Count: 0\n",
            "Column: Address\t Null Count: 0\n",
            "Column: Assessed Value\t Null Count: 0\n",
            "Column: Sale Amount\t Null Count: 0\n",
            "Column: Sales Ratio\t Null Count: 0\n",
            "Column: Property Type\t Null Count: 0\n",
            "Column: Residential Type\t Null Count: 0\n",
            "Column: Non Use Code\t Null Count: 180806\n",
            "Column: Assessor Remarks\t Null Count: 198506\n",
            "Column: OPM remarks\t Null Count: 239027\n",
            "Column: Location\t Null Count: 15\n",
            "Total Count: 243680\n"
          ]
        }
      ]
    },
    {
      "cell_type": "code",
      "source": [
        "# Remove columns Location, OPM remarks, Assessor Remarks from the DataFrame\n",
        "df = df.drop(\"Non Use Code\",\"Property Type\",\"OPM remarks\", \"Assessor Remarks\")"
      ],
      "metadata": {
        "id": "36xqtWe0Mc07"
      },
      "execution_count": 8,
      "outputs": []
    },
    {
      "cell_type": "code",
      "source": [
        "df = df.filter(df.Address.isNotNull())\n",
        "print(df.count())"
      ],
      "metadata": {
        "colab": {
          "base_uri": "https://localhost:8080/"
        },
        "id": "HXUOVc5MMf8p",
        "outputId": "b63e88ce-5763-4f12-a407-02b6cfd8e59e"
      },
      "execution_count": 9,
      "outputs": [
        {
          "output_type": "stream",
          "name": "stdout",
          "text": [
            "243680\n"
          ]
        }
      ]
    },
    {
      "cell_type": "code",
      "source": [
        "from pyspark.sql.functions import to_date, date_format\n",
        "# Convert Year column to integer type\n",
        "df = df.withColumn(\"List Year\", df[\"List Year\"].cast(\"integer\"))\n",
        "# Convert Date Recorded column to date format\n",
        "df = df.withColumn(\"Date Recorded\", to_date(df[\"Date Recorded\"], \"M/d/yyyy\"))\n",
        "df = df.withColumn(\"Date Recorded\", date_format(\"Date Recorded\", \"MM/dd/yyyy\"))\n",
        "# Convert Assessed Value column to floating point number\n",
        "df = df.withColumn(\"Assessed Value\", df[\"Assessed Value\"].cast(\"double\"))\n",
        "# Convert Sale Amount column to floating point number\n",
        "df = df.withColumn(\"Sale Amount\", df[\"Sale Amount\"].cast(\"double\"))\n",
        "# Convert Sales Ratio column to floating point number\n",
        "df = df.withColumn(\"Sales Ratio\", df[\"Sales Ratio\"].cast(\"double \"))\n",
        "df.show()"
      ],
      "metadata": {
        "colab": {
          "base_uri": "https://localhost:8080/"
        },
        "id": "aEvgL7u2MkrJ",
        "outputId": "8d6d0fb4-9496-4aa6-919a-11866faea62c"
      },
      "execution_count": 10,
      "outputs": [
        {
          "output_type": "stream",
          "name": "stdout",
          "text": [
            "+-------------+---------+-------------+----------+--------------------+--------------+-----------+-----------+----------------+--------------------+\n",
            "|Serial Number|List Year|Date Recorded|      Town|             Address|Assessed Value|Sale Amount|Sales Ratio|Residential Type|            Location|\n",
            "+-------------+---------+-------------+----------+--------------------+--------------+-----------+-----------+----------------+--------------------+\n",
            "|        20002|     2020|   10/02/2020|   Ashford|     390 TURNPIKE RD|      253000.0|   430000.0|     0.5883|   Single Family|POINT (-72.20731 ...|\n",
            "|       210317|     2021|   07/05/2022|      Avon|     53 COTSWOLD WAY|      329730.0|   805000.0|     0.4096|   Single Family|POINT (-72.846365...|\n",
            "|       200212|     2020|   03/09/2021|      Avon|    5 CHESTNUT DRIVE|      130400.0|   179900.0|     0.7248|           Condo|POINT (-72.875940...|\n",
            "|       200243|     2020|   04/13/2021|      Avon|111 NORTHINGTON D...|      619290.0|   890000.0|     0.6958|   Single Family|POINT (-72.902561...|\n",
            "|       200377|     2020|   07/02/2021|      Avon|  70 FAR HILLS DRIVE|      862330.0|  1447500.0|     0.5957|   Single Family|POINT (-72.805994...|\n",
            "|       200109|     2020|   12/09/2020|      Avon|  57 FAR HILLS DRIVE|      847520.0|  1250000.0|      0.678|   Single Family|POINT (-72.805611...|\n",
            "|      2020180|     2020|   03/01/2021|    Berlin| 1539 FARMINGTON AVE|      234200.0|   130000.0|     1.8015|      Two Family|POINT (-72.746275...|\n",
            "|       210045|     2021|   04/29/2022| Bethlehem|   89 LONG MEADOW RD|      229900.0|   561850.0|     0.4091|   Single Family|POINT (-73.212579...|\n",
            "|       210101|     2021|   12/20/2021|Bloomfield|      43 LEDYARD AVE|      111580.0|   209000.0|     0.5338|   Single Family|POINT (-72.690802...|\n",
            "|        20139|     2020|   12/16/2020|    Bethel|   16 DEEPWOOD DRIVE|      171360.0|   335000.0|     0.5115|   Single Family|POINT (-73.405272...|\n",
            "|       200086|     2020|   08/10/2021| Bethlehem|      39 WOODLAND RD|      168900.0|   352000.0|     0.4798|   Single Family|POINT (-73.18197 ...|\n",
            "|      2000381|     2020|   09/13/2021|Bloomfield|      9 SADDLE RIDGE|      163730.0|   250000.0|     0.6549|           Condo|POINT (-72.775153...|\n",
            "|       210035|     2021|   10/20/2021|  Branford|   25 QUARRY DOCK RD|      208100.0|   448000.0|     0.4645|           Condo|POINT (-72.815906...|\n",
            "|       210748|     2021|   01/14/2022|Bridgeport|  360 VINCELLETTE ST|      160776.0|   315000.0|     0.5104|   Single Family|POINT (-73.219385...|\n",
            "|       201295|     2020|   09/09/2021|   Bristol|         609 CAMP ST|      144340.0|   249900.0|     0.5775|   Single Family|POINT (-72.892727...|\n",
            "|       200032|     2020|   10/08/2020|   Bristol|      9 LESLIE COURT|       94920.0|   155000.0|     0.6123|   Single Family|POINT (-72.960105...|\n",
            "|       211762|     2021|   06/21/2022|Bridgeport|     38 RIVERVIEW DR|       86990.0|   247000.0|     0.3521|           Condo|POINT (-73.223086...|\n",
            "|       200354|     2020|   12/29/2020|   Bristol|      391 TIFFANY LA|      173740.0|   299000.0|      0.581|   Single Family|POINT (-72.982110...|\n",
            "|       200527|     2020|   03/01/2021|   Bristol|          25 WARD ST|       85680.0|   183000.0|     0.4681|      Two Family|POINT (-72.949245...|\n",
            "|       201212|     2020|   08/23/2021|   Bristol|     8 JENNINGS TERR|       88060.0|    91000.0|     0.9676|   Single Family|POINT (-72.952319...|\n",
            "+-------------+---------+-------------+----------+--------------------+--------------+-----------+-----------+----------------+--------------------+\n",
            "only showing top 20 rows\n",
            "\n"
          ]
        }
      ]
    },
    {
      "cell_type": "code",
      "source": [
        "from pyspark.sql.functions import round, mean, when\n",
        "# Filter rows where Assessed Value is 0\n",
        "zero_assessed_value = df.filter(df[\"Assessed Value\"] == 0)\n",
        "# Group records by Town and calculate the average Assessed Value\n",
        "avg_assessed_value = df.groupby([\"Town\", \"Residential Type\"]).agg(round(mean(df[\"Assessed Value\"]), 0).alias(\"Avg Assessed Value\"))\n",
        "display(avg_assessed_value)\n",
        "# Join the original DataFrame with the average Assessed Value DataFrame\n",
        "df = df.join(avg_assessed_value, on=[\"Town\", \"Residential Type\"], how=\"left\")\n",
        "# Replace 0 values in Assessed Value column with the average Assessed Value\n",
        "df = df.withColumn(\"Assessed Value\", when(df[\"Assessed Value\"] == 0, df[\"Avg Assessed Value\"]).otherwise(df[\"Assessed Value\"]))\n",
        "# Drop the Avg Assessed Value column\n",
        "df = df.drop(\"Avg Assessed Value\")\n",
        "display(df)"
      ],
      "metadata": {
        "colab": {
          "base_uri": "https://localhost:8080/",
          "height": 69
        },
        "id": "01edIQBBMsWJ",
        "outputId": "8cb39114-5b44-4a8c-a5c3-e756e9d082ea"
      },
      "execution_count": 11,
      "outputs": [
        {
          "output_type": "display_data",
          "data": {
            "text/plain": [
              "DataFrame[Town: string, Residential Type: string, Avg Assessed Value: double]"
            ]
          },
          "metadata": {}
        },
        {
          "output_type": "display_data",
          "data": {
            "text/plain": [
              "DataFrame[Town: string, Residential Type: string, Serial Number: string, List Year: int, Date Recorded: string, Address: string, Assessed Value: double, Sale Amount: double, Sales Ratio: double, Location: string]"
            ]
          },
          "metadata": {}
        }
      ]
    },
    {
      "cell_type": "code",
      "source": [
        "df = df.withColumn(\"Sales Ratio\", round(df[\"Assessed Value\"] / df[\"Sale Amount\"],2))\n",
        "display(df.head(5))"
      ],
      "metadata": {
        "colab": {
          "base_uri": "https://localhost:8080/",
          "height": 277
        },
        "id": "-pMbGVRWMx5o",
        "outputId": "29e0c42c-5568-421b-b816-fc3c2f656eeb"
      },
      "execution_count": 12,
      "outputs": [
        {
          "output_type": "display_data",
          "data": {
            "text/plain": [
              "[Row(Town='Ashford', Residential Type='Single Family', Serial Number='20002', List Year=2020, Date Recorded='10/02/2020', Address='390 TURNPIKE RD', Assessed Value=253000.0, Sale Amount=430000.0, Sales Ratio=0.59, Location='POINT (-72.20731 41.9177359)'),\n",
              " Row(Town='Avon', Residential Type='Single Family', Serial Number='210317', List Year=2021, Date Recorded='07/05/2022', Address='53 COTSWOLD WAY', Assessed Value=329730.0, Sale Amount=805000.0, Sales Ratio=0.41, Location='POINT (-72.846365959 41.781677018)'),\n",
              " Row(Town='Avon', Residential Type='Condo', Serial Number='200212', List Year=2020, Date Recorded='03/09/2021', Address='5 CHESTNUT DRIVE', Assessed Value=130400.0, Sale Amount=179900.0, Sales Ratio=0.72, Location='POINT (-72.8759407 41.7710138)'),\n",
              " Row(Town='Avon', Residential Type='Single Family', Serial Number='200243', List Year=2020, Date Recorded='04/13/2021', Address='111 NORTHINGTON DRIVE', Assessed Value=619290.0, Sale Amount=890000.0, Sales Ratio=0.7, Location='POINT (-72.9025616 41.7904684)'),\n",
              " Row(Town='Avon', Residential Type='Single Family', Serial Number='200377', List Year=2020, Date Recorded='07/02/2021', Address='70 FAR HILLS DRIVE', Assessed Value=862330.0, Sale Amount=1447500.0, Sales Ratio=0.6, Location='POINT (-72.8059942 41.7972347)')]"
            ]
          },
          "metadata": {}
        }
      ]
    },
    {
      "cell_type": "code",
      "source": [
        "df = df.filter(df[\"Town\"] != \"***Unknown***\")"
      ],
      "metadata": {
        "id": "logArQIrM_zt"
      },
      "execution_count": 13,
      "outputs": []
    },
    {
      "cell_type": "code",
      "source": [
        "df.dropDuplicates()"
      ],
      "metadata": {
        "colab": {
          "base_uri": "https://localhost:8080/"
        },
        "id": "xUjZUqQHNE1x",
        "outputId": "62b303b9-6e21-48b4-c371-b76f25afb50a"
      },
      "execution_count": 14,
      "outputs": [
        {
          "output_type": "execute_result",
          "data": {
            "text/plain": [
              "DataFrame[Town: string, Residential Type: string, Serial Number: string, List Year: int, Date Recorded: string, Address: string, Assessed Value: double, Sale Amount: double, Sales Ratio: double, Location: string]"
            ]
          },
          "metadata": {},
          "execution_count": 14
        }
      ]
    },
    {
      "cell_type": "code",
      "source": [
        "print(df.distinct().count())"
      ],
      "metadata": {
        "colab": {
          "base_uri": "https://localhost:8080/"
        },
        "id": "mMvbV4bLNp2b",
        "outputId": "9ed2df53-90b4-41f5-b2fe-774111ff6624"
      },
      "execution_count": 16,
      "outputs": [
        {
          "output_type": "stream",
          "name": "stdout",
          "text": [
            "242714\n"
          ]
        }
      ]
    },
    {
      "cell_type": "code",
      "source": [
        "import pandas as pd\n",
        "pandas_df = df.toPandas()\n",
        "from google.colab import files\n",
        "pandas_df.to_csv('AIT664-Group001-Connecticut-RealEstateData-Preprocessed-Part02.csv', index=False)\n",
        "files.download('AIT664-Group001-Connecticut-RealEstateData-Preprocessed-Part02.csv')"
      ],
      "metadata": {
        "colab": {
          "base_uri": "https://localhost:8080/",
          "height": 17
        },
        "id": "wYDI-q7DN024",
        "outputId": "d757704f-bd65-4012-fa85-94fd007b55a8"
      },
      "execution_count": 18,
      "outputs": [
        {
          "output_type": "display_data",
          "data": {
            "text/plain": [
              "<IPython.core.display.Javascript object>"
            ],
            "application/javascript": [
              "\n",
              "    async function download(id, filename, size) {\n",
              "      if (!google.colab.kernel.accessAllowed) {\n",
              "        return;\n",
              "      }\n",
              "      const div = document.createElement('div');\n",
              "      const label = document.createElement('label');\n",
              "      label.textContent = `Downloading \"${filename}\": `;\n",
              "      div.appendChild(label);\n",
              "      const progress = document.createElement('progress');\n",
              "      progress.max = size;\n",
              "      div.appendChild(progress);\n",
              "      document.body.appendChild(div);\n",
              "\n",
              "      const buffers = [];\n",
              "      let downloaded = 0;\n",
              "\n",
              "      const channel = await google.colab.kernel.comms.open(id);\n",
              "      // Send a message to notify the kernel that we're ready.\n",
              "      channel.send({})\n",
              "\n",
              "      for await (const message of channel.messages) {\n",
              "        // Send a message to notify the kernel that we're ready.\n",
              "        channel.send({})\n",
              "        if (message.buffers) {\n",
              "          for (const buffer of message.buffers) {\n",
              "            buffers.push(buffer);\n",
              "            downloaded += buffer.byteLength;\n",
              "            progress.value = downloaded;\n",
              "          }\n",
              "        }\n",
              "      }\n",
              "      const blob = new Blob(buffers, {type: 'application/binary'});\n",
              "      const a = document.createElement('a');\n",
              "      a.href = window.URL.createObjectURL(blob);\n",
              "      a.download = filename;\n",
              "      div.appendChild(a);\n",
              "      a.click();\n",
              "      div.remove();\n",
              "    }\n",
              "  "
            ]
          },
          "metadata": {}
        },
        {
          "output_type": "display_data",
          "data": {
            "text/plain": [
              "<IPython.core.display.Javascript object>"
            ],
            "application/javascript": [
              "download(\"download_a2dd79e2-bce5-4d04-92d0-cf0318afe19e\", \"AIT664-Group001-Connecticut-RealEstateData-Preprocessed-Part02.csv\", 27759816)"
            ]
          },
          "metadata": {}
        }
      ]
    }
  ]
}