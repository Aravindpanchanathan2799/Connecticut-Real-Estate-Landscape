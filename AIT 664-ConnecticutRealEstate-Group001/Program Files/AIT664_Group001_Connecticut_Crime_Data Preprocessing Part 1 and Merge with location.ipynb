{
  "cells": [
    {
      "cell_type": "code",
      "source": [
        "!pip install pyspark"
      ],
      "metadata": {
        "colab": {
          "base_uri": "https://localhost:8080/"
        },
        "id": "ruzAtv7hzURJ",
        "outputId": "9e83f4de-da13-4f0a-bb87-c94e72b047af"
      },
      "execution_count": null,
      "outputs": [
        {
          "output_type": "stream",
          "name": "stdout",
          "text": [
            "Requirement already satisfied: pyspark in /usr/local/lib/python3.10/dist-packages (3.5.1)\n",
            "Requirement already satisfied: py4j==0.10.9.7 in /usr/local/lib/python3.10/dist-packages (from pyspark) (0.10.9.7)\n"
          ]
        }
      ]
    },
    {
      "cell_type": "code",
      "source": [
        "from pyspark.sql import SparkSession\n",
        "\n",
        "# Create a SparkSession\n",
        "spark = SparkSession \\\n",
        "        .builder \\\n",
        "        .appName(\"Test\") \\\n",
        "        .config(\"spark.some.config.option\", \"some-value\") \\\n",
        "        .getOrCreate()"
      ],
      "metadata": {
        "id": "OhKjoBQIza4x"
      },
      "execution_count": null,
      "outputs": []
    },
    {
      "cell_type": "code",
      "execution_count": null,
      "metadata": {
        "application/vnd.databricks.v1+cell": {
          "cellMetadata": {
            "byteLimit": 2048000,
            "rowLimit": 10000
          },
          "inputWidgets": {},
          "nuid": "65c2fb95-22f0-4c23-bb59-b153e767a633",
          "showTitle": false,
          "title": ""
        },
        "colab": {
          "base_uri": "https://localhost:8080/"
        },
        "id": "4D85mnE9zEGT",
        "outputId": "00efc2f7-683d-4f2b-a85f-3ed5764a6e70"
      },
      "outputs": [
        {
          "output_type": "stream",
          "name": "stdout",
          "text": [
            "[('Town', 'string'), ('FIPS', 'int'), ('Year', 'int'), ('Crime Type', 'string'), ('Measure Type', 'string'), ('Variable', 'string'), ('Value', 'double')]\n",
            "root\n",
            " |-- Town: string (nullable = true)\n",
            " |-- FIPS: integer (nullable = true)\n",
            " |-- Year: integer (nullable = true)\n",
            " |-- Crime Type: string (nullable = true)\n",
            " |-- Measure Type: string (nullable = true)\n",
            " |-- Variable: string (nullable = true)\n",
            " |-- Value: double (nullable = true)\n",
            "\n"
          ]
        }
      ],
      "source": [
        "df=spark.read.csv(\"/content/AIT664-Group001-Dataset05-Connecticut-Crime-Data.csv\",header=True,inferSchema=True)\n",
        "print(df.dtypes)\n",
        "df.printSchema()"
      ]
    },
    {
      "cell_type": "code",
      "execution_count": null,
      "metadata": {
        "application/vnd.databricks.v1+cell": {
          "cellMetadata": {
            "byteLimit": 2048000,
            "rowLimit": 10000
          },
          "inputWidgets": {},
          "nuid": "7f9d7998-9274-4cbe-8392-069b3581142b",
          "showTitle": false,
          "title": ""
        },
        "colab": {
          "base_uri": "https://localhost:8080/"
        },
        "id": "iw8MR7RQzEGV",
        "outputId": "8c3c02bf-5a9b-4ecc-8153-beca23213fd0"
      },
      "outputs": [
        {
          "output_type": "stream",
          "name": "stdout",
          "text": [
            "+-------+---------+----+--------------------+------------------+-----------+------+\n",
            "|   Town|     FIPS|Year|          Crime Type|      Measure Type|   Variable| Value|\n",
            "+-------+---------+----+--------------------+------------------+-----------+------+\n",
            "|Andover|901301080|2010|         Total Crime|            Number|Crime Index|  35.0|\n",
            "|Andover|901301080|2010|         Total Crime|Rate (per 100,000)|Crime Index|1098.6|\n",
            "|Andover|901301080|2010| Total Violent Crime|            Number|Crime Index|   1.0|\n",
            "|Andover|901301080|2010| Total Violent Crime|Rate (per 100,000)|Crime Index|  31.4|\n",
            "|Andover|901301080|2010|Total Property Crime|            Number|Crime Index|  34.0|\n",
            "|Andover|901301080|2010|Total Property Crime|Rate (per 100,000)|Crime Index|1067.2|\n",
            "|Andover|901301080|2010|  Aggravated Assault|            Number|Crime Index|   0.0|\n",
            "|Andover|901301080|2010|  Aggravated Assault|Rate (per 100,000)|Crime Index|   0.0|\n",
            "|Andover|901301080|2010|              Murder|            Number|Crime Index|   0.0|\n",
            "|Andover|901301080|2010|              Murder|Rate (per 100,000)|Crime Index|   0.0|\n",
            "|Andover|901301080|2010|                Rape|            Number|Crime Index|   0.0|\n",
            "|Andover|901301080|2010|                Rape|Rate (per 100,000)|Crime Index|   0.0|\n",
            "|Andover|901301080|2010|             Robbery|            Number|Crime Index|   1.0|\n",
            "|Andover|901301080|2010|             Robbery|Rate (per 100,000)|Crime Index|  31.4|\n",
            "|Andover|901301080|2010|            Burglary|            Number|Crime Index|  16.0|\n",
            "|Andover|901301080|2010|            Burglary|Rate (per 100,000)|Crime Index| 502.2|\n",
            "|Andover|901301080|2010|             Larceny|            Number|Crime Index|  17.0|\n",
            "|Andover|901301080|2010|             Larceny|Rate (per 100,000)|Crime Index| 533.6|\n",
            "|Andover|901301080|2010| Motor Vehicle Theft|            Number|Crime Index|   1.0|\n",
            "|Andover|901301080|2010| Motor Vehicle Theft|Rate (per 100,000)|Crime Index|  31.4|\n",
            "+-------+---------+----+--------------------+------------------+-----------+------+\n",
            "only showing top 20 rows\n",
            "\n"
          ]
        }
      ],
      "source": [
        "df.show()"
      ]
    },
    {
      "cell_type": "code",
      "execution_count": null,
      "metadata": {
        "application/vnd.databricks.v1+cell": {
          "cellMetadata": {
            "byteLimit": 2048000,
            "rowLimit": 10000
          },
          "inputWidgets": {},
          "nuid": "6200f5bf-ab39-4cc9-9589-23b487bef499",
          "showTitle": false,
          "title": ""
        },
        "colab": {
          "base_uri": "https://localhost:8080/"
        },
        "id": "RKcHeSg1zEGW",
        "outputId": "b43e3c94-ed7b-4ebf-ad0f-ebff440b7e52"
      },
      "outputs": [
        {
          "output_type": "stream",
          "name": "stdout",
          "text": [
            "+-------+---------+----+--------------------+------------------+-----------+------+-------------+-----------+\n",
            "|   Town|     FIPS|Year|          Crime Type|      Measure Type|   Variable| Value|Number_Column|Rate_Column|\n",
            "+-------+---------+----+--------------------+------------------+-----------+------+-------------+-----------+\n",
            "|Andover|901301080|2010|         Total Crime|            Number|Crime Index|  35.0|         35.0|       NULL|\n",
            "|Andover|901301080|2010|         Total Crime|Rate (per 100,000)|Crime Index|1098.6|         NULL|     1098.6|\n",
            "|Andover|901301080|2010| Total Violent Crime|            Number|Crime Index|   1.0|          1.0|       NULL|\n",
            "|Andover|901301080|2010| Total Violent Crime|Rate (per 100,000)|Crime Index|  31.4|         NULL|       31.4|\n",
            "|Andover|901301080|2010|Total Property Crime|            Number|Crime Index|  34.0|         34.0|       NULL|\n",
            "|Andover|901301080|2010|Total Property Crime|Rate (per 100,000)|Crime Index|1067.2|         NULL|     1067.2|\n",
            "|Andover|901301080|2010|  Aggravated Assault|            Number|Crime Index|   0.0|          0.0|       NULL|\n",
            "|Andover|901301080|2010|  Aggravated Assault|Rate (per 100,000)|Crime Index|   0.0|         NULL|        0.0|\n",
            "|Andover|901301080|2010|              Murder|            Number|Crime Index|   0.0|          0.0|       NULL|\n",
            "|Andover|901301080|2010|              Murder|Rate (per 100,000)|Crime Index|   0.0|         NULL|        0.0|\n",
            "|Andover|901301080|2010|                Rape|            Number|Crime Index|   0.0|          0.0|       NULL|\n",
            "|Andover|901301080|2010|                Rape|Rate (per 100,000)|Crime Index|   0.0|         NULL|        0.0|\n",
            "|Andover|901301080|2010|             Robbery|            Number|Crime Index|   1.0|          1.0|       NULL|\n",
            "|Andover|901301080|2010|             Robbery|Rate (per 100,000)|Crime Index|  31.4|         NULL|       31.4|\n",
            "|Andover|901301080|2010|            Burglary|            Number|Crime Index|  16.0|         16.0|       NULL|\n",
            "|Andover|901301080|2010|            Burglary|Rate (per 100,000)|Crime Index| 502.2|         NULL|      502.2|\n",
            "|Andover|901301080|2010|             Larceny|            Number|Crime Index|  17.0|         17.0|       NULL|\n",
            "|Andover|901301080|2010|             Larceny|Rate (per 100,000)|Crime Index| 533.6|         NULL|      533.6|\n",
            "|Andover|901301080|2010| Motor Vehicle Theft|            Number|Crime Index|   1.0|          1.0|       NULL|\n",
            "|Andover|901301080|2010| Motor Vehicle Theft|Rate (per 100,000)|Crime Index|  31.4|         NULL|       31.4|\n",
            "+-------+---------+----+--------------------+------------------+-----------+------+-------------+-----------+\n",
            "only showing top 20 rows\n",
            "\n"
          ]
        }
      ],
      "source": [
        "from pyspark.sql.functions import when\n",
        "\n",
        "df = df.withColumn(\"Number_Column\", when(df[\"Measure Type\"] == \"Number\", df[\"Value\"]).otherwise(None)) \\\n",
        "       .withColumn(\"Rate_Column\", when(df[\"Measure Type\"] == \"Rate (per 100,000)\", df[\"Value\"]).otherwise(None))\n",
        "\n",
        "df.show()"
      ]
    },
    {
      "cell_type": "code",
      "execution_count": null,
      "metadata": {
        "application/vnd.databricks.v1+cell": {
          "cellMetadata": {
            "byteLimit": 2048000,
            "rowLimit": 10000
          },
          "inputWidgets": {},
          "nuid": "73231a90-d2e3-4186-9245-3c697753960c",
          "showTitle": false,
          "title": ""
        },
        "colab": {
          "base_uri": "https://localhost:8080/"
        },
        "id": "OtnC3gE2zEGX",
        "outputId": "86d10870-9e5f-43d2-8499-782ff4d61acd"
      },
      "outputs": [
        {
          "output_type": "stream",
          "name": "stdout",
          "text": [
            "+-------+---------+----+--------------------+------------------+-----------+------+-------------+-----------+---+\n",
            "|   Town|     FIPS|Year|          Crime Type|      Measure Type|   Variable| Value|Number_Column|Rate_Column| ID|\n",
            "+-------+---------+----+--------------------+------------------+-----------+------+-------------+-----------+---+\n",
            "|Andover|901301080|2010|         Total Crime|            Number|Crime Index|  35.0|         35.0|       NULL|  0|\n",
            "|Andover|901301080|2010|         Total Crime|Rate (per 100,000)|Crime Index|1098.6|         NULL|     1098.6|  1|\n",
            "|Andover|901301080|2010| Total Violent Crime|            Number|Crime Index|   1.0|          1.0|       NULL|  2|\n",
            "|Andover|901301080|2010| Total Violent Crime|Rate (per 100,000)|Crime Index|  31.4|         NULL|       31.4|  3|\n",
            "|Andover|901301080|2010|Total Property Crime|            Number|Crime Index|  34.0|         34.0|       NULL|  4|\n",
            "|Andover|901301080|2010|Total Property Crime|Rate (per 100,000)|Crime Index|1067.2|         NULL|     1067.2|  5|\n",
            "|Andover|901301080|2010|  Aggravated Assault|            Number|Crime Index|   0.0|          0.0|       NULL|  6|\n",
            "|Andover|901301080|2010|  Aggravated Assault|Rate (per 100,000)|Crime Index|   0.0|         NULL|        0.0|  7|\n",
            "|Andover|901301080|2010|              Murder|            Number|Crime Index|   0.0|          0.0|       NULL|  8|\n",
            "|Andover|901301080|2010|              Murder|Rate (per 100,000)|Crime Index|   0.0|         NULL|        0.0|  9|\n",
            "|Andover|901301080|2010|                Rape|            Number|Crime Index|   0.0|          0.0|       NULL| 10|\n",
            "|Andover|901301080|2010|                Rape|Rate (per 100,000)|Crime Index|   0.0|         NULL|        0.0| 11|\n",
            "|Andover|901301080|2010|             Robbery|            Number|Crime Index|   1.0|          1.0|       NULL| 12|\n",
            "|Andover|901301080|2010|             Robbery|Rate (per 100,000)|Crime Index|  31.4|         NULL|       31.4| 13|\n",
            "|Andover|901301080|2010|            Burglary|            Number|Crime Index|  16.0|         16.0|       NULL| 14|\n",
            "|Andover|901301080|2010|            Burglary|Rate (per 100,000)|Crime Index| 502.2|         NULL|      502.2| 15|\n",
            "|Andover|901301080|2010|             Larceny|            Number|Crime Index|  17.0|         17.0|       NULL| 16|\n",
            "|Andover|901301080|2010|             Larceny|Rate (per 100,000)|Crime Index| 533.6|         NULL|      533.6| 17|\n",
            "|Andover|901301080|2010| Motor Vehicle Theft|            Number|Crime Index|   1.0|          1.0|       NULL| 18|\n",
            "|Andover|901301080|2010| Motor Vehicle Theft|Rate (per 100,000)|Crime Index|  31.4|         NULL|       31.4| 19|\n",
            "+-------+---------+----+--------------------+------------------+-----------+------+-------------+-----------+---+\n",
            "only showing top 20 rows\n",
            "\n"
          ]
        }
      ],
      "source": [
        "from pyspark.sql.functions import lead, col, monotonically_increasing_id\n",
        "\n",
        "# Add a new column \"ID\" with monotonically increasing values\n",
        "df = df.withColumn(\"ID\", monotonically_increasing_id())\n",
        "df.show()"
      ]
    },
    {
      "cell_type": "code",
      "execution_count": null,
      "metadata": {
        "application/vnd.databricks.v1+cell": {
          "cellMetadata": {
            "byteLimit": 2048000,
            "rowLimit": 10000
          },
          "inputWidgets": {},
          "nuid": "27eb5fac-56d5-40ba-a37a-33b9e277e84e",
          "showTitle": false,
          "title": ""
        },
        "colab": {
          "base_uri": "https://localhost:8080/"
        },
        "id": "w37xABU2zEGY",
        "outputId": "eef0815a-cffa-4892-b97e-06b09b3471e5"
      },
      "outputs": [
        {
          "output_type": "stream",
          "name": "stdout",
          "text": [
            "+-------+---------+----+--------------------+------------------+-----------+------+-------------+-----------+---+\n",
            "|   Town|     FIPS|Year|          Crime Type|      Measure Type|   Variable| Value|Number_Column|Rate_Column| ID|\n",
            "+-------+---------+----+--------------------+------------------+-----------+------+-------------+-----------+---+\n",
            "|Andover|901301080|2010|         Total Crime|            Number|Crime Index|  35.0|         35.0|     1098.6|  0|\n",
            "|Andover|901301080|2010|         Total Crime|Rate (per 100,000)|Crime Index|1098.6|         NULL|     1098.6|  1|\n",
            "|Andover|901301080|2010| Total Violent Crime|            Number|Crime Index|   1.0|          1.0|       31.4|  2|\n",
            "|Andover|901301080|2010| Total Violent Crime|Rate (per 100,000)|Crime Index|  31.4|         NULL|       31.4|  3|\n",
            "|Andover|901301080|2010|Total Property Crime|            Number|Crime Index|  34.0|         34.0|     1067.2|  4|\n",
            "|Andover|901301080|2010|Total Property Crime|Rate (per 100,000)|Crime Index|1067.2|         NULL|     1067.2|  5|\n",
            "|Andover|901301080|2010|  Aggravated Assault|            Number|Crime Index|   0.0|          0.0|        0.0|  6|\n",
            "|Andover|901301080|2010|  Aggravated Assault|Rate (per 100,000)|Crime Index|   0.0|         NULL|        0.0|  7|\n",
            "|Andover|901301080|2010|              Murder|            Number|Crime Index|   0.0|          0.0|        0.0|  8|\n",
            "|Andover|901301080|2010|              Murder|Rate (per 100,000)|Crime Index|   0.0|         NULL|        0.0|  9|\n",
            "|Andover|901301080|2010|                Rape|            Number|Crime Index|   0.0|          0.0|        0.0| 10|\n",
            "|Andover|901301080|2010|                Rape|Rate (per 100,000)|Crime Index|   0.0|         NULL|        0.0| 11|\n",
            "|Andover|901301080|2010|             Robbery|            Number|Crime Index|   1.0|          1.0|       31.4| 12|\n",
            "|Andover|901301080|2010|             Robbery|Rate (per 100,000)|Crime Index|  31.4|         NULL|       31.4| 13|\n",
            "|Andover|901301080|2010|            Burglary|            Number|Crime Index|  16.0|         16.0|      502.2| 14|\n",
            "|Andover|901301080|2010|            Burglary|Rate (per 100,000)|Crime Index| 502.2|         NULL|      502.2| 15|\n",
            "|Andover|901301080|2010|             Larceny|            Number|Crime Index|  17.0|         17.0|      533.6| 16|\n",
            "|Andover|901301080|2010|             Larceny|Rate (per 100,000)|Crime Index| 533.6|         NULL|      533.6| 17|\n",
            "|Andover|901301080|2010| Motor Vehicle Theft|            Number|Crime Index|   1.0|          1.0|       31.4| 18|\n",
            "|Andover|901301080|2010| Motor Vehicle Theft|Rate (per 100,000)|Crime Index|  31.4|         NULL|       31.4| 19|\n",
            "+-------+---------+----+--------------------+------------------+-----------+------+-------------+-----------+---+\n",
            "only showing top 20 rows\n",
            "\n"
          ]
        }
      ],
      "source": [
        "from pyspark.sql.window import Window\n",
        "from pyspark.sql.functions import col, lead, when\n",
        "\n",
        "# Define a window specification\n",
        "windowSpec = Window.partitionBy(df[\"Town\"]).orderBy(df[\"ID\"])\n",
        "\n",
        "# Fill null values in Rate_Column with the next row's value within the same Town\n",
        "df = df.withColumn(\"Rate_Column\", when(col(\"Rate_Column\").isNull(), lead(\"Rate_Column\").over(windowSpec)).otherwise(col(\"Rate_Column\")))\n",
        "\n",
        "# Show the filled dataframe\n",
        "df.show()\n",
        "\n"
      ]
    },
    {
      "cell_type": "code",
      "execution_count": null,
      "metadata": {
        "application/vnd.databricks.v1+cell": {
          "cellMetadata": {
            "byteLimit": 2048000,
            "rowLimit": 10000
          },
          "inputWidgets": {},
          "nuid": "d486d494-2b05-4fa6-9f24-36c5d369cd46",
          "showTitle": false,
          "title": ""
        },
        "colab": {
          "base_uri": "https://localhost:8080/"
        },
        "id": "eV3V5jLDzEGY",
        "outputId": "be4473a9-1ad0-4a0d-bb36-5bcb6e1270b0"
      },
      "outputs": [
        {
          "output_type": "stream",
          "name": "stdout",
          "text": [
            "+-------+---------+----+--------------------+------------+-----------+-----+-------------+-----------+---+\n",
            "|   Town|     FIPS|Year|          Crime Type|Measure Type|   Variable|Value|Number_Column|Rate_Column| ID|\n",
            "+-------+---------+----+--------------------+------------+-----------+-----+-------------+-----------+---+\n",
            "|Andover|901301080|2010|         Total Crime|      Number|Crime Index| 35.0|         35.0|     1098.6|  0|\n",
            "|Andover|901301080|2010| Total Violent Crime|      Number|Crime Index|  1.0|          1.0|       31.4|  2|\n",
            "|Andover|901301080|2010|Total Property Crime|      Number|Crime Index| 34.0|         34.0|     1067.2|  4|\n",
            "|Andover|901301080|2010|  Aggravated Assault|      Number|Crime Index|  0.0|          0.0|        0.0|  6|\n",
            "|Andover|901301080|2010|              Murder|      Number|Crime Index|  0.0|          0.0|        0.0|  8|\n",
            "|Andover|901301080|2010|                Rape|      Number|Crime Index|  0.0|          0.0|        0.0| 10|\n",
            "|Andover|901301080|2010|             Robbery|      Number|Crime Index|  1.0|          1.0|       31.4| 12|\n",
            "|Andover|901301080|2010|            Burglary|      Number|Crime Index| 16.0|         16.0|      502.2| 14|\n",
            "|Andover|901301080|2010|             Larceny|      Number|Crime Index| 17.0|         17.0|      533.6| 16|\n",
            "|Andover|901301080|2010| Motor Vehicle Theft|      Number|Crime Index|  1.0|          1.0|       31.4| 18|\n",
            "|Andover|901301080|2010|               Arson|      Number|Crime Index|  1.0|          1.0|       31.4| 20|\n",
            "|Andover|901301080|2011|         Total Crime|      Number|Crime Index| 26.0|         26.0|      814.5| 22|\n",
            "|Andover|901301080|2011| Total Violent Crime|      Number|Crime Index|  1.0|          1.0|       31.3| 24|\n",
            "|Andover|901301080|2011|Total Property Crime|      Number|Crime Index| 25.0|         25.0|      783.2| 26|\n",
            "|Andover|901301080|2011|  Aggravated Assault|      Number|Crime Index|  0.0|          0.0|        0.0| 28|\n",
            "|Andover|901301080|2011|              Murder|      Number|Crime Index|  0.0|          0.0|        0.0| 30|\n",
            "|Andover|901301080|2011|                Rape|      Number|Crime Index|  0.0|          0.0|        0.0| 32|\n",
            "|Andover|901301080|2011|             Robbery|      Number|Crime Index|  1.0|          1.0|       31.3| 34|\n",
            "|Andover|901301080|2011|            Burglary|      Number|Crime Index| 18.0|         18.0|      563.9| 36|\n",
            "|Andover|901301080|2011|             Larceny|      Number|Crime Index|  6.0|          6.0|      188.0| 38|\n",
            "+-------+---------+----+--------------------+------------+-----------+-----+-------------+-----------+---+\n",
            "only showing top 20 rows\n",
            "\n"
          ]
        }
      ],
      "source": [
        "df = df.filter((col(\"ID\") % 2 == 0))\n",
        "df.show()"
      ]
    },
    {
      "cell_type": "code",
      "execution_count": null,
      "metadata": {
        "application/vnd.databricks.v1+cell": {
          "cellMetadata": {
            "byteLimit": 2048000,
            "rowLimit": 10000
          },
          "inputWidgets": {},
          "nuid": "eafc6744-af66-4092-82f5-3216279227ad",
          "showTitle": false,
          "title": ""
        },
        "colab": {
          "base_uri": "https://localhost:8080/"
        },
        "id": "ClOSr8B-zEGZ",
        "outputId": "5ba0a855-f970-40f3-fed8-027b977ad663"
      },
      "outputs": [
        {
          "output_type": "stream",
          "name": "stdout",
          "text": [
            "root\n",
            " |-- Town: string (nullable = true)\n",
            " |-- Year: integer (nullable = true)\n",
            " |-- Crime Type: string (nullable = true)\n",
            " |-- Number_Column: double (nullable = true)\n",
            " |-- Rate_Column: double (nullable = true)\n",
            "\n",
            "+-------+----+--------------------+-------------+-----------+\n",
            "|   Town|Year|          Crime Type|Number_Column|Rate_Column|\n",
            "+-------+----+--------------------+-------------+-----------+\n",
            "|Andover|2010|         Total Crime|         35.0|     1098.6|\n",
            "|Andover|2010| Total Violent Crime|          1.0|       31.4|\n",
            "|Andover|2010|Total Property Crime|         34.0|     1067.2|\n",
            "|Andover|2010|  Aggravated Assault|          0.0|        0.0|\n",
            "|Andover|2010|              Murder|          0.0|        0.0|\n",
            "|Andover|2010|                Rape|          0.0|        0.0|\n",
            "|Andover|2010|             Robbery|          1.0|       31.4|\n",
            "|Andover|2010|            Burglary|         16.0|      502.2|\n",
            "|Andover|2010|             Larceny|         17.0|      533.6|\n",
            "|Andover|2010| Motor Vehicle Theft|          1.0|       31.4|\n",
            "|Andover|2010|               Arson|          1.0|       31.4|\n",
            "|Andover|2011|         Total Crime|         26.0|      814.5|\n",
            "|Andover|2011| Total Violent Crime|          1.0|       31.3|\n",
            "|Andover|2011|Total Property Crime|         25.0|      783.2|\n",
            "|Andover|2011|  Aggravated Assault|          0.0|        0.0|\n",
            "|Andover|2011|              Murder|          0.0|        0.0|\n",
            "|Andover|2011|                Rape|          0.0|        0.0|\n",
            "|Andover|2011|             Robbery|          1.0|       31.3|\n",
            "|Andover|2011|            Burglary|         18.0|      563.9|\n",
            "|Andover|2011|             Larceny|          6.0|      188.0|\n",
            "+-------+----+--------------------+-------------+-----------+\n",
            "only showing top 20 rows\n",
            "\n"
          ]
        }
      ],
      "source": [
        "df = df.drop(\"FIPS\", \"Measure Type\", \"Variable\", \"Value\", \"ID\")\n",
        "df.printSchema()\n",
        "df.show()"
      ]
    },
    {
      "cell_type": "code",
      "execution_count": null,
      "metadata": {
        "application/vnd.databricks.v1+cell": {
          "cellMetadata": {
            "byteLimit": 2048000,
            "rowLimit": 10000
          },
          "inputWidgets": {},
          "nuid": "6804eff8-2a0e-488c-9db6-a5a797ba2e7f",
          "showTitle": false,
          "title": ""
        },
        "colab": {
          "base_uri": "https://localhost:8080/"
        },
        "id": "4J7T80mdzEGa",
        "outputId": "37df739d-4035-4b70-d8e7-bd1b9066770d"
      },
      "outputs": [
        {
          "output_type": "stream",
          "name": "stdout",
          "text": [
            "+-------+----+--------------------+--------------------------+--------------------------------------+\n",
            "|   Town|Year|          Crime Type|Number of Crimes Committed|Number of Crimes Committed per 100,000|\n",
            "+-------+----+--------------------+--------------------------+--------------------------------------+\n",
            "|Andover|2010|         Total Crime|                      35.0|                                1098.6|\n",
            "|Andover|2010| Total Violent Crime|                       1.0|                                  31.4|\n",
            "|Andover|2010|Total Property Crime|                      34.0|                                1067.2|\n",
            "|Andover|2010|  Aggravated Assault|                       0.0|                                   0.0|\n",
            "|Andover|2010|              Murder|                       0.0|                                   0.0|\n",
            "|Andover|2010|                Rape|                       0.0|                                   0.0|\n",
            "|Andover|2010|             Robbery|                       1.0|                                  31.4|\n",
            "|Andover|2010|            Burglary|                      16.0|                                 502.2|\n",
            "|Andover|2010|             Larceny|                      17.0|                                 533.6|\n",
            "|Andover|2010| Motor Vehicle Theft|                       1.0|                                  31.4|\n",
            "|Andover|2010|               Arson|                       1.0|                                  31.4|\n",
            "|Andover|2011|         Total Crime|                      26.0|                                 814.5|\n",
            "|Andover|2011| Total Violent Crime|                       1.0|                                  31.3|\n",
            "|Andover|2011|Total Property Crime|                      25.0|                                 783.2|\n",
            "|Andover|2011|  Aggravated Assault|                       0.0|                                   0.0|\n",
            "|Andover|2011|              Murder|                       0.0|                                   0.0|\n",
            "|Andover|2011|                Rape|                       0.0|                                   0.0|\n",
            "|Andover|2011|             Robbery|                       1.0|                                  31.3|\n",
            "|Andover|2011|            Burglary|                      18.0|                                 563.9|\n",
            "|Andover|2011|             Larceny|                       6.0|                                 188.0|\n",
            "+-------+----+--------------------+--------------------------+--------------------------------------+\n",
            "only showing top 20 rows\n",
            "\n"
          ]
        }
      ],
      "source": [
        "df = df.withColumnRenamed(\"Number_Column\", \"Number of Crimes Committed\")\n",
        "df = df.withColumnRenamed(\"Rate_Column\", \"Number of Crimes Committed per 100,000\")\n",
        "df.show()"
      ]
    },
    {
      "cell_type": "code",
      "execution_count": null,
      "metadata": {
        "application/vnd.databricks.v1+cell": {
          "cellMetadata": {
            "byteLimit": 2048000,
            "rowLimit": 10000
          },
          "inputWidgets": {},
          "nuid": "336fa49d-a4cf-455f-b3fd-b563faaa257d",
          "showTitle": false,
          "title": ""
        },
        "colab": {
          "base_uri": "https://localhost:8080/"
        },
        "id": "8G30xxgNzEGa",
        "outputId": "41bbf4dc-66d1-40a5-8588-1128688d9081"
      },
      "outputs": [
        {
          "output_type": "stream",
          "name": "stdout",
          "text": [
            "+-------+----+--------------------+--------------------------+--------------------------------------+--------+\n",
            "|   Town|Year|          Crime Type|Number of Crimes Committed|Number of Crimes Committed per 100,000|Crime ID|\n",
            "+-------+----+--------------------+--------------------------+--------------------------------------+--------+\n",
            "|Andover|2010|         Total Crime|                      35.0|                                1098.6|       0|\n",
            "|Andover|2010| Total Violent Crime|                       1.0|                                  31.4|       1|\n",
            "|Andover|2010|Total Property Crime|                      34.0|                                1067.2|       2|\n",
            "|Andover|2010|  Aggravated Assault|                       0.0|                                   0.0|       3|\n",
            "|Andover|2010|              Murder|                       0.0|                                   0.0|       4|\n",
            "|Andover|2010|                Rape|                       0.0|                                   0.0|       5|\n",
            "|Andover|2010|             Robbery|                       1.0|                                  31.4|       6|\n",
            "|Andover|2010|            Burglary|                      16.0|                                 502.2|       7|\n",
            "|Andover|2010|             Larceny|                      17.0|                                 533.6|       8|\n",
            "|Andover|2010| Motor Vehicle Theft|                       1.0|                                  31.4|       9|\n",
            "|Andover|2010|               Arson|                       1.0|                                  31.4|      10|\n",
            "|Andover|2011|         Total Crime|                      26.0|                                 814.5|      11|\n",
            "|Andover|2011| Total Violent Crime|                       1.0|                                  31.3|      12|\n",
            "|Andover|2011|Total Property Crime|                      25.0|                                 783.2|      13|\n",
            "|Andover|2011|  Aggravated Assault|                       0.0|                                   0.0|      14|\n",
            "|Andover|2011|              Murder|                       0.0|                                   0.0|      15|\n",
            "|Andover|2011|                Rape|                       0.0|                                   0.0|      16|\n",
            "|Andover|2011|             Robbery|                       1.0|                                  31.3|      17|\n",
            "|Andover|2011|            Burglary|                      18.0|                                 563.9|      18|\n",
            "|Andover|2011|             Larceny|                       6.0|                                 188.0|      19|\n",
            "+-------+----+--------------------+--------------------------+--------------------------------------+--------+\n",
            "only showing top 20 rows\n",
            "\n"
          ]
        }
      ],
      "source": [
        "df = df.withColumn(\"Crime ID\", monotonically_increasing_id())\n",
        "df.show()"
      ]
    },
    {
      "cell_type": "code",
      "source": [
        "import geopandas as gpd\n",
        "import shapely\n",
        "import pandas as pd\n",
        "import numpy as np\n",
        "from geopandas import GeoDataFrame\n",
        "\n",
        "\n",
        "geojson_df = gpd.read_file(\"/content/Town_Location.geojson\")\n",
        "\n",
        "geojson_df.count()"
      ],
      "metadata": {
        "colab": {
          "base_uri": "https://localhost:8080/"
        },
        "id": "xBVWL1dGDW9T",
        "outputId": "c8b97011-a249-442d-e3aa-201c9dd03a10"
      },
      "execution_count": null,
      "outputs": [
        {
          "output_type": "execute_result",
          "data": {
            "text/plain": [
              "Town            170\n",
              "State           170\n",
              "result_num      170\n",
              "osm_id          170\n",
              "display_name    170\n",
              "category        170\n",
              "type            170\n",
              "latlong         170\n",
              "geometry        170\n",
              "dtype: int64"
            ]
          },
          "metadata": {},
          "execution_count": 18
        }
      ]
    },
    {
      "source": [
        "df.printSchema()\n",
        "geojson_df.info()\n",
        "\n",
        "\n",
        "df_geo = geojson_df\n",
        "df_geo.head()\n",
        "\n"
      ],
      "cell_type": "code",
      "metadata": {
        "colab": {
          "base_uri": "https://localhost:8080/",
          "height": 973
        },
        "id": "QpYzjzkvFfLj",
        "outputId": "a9111b83-e419-4e36-c9a6-989871d0785f"
      },
      "execution_count": null,
      "outputs": [
        {
          "output_type": "stream",
          "name": "stdout",
          "text": [
            "root\n",
            " |-- Town: string (nullable = true)\n",
            " |-- Year: integer (nullable = true)\n",
            " |-- Crime Type: string (nullable = true)\n",
            " |-- Number of Crimes Committed: double (nullable = true)\n",
            " |-- Number of Crimes Committed per 100,000: double (nullable = true)\n",
            " |-- Crime ID: long (nullable = false)\n",
            "\n",
            "<class 'geopandas.geodataframe.GeoDataFrame'>\n",
            "RangeIndex: 170 entries, 0 to 169\n",
            "Data columns (total 9 columns):\n",
            " #   Column        Non-Null Count  Dtype   \n",
            "---  ------        --------------  -----   \n",
            " 0   Town          170 non-null    object  \n",
            " 1   State         170 non-null    object  \n",
            " 2   result_num    170 non-null    object  \n",
            " 3   osm_id        170 non-null    object  \n",
            " 4   display_name  170 non-null    object  \n",
            " 5   category      170 non-null    object  \n",
            " 6   type          170 non-null    object  \n",
            " 7   latlong       170 non-null    object  \n",
            " 8   geometry      170 non-null    geometry\n",
            "dtypes: geometry(1), object(8)\n",
            "memory usage: 12.1+ KB\n"
          ]
        },
        {
          "output_type": "execute_result",
          "data": {
            "text/plain": [
              "          Town State result_num     osm_id  \\\n",
              "0      Andover    CT          0   11059524   \n",
              "1      Ansonia    CT          0  797803532   \n",
              "2      Ashford    CT          0   11052658   \n",
              "3         Avon    CT          0    5946925   \n",
              "4  Barkhamsted    CT          0   11052518   \n",
              "\n",
              "                                        display_name  category  \\\n",
              "0  Andover, Capitol Planning Region, Connecticut,...  boundary   \n",
              "1  Ansonia, Naugatuck Valley Planning Region, Con...     place   \n",
              "2  Ashford, Northeastern Connecticut Planning Reg...  boundary   \n",
              "3  Avon, Capitol Planning Region, Connecticut, 06...  boundary   \n",
              "4  Barkhamsted, Northwest Hills Planning Region, ...  boundary   \n",
              "\n",
              "             type                 latlong                    geometry  \n",
              "0  administrative    41.7373212,-72.37036  POINT (-72.37036 41.73732)  \n",
              "1            city   41.3423505,-73.043713  POINT (-73.04371 41.34235)  \n",
              "2  administrative  41.8731532,-72.1214653  POINT (-72.12147 41.87315)  \n",
              "3  administrative  41.8098209,-72.8306541  POINT (-72.83065 41.80982)  \n",
              "4  administrative  41.9292629,-72.9139904  POINT (-72.91399 41.92926)  "
            ],
            "text/html": [
              "\n",
              "  <div id=\"df-b3cebddf-2d3b-4373-8934-9bd04396d50a\" class=\"colab-df-container\">\n",
              "    <div>\n",
              "<style scoped>\n",
              "    .dataframe tbody tr th:only-of-type {\n",
              "        vertical-align: middle;\n",
              "    }\n",
              "\n",
              "    .dataframe tbody tr th {\n",
              "        vertical-align: top;\n",
              "    }\n",
              "\n",
              "    .dataframe thead th {\n",
              "        text-align: right;\n",
              "    }\n",
              "</style>\n",
              "<table border=\"1\" class=\"dataframe\">\n",
              "  <thead>\n",
              "    <tr style=\"text-align: right;\">\n",
              "      <th></th>\n",
              "      <th>Town</th>\n",
              "      <th>State</th>\n",
              "      <th>result_num</th>\n",
              "      <th>osm_id</th>\n",
              "      <th>display_name</th>\n",
              "      <th>category</th>\n",
              "      <th>type</th>\n",
              "      <th>latlong</th>\n",
              "      <th>geometry</th>\n",
              "    </tr>\n",
              "  </thead>\n",
              "  <tbody>\n",
              "    <tr>\n",
              "      <th>0</th>\n",
              "      <td>Andover</td>\n",
              "      <td>CT</td>\n",
              "      <td>0</td>\n",
              "      <td>11059524</td>\n",
              "      <td>Andover, Capitol Planning Region, Connecticut,...</td>\n",
              "      <td>boundary</td>\n",
              "      <td>administrative</td>\n",
              "      <td>41.7373212,-72.37036</td>\n",
              "      <td>POINT (-72.37036 41.73732)</td>\n",
              "    </tr>\n",
              "    <tr>\n",
              "      <th>1</th>\n",
              "      <td>Ansonia</td>\n",
              "      <td>CT</td>\n",
              "      <td>0</td>\n",
              "      <td>797803532</td>\n",
              "      <td>Ansonia, Naugatuck Valley Planning Region, Con...</td>\n",
              "      <td>place</td>\n",
              "      <td>city</td>\n",
              "      <td>41.3423505,-73.043713</td>\n",
              "      <td>POINT (-73.04371 41.34235)</td>\n",
              "    </tr>\n",
              "    <tr>\n",
              "      <th>2</th>\n",
              "      <td>Ashford</td>\n",
              "      <td>CT</td>\n",
              "      <td>0</td>\n",
              "      <td>11052658</td>\n",
              "      <td>Ashford, Northeastern Connecticut Planning Reg...</td>\n",
              "      <td>boundary</td>\n",
              "      <td>administrative</td>\n",
              "      <td>41.8731532,-72.1214653</td>\n",
              "      <td>POINT (-72.12147 41.87315)</td>\n",
              "    </tr>\n",
              "    <tr>\n",
              "      <th>3</th>\n",
              "      <td>Avon</td>\n",
              "      <td>CT</td>\n",
              "      <td>0</td>\n",
              "      <td>5946925</td>\n",
              "      <td>Avon, Capitol Planning Region, Connecticut, 06...</td>\n",
              "      <td>boundary</td>\n",
              "      <td>administrative</td>\n",
              "      <td>41.8098209,-72.8306541</td>\n",
              "      <td>POINT (-72.83065 41.80982)</td>\n",
              "    </tr>\n",
              "    <tr>\n",
              "      <th>4</th>\n",
              "      <td>Barkhamsted</td>\n",
              "      <td>CT</td>\n",
              "      <td>0</td>\n",
              "      <td>11052518</td>\n",
              "      <td>Barkhamsted, Northwest Hills Planning Region, ...</td>\n",
              "      <td>boundary</td>\n",
              "      <td>administrative</td>\n",
              "      <td>41.9292629,-72.9139904</td>\n",
              "      <td>POINT (-72.91399 41.92926)</td>\n",
              "    </tr>\n",
              "  </tbody>\n",
              "</table>\n",
              "</div>\n",
              "    <div class=\"colab-df-buttons\">\n",
              "\n",
              "  <div class=\"colab-df-container\">\n",
              "    <button class=\"colab-df-convert\" onclick=\"convertToInteractive('df-b3cebddf-2d3b-4373-8934-9bd04396d50a')\"\n",
              "            title=\"Convert this dataframe to an interactive table.\"\n",
              "            style=\"display:none;\">\n",
              "\n",
              "  <svg xmlns=\"http://www.w3.org/2000/svg\" height=\"24px\" viewBox=\"0 -960 960 960\">\n",
              "    <path d=\"M120-120v-720h720v720H120Zm60-500h600v-160H180v160Zm220 220h160v-160H400v160Zm0 220h160v-160H400v160ZM180-400h160v-160H180v160Zm440 0h160v-160H620v160ZM180-180h160v-160H180v160Zm440 0h160v-160H620v160Z\"/>\n",
              "  </svg>\n",
              "    </button>\n",
              "\n",
              "  <style>\n",
              "    .colab-df-container {\n",
              "      display:flex;\n",
              "      gap: 12px;\n",
              "    }\n",
              "\n",
              "    .colab-df-convert {\n",
              "      background-color: #E8F0FE;\n",
              "      border: none;\n",
              "      border-radius: 50%;\n",
              "      cursor: pointer;\n",
              "      display: none;\n",
              "      fill: #1967D2;\n",
              "      height: 32px;\n",
              "      padding: 0 0 0 0;\n",
              "      width: 32px;\n",
              "    }\n",
              "\n",
              "    .colab-df-convert:hover {\n",
              "      background-color: #E2EBFA;\n",
              "      box-shadow: 0px 1px 2px rgba(60, 64, 67, 0.3), 0px 1px 3px 1px rgba(60, 64, 67, 0.15);\n",
              "      fill: #174EA6;\n",
              "    }\n",
              "\n",
              "    .colab-df-buttons div {\n",
              "      margin-bottom: 4px;\n",
              "    }\n",
              "\n",
              "    [theme=dark] .colab-df-convert {\n",
              "      background-color: #3B4455;\n",
              "      fill: #D2E3FC;\n",
              "    }\n",
              "\n",
              "    [theme=dark] .colab-df-convert:hover {\n",
              "      background-color: #434B5C;\n",
              "      box-shadow: 0px 1px 3px 1px rgba(0, 0, 0, 0.15);\n",
              "      filter: drop-shadow(0px 1px 2px rgba(0, 0, 0, 0.3));\n",
              "      fill: #FFFFFF;\n",
              "    }\n",
              "  </style>\n",
              "\n",
              "    <script>\n",
              "      const buttonEl =\n",
              "        document.querySelector('#df-b3cebddf-2d3b-4373-8934-9bd04396d50a button.colab-df-convert');\n",
              "      buttonEl.style.display =\n",
              "        google.colab.kernel.accessAllowed ? 'block' : 'none';\n",
              "\n",
              "      async function convertToInteractive(key) {\n",
              "        const element = document.querySelector('#df-b3cebddf-2d3b-4373-8934-9bd04396d50a');\n",
              "        const dataTable =\n",
              "          await google.colab.kernel.invokeFunction('convertToInteractive',\n",
              "                                                    [key], {});\n",
              "        if (!dataTable) return;\n",
              "\n",
              "        const docLinkHtml = 'Like what you see? Visit the ' +\n",
              "          '<a target=\"_blank\" href=https://colab.research.google.com/notebooks/data_table.ipynb>data table notebook</a>'\n",
              "          + ' to learn more about interactive tables.';\n",
              "        element.innerHTML = '';\n",
              "        dataTable['output_type'] = 'display_data';\n",
              "        await google.colab.output.renderOutput(dataTable, element);\n",
              "        const docLink = document.createElement('div');\n",
              "        docLink.innerHTML = docLinkHtml;\n",
              "        element.appendChild(docLink);\n",
              "      }\n",
              "    </script>\n",
              "  </div>\n",
              "\n",
              "\n",
              "<div id=\"df-332c35ed-0136-4cd0-8e57-b7f3fd7e4dba\">\n",
              "  <button class=\"colab-df-quickchart\" onclick=\"quickchart('df-332c35ed-0136-4cd0-8e57-b7f3fd7e4dba')\"\n",
              "            title=\"Suggest charts\"\n",
              "            style=\"display:none;\">\n",
              "\n",
              "<svg xmlns=\"http://www.w3.org/2000/svg\" height=\"24px\"viewBox=\"0 0 24 24\"\n",
              "     width=\"24px\">\n",
              "    <g>\n",
              "        <path d=\"M19 3H5c-1.1 0-2 .9-2 2v14c0 1.1.9 2 2 2h14c1.1 0 2-.9 2-2V5c0-1.1-.9-2-2-2zM9 17H7v-7h2v7zm4 0h-2V7h2v10zm4 0h-2v-4h2v4z\"/>\n",
              "    </g>\n",
              "</svg>\n",
              "  </button>\n",
              "\n",
              "<style>\n",
              "  .colab-df-quickchart {\n",
              "      --bg-color: #E8F0FE;\n",
              "      --fill-color: #1967D2;\n",
              "      --hover-bg-color: #E2EBFA;\n",
              "      --hover-fill-color: #174EA6;\n",
              "      --disabled-fill-color: #AAA;\n",
              "      --disabled-bg-color: #DDD;\n",
              "  }\n",
              "\n",
              "  [theme=dark] .colab-df-quickchart {\n",
              "      --bg-color: #3B4455;\n",
              "      --fill-color: #D2E3FC;\n",
              "      --hover-bg-color: #434B5C;\n",
              "      --hover-fill-color: #FFFFFF;\n",
              "      --disabled-bg-color: #3B4455;\n",
              "      --disabled-fill-color: #666;\n",
              "  }\n",
              "\n",
              "  .colab-df-quickchart {\n",
              "    background-color: var(--bg-color);\n",
              "    border: none;\n",
              "    border-radius: 50%;\n",
              "    cursor: pointer;\n",
              "    display: none;\n",
              "    fill: var(--fill-color);\n",
              "    height: 32px;\n",
              "    padding: 0;\n",
              "    width: 32px;\n",
              "  }\n",
              "\n",
              "  .colab-df-quickchart:hover {\n",
              "    background-color: var(--hover-bg-color);\n",
              "    box-shadow: 0 1px 2px rgba(60, 64, 67, 0.3), 0 1px 3px 1px rgba(60, 64, 67, 0.15);\n",
              "    fill: var(--button-hover-fill-color);\n",
              "  }\n",
              "\n",
              "  .colab-df-quickchart-complete:disabled,\n",
              "  .colab-df-quickchart-complete:disabled:hover {\n",
              "    background-color: var(--disabled-bg-color);\n",
              "    fill: var(--disabled-fill-color);\n",
              "    box-shadow: none;\n",
              "  }\n",
              "\n",
              "  .colab-df-spinner {\n",
              "    border: 2px solid var(--fill-color);\n",
              "    border-color: transparent;\n",
              "    border-bottom-color: var(--fill-color);\n",
              "    animation:\n",
              "      spin 1s steps(1) infinite;\n",
              "  }\n",
              "\n",
              "  @keyframes spin {\n",
              "    0% {\n",
              "      border-color: transparent;\n",
              "      border-bottom-color: var(--fill-color);\n",
              "      border-left-color: var(--fill-color);\n",
              "    }\n",
              "    20% {\n",
              "      border-color: transparent;\n",
              "      border-left-color: var(--fill-color);\n",
              "      border-top-color: var(--fill-color);\n",
              "    }\n",
              "    30% {\n",
              "      border-color: transparent;\n",
              "      border-left-color: var(--fill-color);\n",
              "      border-top-color: var(--fill-color);\n",
              "      border-right-color: var(--fill-color);\n",
              "    }\n",
              "    40% {\n",
              "      border-color: transparent;\n",
              "      border-right-color: var(--fill-color);\n",
              "      border-top-color: var(--fill-color);\n",
              "    }\n",
              "    60% {\n",
              "      border-color: transparent;\n",
              "      border-right-color: var(--fill-color);\n",
              "    }\n",
              "    80% {\n",
              "      border-color: transparent;\n",
              "      border-right-color: var(--fill-color);\n",
              "      border-bottom-color: var(--fill-color);\n",
              "    }\n",
              "    90% {\n",
              "      border-color: transparent;\n",
              "      border-bottom-color: var(--fill-color);\n",
              "    }\n",
              "  }\n",
              "</style>\n",
              "\n",
              "  <script>\n",
              "    async function quickchart(key) {\n",
              "      const quickchartButtonEl =\n",
              "        document.querySelector('#' + key + ' button');\n",
              "      quickchartButtonEl.disabled = true;  // To prevent multiple clicks.\n",
              "      quickchartButtonEl.classList.add('colab-df-spinner');\n",
              "      try {\n",
              "        const charts = await google.colab.kernel.invokeFunction(\n",
              "            'suggestCharts', [key], {});\n",
              "      } catch (error) {\n",
              "        console.error('Error during call to suggestCharts:', error);\n",
              "      }\n",
              "      quickchartButtonEl.classList.remove('colab-df-spinner');\n",
              "      quickchartButtonEl.classList.add('colab-df-quickchart-complete');\n",
              "    }\n",
              "    (() => {\n",
              "      let quickchartButtonEl =\n",
              "        document.querySelector('#df-332c35ed-0136-4cd0-8e57-b7f3fd7e4dba button');\n",
              "      quickchartButtonEl.style.display =\n",
              "        google.colab.kernel.accessAllowed ? 'block' : 'none';\n",
              "    })();\n",
              "  </script>\n",
              "</div>\n",
              "\n",
              "    </div>\n",
              "  </div>\n"
            ],
            "application/vnd.google.colaboratory.intrinsic+json": {
              "type": "dataframe",
              "variable_name": "df_geo",
              "summary": "{\n  \"name\": \"df_geo\",\n  \"rows\": 170,\n  \"fields\": [\n    {\n      \"column\": \"Town\",\n      \"properties\": {\n        \"dtype\": \"string\",\n        \"num_unique_values\": 170,\n        \"samples\": [\n          \"Suffield\",\n          \"Connecticut\",\n          \"Rocky Hill\"\n        ],\n        \"semantic_type\": \"\",\n        \"description\": \"\"\n      }\n    },\n    {\n      \"column\": \"State\",\n      \"properties\": {\n        \"dtype\": \"category\",\n        \"num_unique_values\": 1,\n        \"samples\": [\n          \"CT\"\n        ],\n        \"semantic_type\": \"\",\n        \"description\": \"\"\n      }\n    },\n    {\n      \"column\": \"result_num\",\n      \"properties\": {\n        \"dtype\": \"category\",\n        \"num_unique_values\": 1,\n        \"samples\": [\n          \"0\"\n        ],\n        \"semantic_type\": \"\",\n        \"description\": \"\"\n      }\n    },\n    {\n      \"column\": \"osm_id\",\n      \"properties\": {\n        \"dtype\": \"string\",\n        \"num_unique_values\": 170,\n        \"samples\": [\n          \"11062458\"\n        ],\n        \"semantic_type\": \"\",\n        \"description\": \"\"\n      }\n    },\n    {\n      \"column\": \"display_name\",\n      \"properties\": {\n        \"dtype\": \"string\",\n        \"num_unique_values\": 170,\n        \"samples\": [\n          \"Suffield, Capitol Planning Region, Connecticut, United States\"\n        ],\n        \"semantic_type\": \"\",\n        \"description\": \"\"\n      }\n    },\n    {\n      \"column\": \"category\",\n      \"properties\": {\n        \"dtype\": \"category\",\n        \"num_unique_values\": 3,\n        \"samples\": [\n          \"boundary\"\n        ],\n        \"semantic_type\": \"\",\n        \"description\": \"\"\n      }\n    },\n    {\n      \"column\": \"type\",\n      \"properties\": {\n        \"dtype\": \"category\",\n        \"num_unique_values\": 7,\n        \"samples\": [\n          \"administrative\"\n        ],\n        \"semantic_type\": \"\",\n        \"description\": \"\"\n      }\n    },\n    {\n      \"column\": \"latlong\",\n      \"properties\": {\n        \"dtype\": \"string\",\n        \"num_unique_values\": 170,\n        \"samples\": [\n          \"41.9816944,-72.6506604\"\n        ],\n        \"semantic_type\": \"\",\n        \"description\": \"\"\n      }\n    },\n    {\n      \"column\": \"geometry\",\n      \"properties\": {\n        \"dtype\": \"geometry\",\n        \"num_unique_values\": 170,\n        \"samples\": [\n          \"POINT (-72.6506604 41.9816944)\"\n        ],\n        \"semantic_type\": \"\",\n        \"description\": \"\"\n      }\n    }\n  ]\n}"
            }
          },
          "metadata": {},
          "execution_count": 24
        }
      ]
    },
    {
      "source": [
        "print('Town' in df.columns)\n",
        "print('Town' in geojson_df.columns)"
      ],
      "cell_type": "code",
      "metadata": {
        "colab": {
          "base_uri": "https://localhost:8080/"
        },
        "id": "f3-w2O_zFgHU",
        "outputId": "8cde428b-ede1-469d-d1f2-f413bab7af91"
      },
      "execution_count": null,
      "outputs": [
        {
          "output_type": "stream",
          "name": "stdout",
          "text": [
            "True\n",
            "True\n"
          ]
        }
      ]
    },
    {
      "cell_type": "code",
      "source": [
        "geojson_df['Town'] = geojson_df['Town'].astype(str)"
      ],
      "metadata": {
        "id": "dRlrDVdCWpm_"
      },
      "execution_count": null,
      "outputs": []
    },
    {
      "cell_type": "code",
      "source": [
        "geojson_df.info()"
      ],
      "metadata": {
        "id": "KXU2bqGSRKCL",
        "colab": {
          "base_uri": "https://localhost:8080/"
        },
        "outputId": "da0203a0-e24a-4493-8d36-05db5e50d76f"
      },
      "execution_count": null,
      "outputs": [
        {
          "output_type": "stream",
          "name": "stdout",
          "text": [
            "<class 'geopandas.geodataframe.GeoDataFrame'>\n",
            "RangeIndex: 170 entries, 0 to 169\n",
            "Data columns (total 9 columns):\n",
            " #   Column        Non-Null Count  Dtype   \n",
            "---  ------        --------------  -----   \n",
            " 0   Town          170 non-null    object  \n",
            " 1   State         170 non-null    object  \n",
            " 2   result_num    170 non-null    object  \n",
            " 3   osm_id        170 non-null    object  \n",
            " 4   display_name  170 non-null    object  \n",
            " 5   category      170 non-null    object  \n",
            " 6   type          170 non-null    object  \n",
            " 7   latlong       170 non-null    object  \n",
            " 8   geometry      170 non-null    geometry\n",
            "dtypes: geometry(1), object(8)\n",
            "memory usage: 12.1+ KB\n"
          ]
        }
      ]
    },
    {
      "source": [
        "geojson_df['geometry'] = geojson_df['geometry'].apply(lambda geom: geom.wkt)"
      ],
      "cell_type": "code",
      "metadata": {
        "colab": {
          "base_uri": "https://localhost:8080/"
        },
        "id": "ncEBhtOdQVHy",
        "outputId": "cd1ae3bb-6243-47b5-a6d3-51e2675a4ffa"
      },
      "execution_count": null,
      "outputs": [
        {
          "output_type": "stream",
          "name": "stderr",
          "text": [
            "/usr/local/lib/python3.10/dist-packages/geopandas/geodataframe.py:1537: UserWarning: Geometry column does not contain geometry.\n",
            "  warnings.warn(\"Geometry column does not contain geometry.\")\n"
          ]
        }
      ]
    },
    {
      "cell_type": "code",
      "source": [
        "geojson_df.info()"
      ],
      "metadata": {
        "colab": {
          "base_uri": "https://localhost:8080/"
        },
        "id": "-R58Ly8JZCno",
        "outputId": "f8e0bed2-ccd0-41c6-b8d0-862ec6ece84d"
      },
      "execution_count": null,
      "outputs": [
        {
          "output_type": "stream",
          "name": "stdout",
          "text": [
            "<class 'geopandas.geodataframe.GeoDataFrame'>\n",
            "RangeIndex: 170 entries, 0 to 169\n",
            "Data columns (total 9 columns):\n",
            " #   Column        Non-Null Count  Dtype \n",
            "---  ------        --------------  ----- \n",
            " 0   Town          170 non-null    object\n",
            " 1   State         170 non-null    object\n",
            " 2   result_num    170 non-null    object\n",
            " 3   osm_id        170 non-null    object\n",
            " 4   display_name  170 non-null    object\n",
            " 5   category      170 non-null    object\n",
            " 6   type          170 non-null    object\n",
            " 7   latlong       170 non-null    object\n",
            " 8   geometry      170 non-null    object\n",
            "dtypes: object(9)\n",
            "memory usage: 12.1+ KB\n"
          ]
        }
      ]
    },
    {
      "cell_type": "code",
      "source": [
        "spark_geo_df = spark.createDataFrame(geojson_df)"
      ],
      "metadata": {
        "id": "vEdxLpkUZJQ7"
      },
      "execution_count": null,
      "outputs": []
    },
    {
      "cell_type": "code",
      "source": [
        "merged_df_spark = df.join(spark_geo_df, on=\"Town\", how=\"left\")"
      ],
      "metadata": {
        "id": "pP0Aj05vZQK9"
      },
      "execution_count": null,
      "outputs": []
    },
    {
      "cell_type": "code",
      "source": [
        "merged_df_spark.show()"
      ],
      "metadata": {
        "colab": {
          "base_uri": "https://localhost:8080/"
        },
        "id": "0NWEk-VyZUBV",
        "outputId": "a6eec2dc-2d75-4ce0-f77d-8031b4d6815d"
      },
      "execution_count": null,
      "outputs": [
        {
          "output_type": "stream",
          "name": "stdout",
          "text": [
            "+-------+----+--------------------+--------------------------+--------------------------------------+--------+-----+----------+--------+--------------------+--------+--------------+--------------------+--------------------+\n",
            "|   Town|Year|          Crime Type|Number of Crimes Committed|Number of Crimes Committed per 100,000|Crime ID|State|result_num|  osm_id|        display_name|category|          type|             latlong|            geometry|\n",
            "+-------+----+--------------------+--------------------------+--------------------------------------+--------+-----+----------+--------+--------------------+--------+--------------+--------------------+--------------------+\n",
            "|Andover|2010|         Total Crime|                      35.0|                                1098.6|       0|   CT|         0|11059524|Andover, Capitol ...|boundary|administrative|41.7373212,-72.37036|POINT (-72.37036 ...|\n",
            "|Andover|2010| Total Violent Crime|                       1.0|                                  31.4|       1|   CT|         0|11059524|Andover, Capitol ...|boundary|administrative|41.7373212,-72.37036|POINT (-72.37036 ...|\n",
            "|Andover|2010|Total Property Crime|                      34.0|                                1067.2|       2|   CT|         0|11059524|Andover, Capitol ...|boundary|administrative|41.7373212,-72.37036|POINT (-72.37036 ...|\n",
            "|Andover|2010|  Aggravated Assault|                       0.0|                                   0.0|       3|   CT|         0|11059524|Andover, Capitol ...|boundary|administrative|41.7373212,-72.37036|POINT (-72.37036 ...|\n",
            "|Andover|2010|              Murder|                       0.0|                                   0.0|       4|   CT|         0|11059524|Andover, Capitol ...|boundary|administrative|41.7373212,-72.37036|POINT (-72.37036 ...|\n",
            "|Andover|2010|                Rape|                       0.0|                                   0.0|       5|   CT|         0|11059524|Andover, Capitol ...|boundary|administrative|41.7373212,-72.37036|POINT (-72.37036 ...|\n",
            "|Andover|2010|             Robbery|                       1.0|                                  31.4|       6|   CT|         0|11059524|Andover, Capitol ...|boundary|administrative|41.7373212,-72.37036|POINT (-72.37036 ...|\n",
            "|Andover|2010|            Burglary|                      16.0|                                 502.2|       7|   CT|         0|11059524|Andover, Capitol ...|boundary|administrative|41.7373212,-72.37036|POINT (-72.37036 ...|\n",
            "|Andover|2010|             Larceny|                      17.0|                                 533.6|       8|   CT|         0|11059524|Andover, Capitol ...|boundary|administrative|41.7373212,-72.37036|POINT (-72.37036 ...|\n",
            "|Andover|2010| Motor Vehicle Theft|                       1.0|                                  31.4|       9|   CT|         0|11059524|Andover, Capitol ...|boundary|administrative|41.7373212,-72.37036|POINT (-72.37036 ...|\n",
            "|Andover|2010|               Arson|                       1.0|                                  31.4|      10|   CT|         0|11059524|Andover, Capitol ...|boundary|administrative|41.7373212,-72.37036|POINT (-72.37036 ...|\n",
            "|Andover|2011|         Total Crime|                      26.0|                                 814.5|      11|   CT|         0|11059524|Andover, Capitol ...|boundary|administrative|41.7373212,-72.37036|POINT (-72.37036 ...|\n",
            "|Andover|2011| Total Violent Crime|                       1.0|                                  31.3|      12|   CT|         0|11059524|Andover, Capitol ...|boundary|administrative|41.7373212,-72.37036|POINT (-72.37036 ...|\n",
            "|Andover|2011|Total Property Crime|                      25.0|                                 783.2|      13|   CT|         0|11059524|Andover, Capitol ...|boundary|administrative|41.7373212,-72.37036|POINT (-72.37036 ...|\n",
            "|Andover|2011|  Aggravated Assault|                       0.0|                                   0.0|      14|   CT|         0|11059524|Andover, Capitol ...|boundary|administrative|41.7373212,-72.37036|POINT (-72.37036 ...|\n",
            "|Andover|2011|              Murder|                       0.0|                                   0.0|      15|   CT|         0|11059524|Andover, Capitol ...|boundary|administrative|41.7373212,-72.37036|POINT (-72.37036 ...|\n",
            "|Andover|2011|                Rape|                       0.0|                                   0.0|      16|   CT|         0|11059524|Andover, Capitol ...|boundary|administrative|41.7373212,-72.37036|POINT (-72.37036 ...|\n",
            "|Andover|2011|             Robbery|                       1.0|                                  31.3|      17|   CT|         0|11059524|Andover, Capitol ...|boundary|administrative|41.7373212,-72.37036|POINT (-72.37036 ...|\n",
            "|Andover|2011|            Burglary|                      18.0|                                 563.9|      18|   CT|         0|11059524|Andover, Capitol ...|boundary|administrative|41.7373212,-72.37036|POINT (-72.37036 ...|\n",
            "|Andover|2011|             Larceny|                       6.0|                                 188.0|      19|   CT|         0|11059524|Andover, Capitol ...|boundary|administrative|41.7373212,-72.37036|POINT (-72.37036 ...|\n",
            "+-------+----+--------------------+--------------------------+--------------------------------------+--------+-----+----------+--------+--------------------+--------+--------------+--------------------+--------------------+\n",
            "only showing top 20 rows\n",
            "\n"
          ]
        }
      ]
    },
    {
      "cell_type": "code",
      "source": [
        "# List of columns to drop\n",
        "columns_to_drop = ['result_num', 'osm_id', 'display_name', 'category', 'type', 'latlong']\n",
        "\n",
        "# Drop the specified columns\n",
        "merged_df_spark = merged_df_spark.drop(*columns_to_drop)\n",
        "\n",
        "# Show the resulting DataFrame\n",
        "merged_df_spark.show()"
      ],
      "metadata": {
        "colab": {
          "base_uri": "https://localhost:8080/"
        },
        "id": "W1HfgWTZsDPf",
        "outputId": "233d907c-17d6-404c-c995-0ee6c9f8f619"
      },
      "execution_count": null,
      "outputs": [
        {
          "output_type": "stream",
          "name": "stdout",
          "text": [
            "+-------+----+--------------------+--------------------------+--------------------------------------+--------+-----+--------------------+\n",
            "|   Town|Year|          Crime Type|Number of Crimes Committed|Number of Crimes Committed per 100,000|Crime ID|State|            geometry|\n",
            "+-------+----+--------------------+--------------------------+--------------------------------------+--------+-----+--------------------+\n",
            "|Andover|2010|         Total Crime|                      35.0|                                1098.6|       0|   CT|POINT (-72.37036 ...|\n",
            "|Andover|2010| Total Violent Crime|                       1.0|                                  31.4|       1|   CT|POINT (-72.37036 ...|\n",
            "|Andover|2010|Total Property Crime|                      34.0|                                1067.2|       2|   CT|POINT (-72.37036 ...|\n",
            "|Andover|2010|  Aggravated Assault|                       0.0|                                   0.0|       3|   CT|POINT (-72.37036 ...|\n",
            "|Andover|2010|              Murder|                       0.0|                                   0.0|       4|   CT|POINT (-72.37036 ...|\n",
            "|Andover|2010|                Rape|                       0.0|                                   0.0|       5|   CT|POINT (-72.37036 ...|\n",
            "|Andover|2010|             Robbery|                       1.0|                                  31.4|       6|   CT|POINT (-72.37036 ...|\n",
            "|Andover|2010|            Burglary|                      16.0|                                 502.2|       7|   CT|POINT (-72.37036 ...|\n",
            "|Andover|2010|             Larceny|                      17.0|                                 533.6|       8|   CT|POINT (-72.37036 ...|\n",
            "|Andover|2010| Motor Vehicle Theft|                       1.0|                                  31.4|       9|   CT|POINT (-72.37036 ...|\n",
            "|Andover|2010|               Arson|                       1.0|                                  31.4|      10|   CT|POINT (-72.37036 ...|\n",
            "|Andover|2011|         Total Crime|                      26.0|                                 814.5|      11|   CT|POINT (-72.37036 ...|\n",
            "|Andover|2011| Total Violent Crime|                       1.0|                                  31.3|      12|   CT|POINT (-72.37036 ...|\n",
            "|Andover|2011|Total Property Crime|                      25.0|                                 783.2|      13|   CT|POINT (-72.37036 ...|\n",
            "|Andover|2011|  Aggravated Assault|                       0.0|                                   0.0|      14|   CT|POINT (-72.37036 ...|\n",
            "|Andover|2011|              Murder|                       0.0|                                   0.0|      15|   CT|POINT (-72.37036 ...|\n",
            "|Andover|2011|                Rape|                       0.0|                                   0.0|      16|   CT|POINT (-72.37036 ...|\n",
            "|Andover|2011|             Robbery|                       1.0|                                  31.3|      17|   CT|POINT (-72.37036 ...|\n",
            "|Andover|2011|            Burglary|                      18.0|                                 563.9|      18|   CT|POINT (-72.37036 ...|\n",
            "|Andover|2011|             Larceny|                       6.0|                                 188.0|      19|   CT|POINT (-72.37036 ...|\n",
            "+-------+----+--------------------+--------------------------+--------------------------------------+--------+-----+--------------------+\n",
            "only showing top 20 rows\n",
            "\n"
          ]
        }
      ]
    },
    {
      "cell_type": "code",
      "source": [
        "for col_name in merged_df_spark.columns:\n",
        "    # Filter and count null values and empty strings in the column\n",
        "    null_count = merged_df_spark.filter(col(col_name).isNull() | (col(col_name) == \"\")).count()\n",
        "    # Print the column name and corresponding null count\n",
        "    print(f\"Column: {col_name}\\t Null Count: {null_count}\")\n",
        "\n",
        "# Count total rows in the DataFrame\n",
        "total_count = merged_df_spark.count()\n",
        "print(f\"Total Count: {total_count}\")"
      ],
      "metadata": {
        "colab": {
          "base_uri": "https://localhost:8080/"
        },
        "id": "RCyiscx-salN",
        "outputId": "996cb401-62e0-471d-f65b-fe0903d46a84"
      },
      "execution_count": null,
      "outputs": [
        {
          "output_type": "stream",
          "name": "stdout",
          "text": [
            "Column: Town\t Null Count: 0\n",
            "Column: Year\t Null Count: 0\n",
            "Column: Crime Type\t Null Count: 0\n",
            "Column: Number of Crimes Committed\t Null Count: 0\n",
            "Column: Number of Crimes Committed per 100,000\t Null Count: 0\n",
            "Column: Crime ID\t Null Count: 0\n",
            "Column: State\t Null Count: 0\n",
            "Column: geometry\t Null Count: 0\n",
            "Total Count: 14960\n"
          ]
        }
      ]
    },
    {
      "cell_type": "code",
      "source": [
        "# Repartition the DataFrame to have only one partition\n",
        "merged_df_spark = merged_df_spark.repartition(1)\n",
        "\n",
        "# Write the DataFrame to a new CSV file\n",
        "merged_df_spark.write.csv(\"Crime.csv\", header=True)\n",
        "\n",
        "# Download the CSV file to the system\n",
        "from google.colab import files\n",
        "files.download(\"Crime.csv\")"
      ],
      "metadata": {
        "id": "1yXbE3Wrsqdc"
      },
      "execution_count": null,
      "outputs": []
    }
  ],
  "metadata": {
    "application/vnd.databricks.v1+notebook": {
      "dashboards": [],
      "language": "python",
      "notebookMetadata": {
        "pythonIndentUnit": 4
      },
      "notebookName": "AIT664-Group001-Connecticut-Crime-Data",
      "widgets": {}
    },
    "colab": {
      "provenance": []
    },
    "language_info": {
      "name": "python"
    },
    "kernelspec": {
      "name": "python3",
      "display_name": "Python 3"
    }
  },
  "nbformat": 4,
  "nbformat_minor": 0
}