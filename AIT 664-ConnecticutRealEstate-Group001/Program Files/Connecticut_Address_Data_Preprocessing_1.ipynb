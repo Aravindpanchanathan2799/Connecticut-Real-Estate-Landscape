{
  "nbformat": 4,
  "nbformat_minor": 0,
  "metadata": {
    "colab": {
      "provenance": []
    },
    "kernelspec": {
      "name": "python3",
      "display_name": "Python 3"
    },
    "language_info": {
      "name": "python"
    }
  },
  "cells": [
    {
      "cell_type": "code",
      "source": [
        "!pip install geopandas\n",
        "!pip install shapely"
      ],
      "metadata": {
        "colab": {
          "base_uri": "https://localhost:8080/"
        },
        "id": "ubEna9SpPwuu",
        "outputId": "de3ab712-9b75-4cc5-aa26-c14a2889e349"
      },
      "execution_count": 145,
      "outputs": [
        {
          "output_type": "stream",
          "name": "stdout",
          "text": [
            "Requirement already satisfied: geopandas in /usr/local/lib/python3.10/dist-packages (0.13.2)\n",
            "Requirement already satisfied: fiona>=1.8.19 in /usr/local/lib/python3.10/dist-packages (from geopandas) (1.9.6)\n",
            "Requirement already satisfied: packaging in /usr/local/lib/python3.10/dist-packages (from geopandas) (24.0)\n",
            "Requirement already satisfied: pandas>=1.1.0 in /usr/local/lib/python3.10/dist-packages (from geopandas) (2.0.3)\n",
            "Requirement already satisfied: pyproj>=3.0.1 in /usr/local/lib/python3.10/dist-packages (from geopandas) (3.6.1)\n",
            "Requirement already satisfied: shapely>=1.7.1 in /usr/local/lib/python3.10/dist-packages (from geopandas) (2.0.3)\n",
            "Requirement already satisfied: attrs>=19.2.0 in /usr/local/lib/python3.10/dist-packages (from fiona>=1.8.19->geopandas) (23.2.0)\n",
            "Requirement already satisfied: certifi in /usr/local/lib/python3.10/dist-packages (from fiona>=1.8.19->geopandas) (2024.2.2)\n",
            "Requirement already satisfied: click~=8.0 in /usr/local/lib/python3.10/dist-packages (from fiona>=1.8.19->geopandas) (8.1.7)\n",
            "Requirement already satisfied: click-plugins>=1.0 in /usr/local/lib/python3.10/dist-packages (from fiona>=1.8.19->geopandas) (1.1.1)\n",
            "Requirement already satisfied: cligj>=0.5 in /usr/local/lib/python3.10/dist-packages (from fiona>=1.8.19->geopandas) (0.7.2)\n",
            "Requirement already satisfied: six in /usr/local/lib/python3.10/dist-packages (from fiona>=1.8.19->geopandas) (1.16.0)\n",
            "Requirement already satisfied: python-dateutil>=2.8.2 in /usr/local/lib/python3.10/dist-packages (from pandas>=1.1.0->geopandas) (2.8.2)\n",
            "Requirement already satisfied: pytz>=2020.1 in /usr/local/lib/python3.10/dist-packages (from pandas>=1.1.0->geopandas) (2023.4)\n",
            "Requirement already satisfied: tzdata>=2022.1 in /usr/local/lib/python3.10/dist-packages (from pandas>=1.1.0->geopandas) (2024.1)\n",
            "Requirement already satisfied: numpy>=1.21.0 in /usr/local/lib/python3.10/dist-packages (from pandas>=1.1.0->geopandas) (1.25.2)\n",
            "Requirement already satisfied: shapely in /usr/local/lib/python3.10/dist-packages (2.0.3)\n",
            "Requirement already satisfied: numpy<2,>=1.14 in /usr/local/lib/python3.10/dist-packages (from shapely) (1.25.2)\n"
          ]
        }
      ]
    },
    {
      "cell_type": "code",
      "source": [
        "import geopandas as gpd\n",
        "import shapely\n",
        "import pandas as pd\n",
        "import numpy as np"
      ],
      "metadata": {
        "id": "duem_6CePzTt"
      },
      "execution_count": 146,
      "outputs": []
    },
    {
      "cell_type": "code",
      "source": [
        "geojson_df = gpd.read_file(\"/ConnecticutAddress-Geocoded.geojson\")\n"
      ],
      "metadata": {
        "id": "ZFMuvh_UP3ki"
      },
      "execution_count": 147,
      "outputs": []
    },
    {
      "cell_type": "code",
      "source": [
        "geojson_df.info()"
      ],
      "metadata": {
        "colab": {
          "base_uri": "https://localhost:8080/"
        },
        "id": "CVvC961dfjzz",
        "outputId": "07d29161-28a8-4b04-ea5d-7a9304edb19c"
      },
      "execution_count": 148,
      "outputs": [
        {
          "output_type": "stream",
          "name": "stdout",
          "text": [
            "<class 'geopandas.geodataframe.GeoDataFrame'>\n",
            "RangeIndex: 69796 entries, 0 to 69795\n",
            "Data columns (total 22 columns):\n",
            " #   Column        Non-Null Count  Dtype   \n",
            "---  ------        --------------  -----   \n",
            " 0   Address       69796 non-null  object  \n",
            " 1   Town          69796 non-null  object  \n",
            " 2   State         69796 non-null  object  \n",
            " 3   field_4       69796 non-null  object  \n",
            " 4   field_5       69796 non-null  object  \n",
            " 5   field_6       69796 non-null  object  \n",
            " 6   field_7       69796 non-null  object  \n",
            " 7   field_8       69796 non-null  object  \n",
            " 8   field_9       69796 non-null  object  \n",
            " 9   field_10      69796 non-null  object  \n",
            " 10  field_11      69796 non-null  object  \n",
            " 11  field_12      69796 non-null  object  \n",
            " 12  field_13      69796 non-null  object  \n",
            " 13  field_14      69796 non-null  object  \n",
            " 14  field_15      69796 non-null  object  \n",
            " 15  result_num    69796 non-null  object  \n",
            " 16  osm_id        69796 non-null  object  \n",
            " 17  display_name  69796 non-null  object  \n",
            " 18  category      69796 non-null  object  \n",
            " 19  type          69796 non-null  object  \n",
            " 20  latlong       69796 non-null  object  \n",
            " 21  geometry      69796 non-null  geometry\n",
            "dtypes: geometry(1), object(21)\n",
            "memory usage: 11.7+ MB\n"
          ]
        }
      ]
    },
    {
      "cell_type": "code",
      "source": [
        "geojson_df[['Latitude', 'Longitude']] = geojson_df['latlong'].str.split(',', expand=True)\n",
        "# Convert 'Latitude' and 'Longitude' columns to numeric type\n",
        "geojson_df['Latitude'] = pd.to_numeric(geojson_df['Latitude'])\n",
        "geojson_df['Longitude'] = pd.to_numeric(geojson_df['Longitude'])\n",
        "# Drop the original 'latlong' column\n",
        "geojson_df.drop(columns=['latlong'], inplace=True)"
      ],
      "metadata": {
        "id": "Lh1HPPSOZo20"
      },
      "execution_count": 149,
      "outputs": []
    },
    {
      "cell_type": "code",
      "source": [
        "towns = geojson_df['Town'].copy()\n",
        "elements_to_remove = ['136', '21']\n",
        "mask = np.logical_not(np.isin(towns, elements_to_remove))\n",
        "filtered_towns = towns[mask]\n",
        "print(len(filtered_towns.unique()))"
      ],
      "metadata": {
        "colab": {
          "base_uri": "https://localhost:8080/"
        },
        "id": "SDsOl5ayTBBD",
        "outputId": "a8fb2446-996d-48c3-beb3-f2c1866b4d53"
      },
      "execution_count": 150,
      "outputs": [
        {
          "output_type": "stream",
          "name": "stdout",
          "text": [
            "169\n"
          ]
        }
      ]
    },
    {
      "cell_type": "code",
      "source": [
        "real_estate_df = pd.read_csv(\"/Real_Estate_Sales_2001-2021_GL_20240304.csv\")\n",
        "real_estate_df.count()"
      ],
      "metadata": {
        "colab": {
          "base_uri": "https://localhost:8080/"
        },
        "id": "x3Z2Q-bPSDd1",
        "outputId": "13de5156-76ed-4c48-87d8-ee9c77ff2636"
      },
      "execution_count": 151,
      "outputs": [
        {
          "output_type": "stream",
          "name": "stderr",
          "text": [
            "<ipython-input-151-da2ff1d2f238>:1: DtypeWarning: Columns (8,9,10,11,12) have mixed types. Specify dtype option on import or set low_memory=False.\n",
            "  real_estate_df = pd.read_csv(\"/Real_Estate_Sales_2001-2021_GL_20240304.csv\")\n"
          ]
        },
        {
          "output_type": "execute_result",
          "data": {
            "text/plain": [
              "Serial Number       1054159\n",
              "List Year           1054159\n",
              "Date Recorded       1054157\n",
              "Town                1054159\n",
              "Address             1054108\n",
              "Assessed Value      1054159\n",
              "Sale Amount         1054159\n",
              "Sales Ratio         1054159\n",
              "Property Type        671713\n",
              "Residential Type     660275\n",
              "Non Use Code         302242\n",
              "Assessor Remarks     161472\n",
              "OPM remarks           11564\n",
              "Location             254643\n",
              "dtype: int64"
            ]
          },
          "metadata": {},
          "execution_count": 151
        }
      ]
    },
    {
      "cell_type": "code",
      "source": [
        "properties = [\"Single Family\", \"Two Family\", \"Three Family\", \"Four Family\", \"Condo\"]\n",
        "real_estate_df = real_estate_df[real_estate_df['Residential Type'].isin(properties)]\n",
        "real_estate_df.count()"
      ],
      "metadata": {
        "colab": {
          "base_uri": "https://localhost:8080/"
        },
        "id": "exAXfIxOWJiX",
        "outputId": "ae51cbca-491a-4886-fa23-a0c9946f4eb2"
      },
      "execution_count": 152,
      "outputs": [
        {
          "output_type": "execute_result",
          "data": {
            "text/plain": [
              "Serial Number       660275\n",
              "List Year           660275\n",
              "Date Recorded       660275\n",
              "Town                660275\n",
              "Address             660271\n",
              "Assessed Value      660275\n",
              "Sale Amount         660275\n",
              "Sales Ratio         660275\n",
              "Property Type       660275\n",
              "Residential Type    660275\n",
              "Non Use Code        192329\n",
              "Assessor Remarks    134811\n",
              "OPM remarks          10470\n",
              "Location            175126\n",
              "dtype: int64"
            ]
          },
          "metadata": {},
          "execution_count": 152
        }
      ]
    },
    {
      "cell_type": "code",
      "source": [
        "real_estate_df['Location'].count()"
      ],
      "metadata": {
        "colab": {
          "base_uri": "https://localhost:8080/"
        },
        "id": "oPBdL2CTliDF",
        "outputId": "e1060e82-16d5-450f-cfdd-c36a4d0e02aa"
      },
      "execution_count": 153,
      "outputs": [
        {
          "output_type": "execute_result",
          "data": {
            "text/plain": [
              "175126"
            ]
          },
          "metadata": {},
          "execution_count": 153
        }
      ]
    },
    {
      "cell_type": "code",
      "source": [
        "def create_point(latitude, longitude):\n",
        "    return f\"POINT ({longitude} {latitude})\""
      ],
      "metadata": {
        "id": "thNGfgg8YWFx"
      },
      "execution_count": 154,
      "outputs": []
    },
    {
      "cell_type": "code",
      "source": [
        "null_location_df = real_estate_df[real_estate_df['Location'].isnull()]\n",
        "merged_df = pd.merge(null_location_df, geojson_df, on='Address', how='left')\n",
        "merged_df['Location'] = merged_df.apply(lambda row: create_point(row['Latitude'], row['Longitude']), axis=1)\n",
        "merged_df.drop_duplicates(subset=['Address', 'Location'], keep='first', inplace=True)"
      ],
      "metadata": {
        "id": "Xr4GyY5_YH0Z"
      },
      "execution_count": 155,
      "outputs": []
    },
    {
      "cell_type": "code",
      "source": [
        "merged_df = merged_df[merged_df['Location'] != 'POINT (nan nan)']\n",
        "merged_df['Location'].count()\n",
        "merged_df.rename(columns={'Town_x': 'Town'}, inplace=True)\n",
        "merged_df.info()"
      ],
      "metadata": {
        "colab": {
          "base_uri": "https://localhost:8080/"
        },
        "id": "oLGoNid1d3qF",
        "outputId": "c6b1b045-b99c-4e57-e5e2-db57efa0bf7d"
      },
      "execution_count": 156,
      "outputs": [
        {
          "output_type": "stream",
          "name": "stdout",
          "text": [
            "<class 'pandas.core.frame.DataFrame'>\n",
            "Index: 43763 entries, 0 to 492250\n",
            "Data columns (total 36 columns):\n",
            " #   Column            Non-Null Count  Dtype   \n",
            "---  ------            --------------  -----   \n",
            " 0   Serial Number     43763 non-null  int64   \n",
            " 1   List Year         43763 non-null  int64   \n",
            " 2   Date Recorded     43763 non-null  object  \n",
            " 3   Town              43763 non-null  object  \n",
            " 4   Address           43763 non-null  object  \n",
            " 5   Assessed Value    43763 non-null  float64 \n",
            " 6   Sale Amount       43763 non-null  float64 \n",
            " 7   Sales Ratio       43763 non-null  float64 \n",
            " 8   Property Type     43763 non-null  object  \n",
            " 9   Residential Type  43763 non-null  object  \n",
            " 10  Non Use Code      8403 non-null   object  \n",
            " 11  Assessor Remarks  5365 non-null   object  \n",
            " 12  OPM remarks       746 non-null    object  \n",
            " 13  Location          43763 non-null  object  \n",
            " 14  Town_y            43763 non-null  object  \n",
            " 15  State             43763 non-null  object  \n",
            " 16  field_4           43763 non-null  object  \n",
            " 17  field_5           43763 non-null  object  \n",
            " 18  field_6           43763 non-null  object  \n",
            " 19  field_7           43763 non-null  object  \n",
            " 20  field_8           43763 non-null  object  \n",
            " 21  field_9           43763 non-null  object  \n",
            " 22  field_10          43763 non-null  object  \n",
            " 23  field_11          43763 non-null  object  \n",
            " 24  field_12          43763 non-null  object  \n",
            " 25  field_13          43763 non-null  object  \n",
            " 26  field_14          43763 non-null  object  \n",
            " 27  field_15          43763 non-null  object  \n",
            " 28  result_num        43763 non-null  object  \n",
            " 29  osm_id            43763 non-null  object  \n",
            " 30  display_name      43763 non-null  object  \n",
            " 31  category          43763 non-null  object  \n",
            " 32  type              43763 non-null  object  \n",
            " 33  geometry          43763 non-null  geometry\n",
            " 34  Latitude          43763 non-null  float64 \n",
            " 35  Longitude         43763 non-null  float64 \n",
            "dtypes: float64(5), geometry(1), int64(2), object(28)\n",
            "memory usage: 12.4+ MB\n"
          ]
        },
        {
          "output_type": "stream",
          "name": "stderr",
          "text": [
            "<ipython-input-156-0da28d5bdb2a>:3: SettingWithCopyWarning: \n",
            "A value is trying to be set on a copy of a slice from a DataFrame\n",
            "\n",
            "See the caveats in the documentation: https://pandas.pydata.org/pandas-docs/stable/user_guide/indexing.html#returning-a-view-versus-a-copy\n",
            "  merged_df.rename(columns={'Town_x': 'Town'}, inplace=True)\n"
          ]
        }
      ]
    },
    {
      "cell_type": "code",
      "source": [
        "# Columns to drop\n",
        "columns_to_drop = ['Town_y', 'State', 'field_4', 'field_5', 'field_6', 'field_7',\n",
        "                   'field_8', 'field_9', 'field_10', 'field_11', 'field_12', 'field_13',\n",
        "                   'field_14', 'field_15', 'result_num', 'osm_id', 'display_name',\n",
        "                   'category', 'type', 'geometry', 'Latitude', 'Longitude']\n",
        "\n",
        "# Drop the specified columns\n",
        "merged_df.drop(columns=columns_to_drop, inplace=True)\n"
      ],
      "metadata": {
        "id": "tdWhq1aBfwrh"
      },
      "execution_count": 157,
      "outputs": []
    },
    {
      "cell_type": "code",
      "source": [
        "merged_df.count()"
      ],
      "metadata": {
        "colab": {
          "base_uri": "https://localhost:8080/"
        },
        "id": "vZZK136xlZjD",
        "outputId": "dc3cf495-25f6-4c61-e6ce-0cbd7992ffc6"
      },
      "execution_count": 158,
      "outputs": [
        {
          "output_type": "execute_result",
          "data": {
            "text/plain": [
              "Serial Number       43763\n",
              "List Year           43763\n",
              "Date Recorded       43763\n",
              "Town                43763\n",
              "Address             43763\n",
              "Assessed Value      43763\n",
              "Sale Amount         43763\n",
              "Sales Ratio         43763\n",
              "Property Type       43763\n",
              "Residential Type    43763\n",
              "Non Use Code         8403\n",
              "Assessor Remarks     5365\n",
              "OPM remarks           746\n",
              "Location            43763\n",
              "dtype: int64"
            ]
          },
          "metadata": {},
          "execution_count": 158
        }
      ]
    },
    {
      "cell_type": "code",
      "source": [
        "merged_real_estate_df = pd.merge(real_estate_df, merged_df, on='Address', how='left', suffixes=('_existing', '_merged'))\n",
        "null_location_mask = merged_real_estate_df['Location_existing'].isnull()\n",
        "merged_real_estate_df.loc[null_location_mask, 'Location_existing'] = merged_real_estate_df.loc[null_location_mask, 'Location_merged']\n",
        "merged_real_estate_df.drop(columns=['Location_merged'], inplace=True)"
      ],
      "metadata": {
        "id": "59rLZzhmghsK"
      },
      "execution_count": 159,
      "outputs": []
    },
    {
      "cell_type": "code",
      "source": [
        "merged_real_estate_df = merged_real_estate_df[merged_real_estate_df['Location_existing'].notnull()]\n",
        "merged_real_estate_df.count()"
      ],
      "metadata": {
        "colab": {
          "base_uri": "https://localhost:8080/"
        },
        "id": "VOOu1P0WlQC1",
        "outputId": "f879b49b-41a8-4878-a985-c296a742a057"
      },
      "execution_count": 160,
      "outputs": [
        {
          "output_type": "execute_result",
          "data": {
            "text/plain": [
              "Serial Number_existing       243680\n",
              "List Year_existing           243680\n",
              "Date Recorded_existing       243680\n",
              "Town_existing                243680\n",
              "Address                      243680\n",
              "Assessed Value_existing      243680\n",
              "Sale Amount_existing         243680\n",
              "Sales Ratio_existing         243680\n",
              "Property Type_existing       243680\n",
              "Residential Type_existing    243680\n",
              "Non Use Code_existing         62874\n",
              "Assessor Remarks_existing     45174\n",
              "OPM remarks_existing           4638\n",
              "Location_existing            243680\n",
              "Serial Number_merged          75061\n",
              "List Year_merged              75061\n",
              "Date Recorded_merged          75061\n",
              "Town_merged                   75061\n",
              "Assessed Value_merged         75061\n",
              "Sale Amount_merged            75061\n",
              "Sales Ratio_merged            75061\n",
              "Property Type_merged          75061\n",
              "Residential Type_merged       75061\n",
              "Non Use Code_merged           15186\n",
              "Assessor Remarks_merged        9636\n",
              "OPM remarks_merged             1493\n",
              "dtype: int64"
            ]
          },
          "metadata": {},
          "execution_count": 160
        }
      ]
    },
    {
      "cell_type": "code",
      "source": [
        "merged_real_estate_df.info()"
      ],
      "metadata": {
        "colab": {
          "base_uri": "https://localhost:8080/"
        },
        "id": "rvxciVQNscnH",
        "outputId": "4544682f-da1a-4e13-d431-2224fae1d577"
      },
      "execution_count": 161,
      "outputs": [
        {
          "output_type": "stream",
          "name": "stdout",
          "text": [
            "<class 'pandas.core.frame.DataFrame'>\n",
            "Index: 243680 entries, 0 to 663538\n",
            "Data columns (total 26 columns):\n",
            " #   Column                     Non-Null Count   Dtype  \n",
            "---  ------                     --------------   -----  \n",
            " 0   Serial Number_existing     243680 non-null  int64  \n",
            " 1   List Year_existing         243680 non-null  int64  \n",
            " 2   Date Recorded_existing     243680 non-null  object \n",
            " 3   Town_existing              243680 non-null  object \n",
            " 4   Address                    243680 non-null  object \n",
            " 5   Assessed Value_existing    243680 non-null  float64\n",
            " 6   Sale Amount_existing       243680 non-null  float64\n",
            " 7   Sales Ratio_existing       243680 non-null  float64\n",
            " 8   Property Type_existing     243680 non-null  object \n",
            " 9   Residential Type_existing  243680 non-null  object \n",
            " 10  Non Use Code_existing      62874 non-null   object \n",
            " 11  Assessor Remarks_existing  45174 non-null   object \n",
            " 12  OPM remarks_existing       4638 non-null    object \n",
            " 13  Location_existing          243680 non-null  object \n",
            " 14  Serial Number_merged       75061 non-null   float64\n",
            " 15  List Year_merged           75061 non-null   float64\n",
            " 16  Date Recorded_merged       75061 non-null   object \n",
            " 17  Town_merged                75061 non-null   object \n",
            " 18  Assessed Value_merged      75061 non-null   float64\n",
            " 19  Sale Amount_merged         75061 non-null   float64\n",
            " 20  Sales Ratio_merged         75061 non-null   float64\n",
            " 21  Property Type_merged       75061 non-null   object \n",
            " 22  Residential Type_merged    75061 non-null   object \n",
            " 23  Non Use Code_merged        15186 non-null   object \n",
            " 24  Assessor Remarks_merged    9636 non-null    object \n",
            " 25  OPM remarks_merged         1493 non-null    object \n",
            "dtypes: float64(8), int64(2), object(16)\n",
            "memory usage: 50.2+ MB\n"
          ]
        }
      ]
    },
    {
      "cell_type": "code",
      "source": [
        "# Columns to drop\n",
        "columns_to_drop = ['Serial Number_merged', 'List Year_merged', 'Date Recorded_merged',\n",
        "                   'Town_merged', 'Assessed Value_merged', 'Sale Amount_merged',\n",
        "                   'Sales Ratio_merged', 'Property Type_merged', 'Residential Type_merged',\n",
        "                   'Non Use Code_merged', 'Assessor Remarks_merged', 'OPM remarks_merged']\n",
        "\n",
        "# Drop the specified columns\n",
        "merged_real_estate_df.drop(columns=columns_to_drop, inplace=True)"
      ],
      "metadata": {
        "id": "95VY1UCWsGHi"
      },
      "execution_count": 162,
      "outputs": []
    },
    {
      "cell_type": "code",
      "source": [
        "# Remove the '_existing' suffix from column names\n",
        "merged_real_estate_df.rename(columns=lambda x: x.replace('_existing', ''), inplace=True)"
      ],
      "metadata": {
        "id": "fXk8PWIVsnZb"
      },
      "execution_count": 163,
      "outputs": []
    },
    {
      "cell_type": "code",
      "source": [
        "from google.colab import files\n",
        "merged_real_estate_df.to_csv('AIT664-Group001-Connecticut-RealEstateData-Preprocessed-Part01.csv', index=False)\n",
        "files.download('AIT664-Group001-Connecticut-RealEstateData-Preprocessed-Part01.csv')"
      ],
      "metadata": {
        "colab": {
          "base_uri": "https://localhost:8080/",
          "height": 17
        },
        "id": "hvSoPsE0sqwa",
        "outputId": "a743f35c-49a2-49ab-883d-2a2d3ece9379"
      },
      "execution_count": 144,
      "outputs": [
        {
          "output_type": "display_data",
          "data": {
            "text/plain": [
              "<IPython.core.display.Javascript object>"
            ],
            "application/javascript": [
              "\n",
              "    async function download(id, filename, size) {\n",
              "      if (!google.colab.kernel.accessAllowed) {\n",
              "        return;\n",
              "      }\n",
              "      const div = document.createElement('div');\n",
              "      const label = document.createElement('label');\n",
              "      label.textContent = `Downloading \"${filename}\": `;\n",
              "      div.appendChild(label);\n",
              "      const progress = document.createElement('progress');\n",
              "      progress.max = size;\n",
              "      div.appendChild(progress);\n",
              "      document.body.appendChild(div);\n",
              "\n",
              "      const buffers = [];\n",
              "      let downloaded = 0;\n",
              "\n",
              "      const channel = await google.colab.kernel.comms.open(id);\n",
              "      // Send a message to notify the kernel that we're ready.\n",
              "      channel.send({})\n",
              "\n",
              "      for await (const message of channel.messages) {\n",
              "        // Send a message to notify the kernel that we're ready.\n",
              "        channel.send({})\n",
              "        if (message.buffers) {\n",
              "          for (const buffer of message.buffers) {\n",
              "            buffers.push(buffer);\n",
              "            downloaded += buffer.byteLength;\n",
              "            progress.value = downloaded;\n",
              "          }\n",
              "        }\n",
              "      }\n",
              "      const blob = new Blob(buffers, {type: 'application/binary'});\n",
              "      const a = document.createElement('a');\n",
              "      a.href = window.URL.createObjectURL(blob);\n",
              "      a.download = filename;\n",
              "      div.appendChild(a);\n",
              "      a.click();\n",
              "      div.remove();\n",
              "    }\n",
              "  "
            ]
          },
          "metadata": {}
        },
        {
          "output_type": "display_data",
          "data": {
            "text/plain": [
              "<IPython.core.display.Javascript object>"
            ],
            "application/javascript": [
              "download(\"download_dc6c8af9-4499-4e8e-8430-92294d09280e\", \"AIT664-Group001-Connecticut-RealEstateData-Preprocessed-Part01.csv\", 34640716)"
            ]
          },
          "metadata": {}
        }
      ]
    }
  ]
}