{
  "nbformat": 4,
  "nbformat_minor": 0,
  "metadata": {
    "colab": {
      "provenance": []
    },
    "kernelspec": {
      "name": "python3",
      "display_name": "Python 3"
    },
    "language_info": {
      "name": "python"
    }
  },
  "cells": [
    {
      "cell_type": "code",
      "execution_count": 23,
      "metadata": {
        "id": "LQC3sZt81ni3",
        "colab": {
          "base_uri": "https://localhost:8080/"
        },
        "outputId": "6bbf4f5c-784a-47d8-8785-92641e7bb28e"
      },
      "outputs": [
        {
          "output_type": "stream",
          "name": "stdout",
          "text": [
            "Requirement already satisfied: pyspark in /usr/local/lib/python3.10/dist-packages (3.5.1)\n",
            "Requirement already satisfied: py4j==0.10.9.7 in /usr/local/lib/python3.10/dist-packages (from pyspark) (0.10.9.7)\n"
          ]
        }
      ],
      "source": [
        "!pip install pyspark\n"
      ]
    },
    {
      "cell_type": "code",
      "source": [
        "from pyspark.sql import SparkSession\n",
        "\n",
        "# Create a SparkSession\n",
        "spark = SparkSession \\\n",
        "        .builder \\\n",
        "        .appName(\"Test\") \\\n",
        "        .config(\"spark.some.config.option\", \"some-value\") \\\n",
        "        .getOrCreate()"
      ],
      "metadata": {
        "id": "fyrtm-4419aE"
      },
      "execution_count": 24,
      "outputs": []
    },
    {
      "cell_type": "code",
      "source": [
        "df=spark.read.csv(\"/content/Combined.csv\",header=True,inferSchema=True)\n",
        "print(df.dtypes)\n",
        "df.printSchema()"
      ],
      "metadata": {
        "colab": {
          "base_uri": "https://localhost:8080/"
        },
        "id": "jNK57PN11_OQ",
        "outputId": "1bd3be1b-f5c6-4149-b8a6-9257aee3a9cc"
      },
      "execution_count": 25,
      "outputs": [
        {
          "output_type": "stream",
          "name": "stdout",
          "text": [
            "[('Town', 'string'), ('Year', 'int'), ('Residential Type', 'string'), ('Serial Number', 'int'), ('List Year', 'int'), ('Date Recorded', 'date'), ('Address', 'string'), ('Assessed Value', 'double'), ('Sale Amount', 'double'), ('Sales Ratio', 'double'), ('Location', 'string'), ('Total Crimes Committed', 'double'), ('Average Crimes per 100,000', 'double'), ('Number of Schools', 'int'), ('Number of Healthcare facilities', 'int')]\n",
            "root\n",
            " |-- Town: string (nullable = true)\n",
            " |-- Year: integer (nullable = true)\n",
            " |-- Residential Type: string (nullable = true)\n",
            " |-- Serial Number: integer (nullable = true)\n",
            " |-- List Year: integer (nullable = true)\n",
            " |-- Date Recorded: date (nullable = true)\n",
            " |-- Address: string (nullable = true)\n",
            " |-- Assessed Value: double (nullable = true)\n",
            " |-- Sale Amount: double (nullable = true)\n",
            " |-- Sales Ratio: double (nullable = true)\n",
            " |-- Location: string (nullable = true)\n",
            " |-- Total Crimes Committed: double (nullable = true)\n",
            " |-- Average Crimes per 100,000: double (nullable = true)\n",
            " |-- Number of Schools: integer (nullable = true)\n",
            " |-- Number of Healthcare facilities: integer (nullable = true)\n",
            "\n"
          ]
        }
      ]
    },
    {
      "cell_type": "code",
      "source": [
        "from pyspark.sql import SparkSession\n",
        "from pyspark.sql.functions import col\n",
        "from pyspark.sql.window import Window\n",
        "import pyspark.sql.functions as F\n",
        "from pyspark.sql.functions import round, mean, when\n",
        "from pyspark.sql.functions import to_date, date_format"
      ],
      "metadata": {
        "id": "gNbFxxiM2VYA"
      },
      "execution_count": 26,
      "outputs": []
    },
    {
      "cell_type": "code",
      "source": [
        "# Define a list of desired property types\n",
        "desired_types = [\"Condo\", \"Single Family\", \"Two Family\", \"Three Family\", \"Four Family\"]\n",
        "# Filter the DataFrame based on the list\n",
        "df = df.filter(df[\"Residential Type\"].isin(desired_types))\n",
        "print(df.count())"
      ],
      "metadata": {
        "colab": {
          "base_uri": "https://localhost:8080/"
        },
        "id": "bcVaTgz42ZyW",
        "outputId": "92d26d04-710a-4639-f910-4ba1777af9c9"
      },
      "execution_count": 27,
      "outputs": [
        {
          "output_type": "stream",
          "name": "stdout",
          "text": [
            "60992\n"
          ]
        }
      ]
    },
    {
      "cell_type": "code",
      "source": [
        "print(df.distinct().count())"
      ],
      "metadata": {
        "colab": {
          "base_uri": "https://localhost:8080/"
        },
        "id": "qQVgBKU92jNL",
        "outputId": "b8dbeb16-0b51-4691-dfaf-14caa887269d"
      },
      "execution_count": 28,
      "outputs": [
        {
          "output_type": "stream",
          "name": "stdout",
          "text": [
            "60842\n"
          ]
        }
      ]
    },
    {
      "cell_type": "code",
      "source": [
        "for col in df.columns:\n",
        "    null_count = df.filter(df[col].isNull() | (df[col] == \"\")).count()\n",
        "    print(f\"Column: {col}\\t Null Count: {null_count}\")\n",
        "total_count = df.count()\n",
        "print(f\"Total Count: {total_count}\")"
      ],
      "metadata": {
        "colab": {
          "base_uri": "https://localhost:8080/"
        },
        "id": "sBwQUIlF2qrT",
        "outputId": "14b70231-37e0-4104-e802-f3d6ec071e53"
      },
      "execution_count": 29,
      "outputs": [
        {
          "output_type": "stream",
          "name": "stdout",
          "text": [
            "Column: Town\t Null Count: 0\n",
            "Column: Year\t Null Count: 0\n",
            "Column: Residential Type\t Null Count: 0\n",
            "Column: Serial Number\t Null Count: 0\n",
            "Column: List Year\t Null Count: 0\n",
            "Column: Date Recorded\t Null Count: 0\n",
            "Column: Address\t Null Count: 0\n",
            "Column: Assessed Value\t Null Count: 0\n",
            "Column: Sale Amount\t Null Count: 0\n",
            "Column: Sales Ratio\t Null Count: 0\n",
            "Column: Location\t Null Count: 0\n",
            "Column: Total Crimes Committed\t Null Count: 0\n",
            "Column: Average Crimes per 100,000\t Null Count: 0\n",
            "Column: Number of Schools\t Null Count: 0\n",
            "Column: Number of Healthcare facilities\t Null Count: 0\n",
            "Total Count: 60992\n"
          ]
        }
      ]
    },
    {
      "cell_type": "code",
      "source": [
        "df.show(20)"
      ],
      "metadata": {
        "colab": {
          "base_uri": "https://localhost:8080/"
        },
        "id": "39cFgr646Q-2",
        "outputId": "9d2f72d0-c6d7-4e9a-92b7-a1bfa3181d6f"
      },
      "execution_count": 32,
      "outputs": [
        {
          "output_type": "stream",
          "name": "stdout",
          "text": [
            "+------------+----+----------------+-------------+---------+-------------+-------------------+--------------+-----------+-----------+--------------------+----------------------+--------------------------+-----------------+-------------------------------+\n",
            "|        Town|Year|Residential Type|Serial Number|List Year|Date Recorded|            Address|Assessed Value|Sale Amount|Sales Ratio|            Location|Total Crimes Committed|Average Crimes per 100,000|Number of Schools|Number of Healthcare facilities|\n",
            "+------------+----+----------------+-------------+---------+-------------+-------------------+--------------+-----------+-----------+--------------------+----------------------+--------------------------+-----------------+-------------------------------+\n",
            "|        Avon|2010|           Condo|        90146|     2009|   2010-04-12|      3 WILLOW LANE|      125870.0|   168500.0|       0.75|POINT (-72.875838...|                 577.0|                    315.73|                5|                              4|\n",
            "|     Windsor|2010|           Condo|        90270|     2009|   2010-06-18|     91 VICTORIA ST|       52990.0|    87000.0|       0.61|POINT (-72.657879...|                1596.0|                    489.61|                5|                              2|\n",
            "|  Rocky Hill|2011|           Condo|       100183|     2010|   2011-08-11|    27 HICKORY LANE|      141540.0|   168500.0|       0.84|POINT (-73.451804...|                 816.0|                    392.71|                4|                              5|\n",
            "|   Stratford|2011|           Condo|       100354|     2010|   2011-04-29|     6 SHORELINE DR|      451500.0|   420000.0|       1.08|POINT (-73.127357...|                5140.0|                    889.29|               12|                              4|\n",
            "|      Berlin|2012|           Condo|       110102|     2011|   2012-02-10|        7 QUARRY LN|      250000.0|   351450.0|       0.71|POINT (-73.411158...|                 995.0|                    471.02|                3|                              0|\n",
            "|    Branford|2011|           Condo|       110047|     2011|   2011-11-21|      4 JERIMOTH DR|      178700.0|   215000.0|       0.83|POINT (-72.822317...|                2335.0|                    703.86|                5|                              4|\n",
            "|        Avon|2011|           Condo|       110050|     2011|   2011-12-16|  18 HERITAGE DRIVE|      101430.0|   139000.0|       0.73|POINT (-72.875445...|                 543.0|                    296.58|                5|                              4|\n",
            "|Wethersfield|2012|           Condo|        12019|     2012|   2012-10-25|       19 SPRING ST|      119400.0|   145000.0|       0.82|POINT (-72.618704...|                1300.0|                    426.68|                7|                              0|\n",
            "|    Cromwell|2014|           Condo|       130091|     2013|   2014-03-10|    8 SHAWNEE COURT|      119960.0|   188500.0|       0.64|POINT (-72.669477...|                 939.0|                    628.86|                4|                              4|\n",
            "|    Cromwell|2014|           Condo|       130184|     2013|   2014-07-24|      3 SOUTHBRIDGE|      371470.0|   562500.0|       0.66|POINT (-72.634517...|                 939.0|                    628.86|                4|                              4|\n",
            "|      Monroe|2015|           Condo|        14055|     2014|   2015-01-07|  13 MEADOWLARK CIR|      149700.0|   190000.0|       0.79|POINT (-73.254408...|                 378.0|                    169.46|                5|                              0|\n",
            "|     Enfield|2015|           Condo|       140195|     2014|   2015-02-27|        133 MEADOWS|      110230.0|   151000.0|       0.73|POINT (-72.556748...|                2533.0|                     483.4|                8|                              2|\n",
            "|     Madison|2016|           Condo|       150223|     2015|   2016-05-18|7A YANKEE GLEN ROAD|      180000.0|   207000.0|       0.87|POINT (-72.596673...|                 252.0|                    122.03|                5|                              0|\n",
            "|   Stratford|2015|           Condo|       150040|     2015|   2015-10-19|      5 HAWLEY GLEN|      109830.0|   140000.0|       0.78|POINT (-73.145721...|                3905.0|                    674.24|               12|                              4|\n",
            "|  Plainville|2015|           Condo|       150010|     2015|   2015-10-07|        18 CROWN ST|      169610.0|   245000.0|       0.69|POINT (-73.436445...|                1528.0|                    760.86|                4|                              2|\n",
            "|  Plainville|2015|           Condo|       150010|     2015|   2015-10-07|        18 CROWN ST|      169610.0|   245000.0|       0.69|POINT (-72.863367...|                1528.0|                    760.86|                4|                              2|\n",
            "|  Bridgeport|2017|           Condo|       167930|     2016|   2017-09-27|       95 LANCE CIR|      105820.0|   148000.0|       0.72|POINT (-73.232772...|               14207.0|                    879.35|               29|                              8|\n",
            "|  Farmington|2016|           Condo|        16010|     2016|   2016-10-05|     2 PARTRIDGE LA|      177280.0|   275000.0|       0.64|POINT (-72.888721...|                2019.0|                    738.57|                5|                              8|\n",
            "|    Guilford|2016|           Condo|      1600025|     2016|   2016-10-18|     7 RIVER COLONY|       93510.0|   140000.0|       0.67|POINT (-72.693737...|                 624.0|                    252.19|                7|                              6|\n",
            "|     Windsor|2017|           Condo|       160217|     2016|   2017-04-03|   116 HIGH PATH RD|       39690.0|    90000.0|       0.44|POINT (-72.652656...|                2457.0|                    751.48|                5|                              2|\n",
            "+------------+----+----------------+-------------+---------+-------------+-------------------+--------------+-----------+-----------+--------------------+----------------------+--------------------------+-----------------+-------------------------------+\n",
            "only showing top 20 rows\n",
            "\n"
          ]
        }
      ]
    },
    {
      "cell_type": "code",
      "source": [
        "# Group records by Town, List Year, and Residential Type, and calculate the average Assessed Value\n",
        "avg_assessed_value = df.groupby([\"Town\", \"List Year\", \"Residential Type\"]).agg(round(mean(df[\"Assessed Value\"]), 0).alias(\"Avg Assessed Value\"))\n",
        "\n",
        "# Show the result\n",
        "avg_assessed_value.show()\n"
      ],
      "metadata": {
        "colab": {
          "base_uri": "https://localhost:8080/"
        },
        "id": "zxRA9odq7uqc",
        "outputId": "045551e2-31bc-42b8-f809-63f5c21634ca"
      },
      "execution_count": 33,
      "outputs": [
        {
          "output_type": "stream",
          "name": "stdout",
          "text": [
            "+----------------+---------+----------------+------------------+\n",
            "|            Town|List Year|Residential Type|Avg Assessed Value|\n",
            "+----------------+---------+----------------+------------------+\n",
            "|       Naugatuck|     2009|   Single Family|          165287.0|\n",
            "|       Naugatuck|     2009|           Condo|          105142.0|\n",
            "|   South Windsor|     2011|           Condo|          139654.0|\n",
            "|          Oxford|     2012|   Single Family|          209362.0|\n",
            "|          Easton|     2013|   Single Family|          472500.0|\n",
            "|North Stonington|     2013|   Single Family|          189941.0|\n",
            "|        Stafford|     2013|   Single Family|          132853.0|\n",
            "|      Middlebury|     2013|           Condo|          125411.0|\n",
            "|    East Hampton|     2014|   Single Family|          191122.0|\n",
            "|         Wolcott|     2014|   Single Family|          176561.0|\n",
            "|        Cheshire|     2011|   Single Family|          259582.0|\n",
            "|    Old Saybrook|     2011|           Condo|          311500.0|\n",
            "|   East Hartford|     2013|           Condo|           50427.0|\n",
            "|          Putnam|     2013|           Condo|          133033.0|\n",
            "|            Kent|     2014|   Single Family|          288517.0|\n",
            "|      Plainville|     2014|           Condo|           90814.0|\n",
            "|        Cromwell|     2015|   Single Family|          204007.0|\n",
            "|    Old Saybrook|     2009|   Single Family|          251686.0|\n",
            "|          Lisbon|     2010|   Single Family|          204008.0|\n",
            "|         Tolland|     2011|   Single Family|          210330.0|\n",
            "+----------------+---------+----------------+------------------+\n",
            "only showing top 20 rows\n",
            "\n"
          ]
        }
      ]
    },
    {
      "cell_type": "code",
      "source": [
        "# Join the original DataFrame with the average Assessed Value DataFrame\n",
        "df = df.join(avg_assessed_value, on=[\"Town\", \"List Year\", \"Residential Type\"], how=\"left\")\n",
        "\n",
        "# Replace 0 values in Assessed Value column with the average Assessed Value\n",
        "df = df.withColumn(\"Assessed Value\", when(df[\"Assessed Value\"] == 0, df[\"Avg Assessed Value\"]).otherwise(df[\"Assessed Value\"]))\n",
        "\n",
        "# Drop the Avg Assessed Value column\n",
        "df = df.drop(\"Avg Assessed Value\")\n",
        "\n",
        "\n"
      ],
      "metadata": {
        "id": "sRCDWPwn8ES5"
      },
      "execution_count": 34,
      "outputs": []
    },
    {
      "cell_type": "code",
      "source": [
        "df.show()"
      ],
      "metadata": {
        "colab": {
          "base_uri": "https://localhost:8080/"
        },
        "id": "hikQB-sx8G80",
        "outputId": "fa38e143-663c-4797-ef3d-91b0b607cb53"
      },
      "execution_count": 36,
      "outputs": [
        {
          "output_type": "stream",
          "name": "stdout",
          "text": [
            "+------------+---------+----------------+----+-------------+-------------+-------------------+--------------+-----------+-----------+--------------------+----------------------+--------------------------+-----------------+-------------------------------+\n",
            "|        Town|List Year|Residential Type|Year|Serial Number|Date Recorded|            Address|Assessed Value|Sale Amount|Sales Ratio|            Location|Total Crimes Committed|Average Crimes per 100,000|Number of Schools|Number of Healthcare facilities|\n",
            "+------------+---------+----------------+----+-------------+-------------+-------------------+--------------+-----------+-----------+--------------------+----------------------+--------------------------+-----------------+-------------------------------+\n",
            "|        Avon|     2009|           Condo|2010|        90146|   2010-04-12|      3 WILLOW LANE|      125870.0|   168500.0|       0.75|POINT (-72.875838...|                 577.0|                    315.73|                5|                              4|\n",
            "|     Windsor|     2009|           Condo|2010|        90270|   2010-06-18|     91 VICTORIA ST|       52990.0|    87000.0|       0.61|POINT (-72.657879...|                1596.0|                    489.61|                5|                              2|\n",
            "|  Rocky Hill|     2010|           Condo|2011|       100183|   2011-08-11|    27 HICKORY LANE|      141540.0|   168500.0|       0.84|POINT (-73.451804...|                 816.0|                    392.71|                4|                              5|\n",
            "|   Stratford|     2010|           Condo|2011|       100354|   2011-04-29|     6 SHORELINE DR|      451500.0|   420000.0|       1.08|POINT (-73.127357...|                5140.0|                    889.29|               12|                              4|\n",
            "|      Berlin|     2011|           Condo|2012|       110102|   2012-02-10|        7 QUARRY LN|      250000.0|   351450.0|       0.71|POINT (-73.411158...|                 995.0|                    471.02|                3|                              0|\n",
            "|    Branford|     2011|           Condo|2011|       110047|   2011-11-21|      4 JERIMOTH DR|      178700.0|   215000.0|       0.83|POINT (-72.822317...|                2335.0|                    703.86|                5|                              4|\n",
            "|        Avon|     2011|           Condo|2011|       110050|   2011-12-16|  18 HERITAGE DRIVE|      101430.0|   139000.0|       0.73|POINT (-72.875445...|                 543.0|                    296.58|                5|                              4|\n",
            "|Wethersfield|     2012|           Condo|2012|        12019|   2012-10-25|       19 SPRING ST|      119400.0|   145000.0|       0.82|POINT (-72.618704...|                1300.0|                    426.68|                7|                              0|\n",
            "|    Cromwell|     2013|           Condo|2014|       130091|   2014-03-10|    8 SHAWNEE COURT|      119960.0|   188500.0|       0.64|POINT (-72.669477...|                 939.0|                    628.86|                4|                              4|\n",
            "|    Cromwell|     2013|           Condo|2014|       130184|   2014-07-24|      3 SOUTHBRIDGE|      371470.0|   562500.0|       0.66|POINT (-72.634517...|                 939.0|                    628.86|                4|                              4|\n",
            "|      Monroe|     2014|           Condo|2015|        14055|   2015-01-07|  13 MEADOWLARK CIR|      149700.0|   190000.0|       0.79|POINT (-73.254408...|                 378.0|                    169.46|                5|                              0|\n",
            "|     Enfield|     2014|           Condo|2015|       140195|   2015-02-27|        133 MEADOWS|      110230.0|   151000.0|       0.73|POINT (-72.556748...|                2533.0|                     483.4|                8|                              2|\n",
            "|     Madison|     2015|           Condo|2016|       150223|   2016-05-18|7A YANKEE GLEN ROAD|      180000.0|   207000.0|       0.87|POINT (-72.596673...|                 252.0|                    122.03|                5|                              0|\n",
            "|   Stratford|     2015|           Condo|2015|       150040|   2015-10-19|      5 HAWLEY GLEN|      109830.0|   140000.0|       0.78|POINT (-73.145721...|                3905.0|                    674.24|               12|                              4|\n",
            "|  Plainville|     2015|           Condo|2015|       150010|   2015-10-07|        18 CROWN ST|      169610.0|   245000.0|       0.69|POINT (-73.436445...|                1528.0|                    760.86|                4|                              2|\n",
            "|  Plainville|     2015|           Condo|2015|       150010|   2015-10-07|        18 CROWN ST|      169610.0|   245000.0|       0.69|POINT (-72.863367...|                1528.0|                    760.86|                4|                              2|\n",
            "|  Bridgeport|     2016|           Condo|2017|       167930|   2017-09-27|       95 LANCE CIR|      105820.0|   148000.0|       0.72|POINT (-73.232772...|               14207.0|                    879.35|               29|                              8|\n",
            "|  Farmington|     2016|           Condo|2016|        16010|   2016-10-05|     2 PARTRIDGE LA|      177280.0|   275000.0|       0.64|POINT (-72.888721...|                2019.0|                    738.57|                5|                              8|\n",
            "|    Guilford|     2016|           Condo|2016|      1600025|   2016-10-18|     7 RIVER COLONY|       93510.0|   140000.0|       0.67|POINT (-72.693737...|                 624.0|                    252.19|                7|                              6|\n",
            "|     Windsor|     2016|           Condo|2017|       160217|   2017-04-03|   116 HIGH PATH RD|       39690.0|    90000.0|       0.44|POINT (-72.652656...|                2457.0|                    751.48|                5|                              2|\n",
            "+------------+---------+----------------+----+-------------+-------------+-------------------+--------------+-----------+-----------+--------------------+----------------------+--------------------------+-----------------+-------------------------------+\n",
            "only showing top 20 rows\n",
            "\n"
          ]
        }
      ]
    },
    {
      "cell_type": "code",
      "source": [
        "# Filter rows where Sale Amount is 0\n",
        "zero_sale_value = df.filter(df[\"Sale Amount\"] == 0).count()\n",
        "print(\"Number of rows where Sale Amount is 0:\", zero_sale_value)\n",
        "\n",
        "# Group records by Town and calculate the average Sale Amount\n",
        "avg_sale_value = df.groupby([\"Town\", \"List Year\", \"Residential Type\"]).agg(round(mean(df[\"Sale Amount\"]), 0).alias(\"Avg Sale Amount\"))\n",
        "\n",
        "# Join the original DataFrame with the average Sale Amount DataFrame\n",
        "df = df.join(avg_sale_value, on=[\"Town\", \"List Year\", \"Residential Type\"], how=\"left\")\n",
        "\n",
        "# Replace 0 values in Sale Amount column with the average Sale Value\n",
        "df = df.withColumn(\"Sale Amount\", when(df[\"Sale Amount\"] == 0, df[\"Avg Sale Amount\"]).otherwise(df[\"Sale Amount\"]))\n",
        "\n",
        "# Drop the Avg Sale Value column\n",
        "df = df.drop(\"Avg Sale Amount\")\n",
        "\n",
        "df.show(truncate=False)"
      ],
      "metadata": {
        "colab": {
          "base_uri": "https://localhost:8080/"
        },
        "id": "wfojBfq7805Z",
        "outputId": "95ed304c-9018-440d-9c6e-9814e222b4ad"
      },
      "execution_count": 37,
      "outputs": [
        {
          "output_type": "stream",
          "name": "stdout",
          "text": [
            "Number of rows where Sale Amount is 0: 6\n",
            "+------------+---------+----------------+----+-------------+-------------+-------------------+--------------+-----------+-----------+---------------------------------------------+----------------------+--------------------------+-----------------+-------------------------------+\n",
            "|Town        |List Year|Residential Type|Year|Serial Number|Date Recorded|Address            |Assessed Value|Sale Amount|Sales Ratio|Location                                     |Total Crimes Committed|Average Crimes per 100,000|Number of Schools|Number of Healthcare facilities|\n",
            "+------------+---------+----------------+----+-------------+-------------+-------------------+--------------+-----------+-----------+---------------------------------------------+----------------------+--------------------------+-----------------+-------------------------------+\n",
            "|Avon        |2009     |Condo           |2010|90146        |2010-04-12   |3 WILLOW LANE      |125870.0      |168500.0   |0.75       |POINT (-72.8758384 41.7696552)               |577.0                 |315.73                    |5                |4                              |\n",
            "|Windsor     |2009     |Condo           |2010|90270        |2010-06-18   |91 VICTORIA ST     |52990.0       |87000.0    |0.61       |POINT (-72.65787947200603 41.87221605797811) |1596.0                |489.61                    |5                |2                              |\n",
            "|Rocky Hill  |2010     |Condo           |2011|100183       |2011-08-11   |27 HICKORY LANE    |141540.0      |168500.0   |0.84       |POINT (-73.45180420689245 41.2790051414073)  |816.0                 |392.71                    |4                |5                              |\n",
            "|Stratford   |2010     |Condo           |2011|100354       |2011-04-29   |6 SHORELINE DR     |451500.0      |420000.0   |1.08       |POINT (-73.12735727422778 41.14845306094261) |5140.0                |889.29                    |12               |4                              |\n",
            "|Berlin      |2011     |Condo           |2012|110102       |2012-02-10   |7 QUARRY LN        |250000.0      |351450.0   |0.71       |POINT (-73.4111588 41.154743)                |995.0                 |471.02                    |3                |0                              |\n",
            "|Branford    |2011     |Condo           |2011|110047       |2011-11-21   |4 JERIMOTH DR      |178700.0      |215000.0   |0.83       |POINT (-72.82231724329003 41.30913125705498) |2335.0                |703.86                    |5                |4                              |\n",
            "|Avon        |2011     |Condo           |2011|110050       |2011-12-16   |18 HERITAGE DRIVE  |101430.0      |139000.0   |0.73       |POINT (-72.8754456 41.7665725)               |543.0                 |296.58                    |5                |4                              |\n",
            "|Wethersfield|2012     |Condo           |2012|12019        |2012-10-25   |19 SPRING ST       |119400.0      |145000.0   |0.82       |POINT (-72.6187041 41.9253519)               |1300.0                |426.68                    |7                |0                              |\n",
            "|Cromwell    |2013     |Condo           |2014|130091       |2014-03-10   |8 SHAWNEE COURT    |119960.0      |188500.0   |0.64       |POINT (-72.669477 41.6133345)                |939.0                 |628.86                    |4                |4                              |\n",
            "|Cromwell    |2013     |Condo           |2014|130184       |2014-07-24   |3 SOUTHBRIDGE      |371470.0      |562500.0   |0.66       |POINT (-72.6345172 41.630592)                |939.0                 |628.86                    |4                |4                              |\n",
            "|Monroe      |2014     |Condo           |2015|14055        |2015-01-07   |13 MEADOWLARK CIR  |149700.0      |190000.0   |0.79       |POINT (-73.2544087 41.3370612)               |378.0                 |169.46                    |5                |0                              |\n",
            "|Enfield     |2014     |Condo           |2015|140195       |2015-02-27   |133 MEADOWS        |110230.0      |151000.0   |0.73       |POINT (-72.55674844897959 42.029997040816326)|2533.0                |483.4                     |8                |2                              |\n",
            "|Madison     |2015     |Condo           |2016|150223       |2016-05-18   |7A YANKEE GLEN ROAD|180000.0      |207000.0   |0.87       |POINT (-72.596673 41.2846145)                |252.0                 |122.03                    |5                |0                              |\n",
            "|Stratford   |2015     |Condo           |2015|150040       |2015-10-19   |5 HAWLEY GLEN      |109830.0      |140000.0   |0.78       |POINT (-73.14572158202166 41.236137583866125)|3905.0                |674.24                    |12               |4                              |\n",
            "|Plainville  |2015     |Condo           |2015|150010       |2015-10-07   |18 CROWN ST        |169610.0      |245000.0   |0.69       |POINT (-73.436445 41.4020006)                |1528.0                |760.86                    |4                |2                              |\n",
            "|Plainville  |2015     |Condo           |2015|150010       |2015-10-07   |18 CROWN ST        |169610.0      |245000.0   |0.69       |POINT (-72.8633674 41.6712066)               |1528.0                |760.86                    |4                |2                              |\n",
            "|Bridgeport  |2016     |Condo           |2017|167930       |2017-09-27   |95 LANCE CIR       |105820.0      |148000.0   |0.72       |POINT (-73.23277247937577 41.22664270492695) |14207.0               |879.35                    |29               |8                              |\n",
            "|Farmington  |2016     |Condo           |2016|16010        |2016-10-05   |2 PARTRIDGE LA     |177280.0      |275000.0   |0.64       |POINT (-72.8887219153397 41.69914769771562)  |2019.0                |738.57                    |5                |8                              |\n",
            "|Guilford    |2016     |Condo           |2016|1600025      |2016-10-18   |7 RIVER COLONY     |93510.0       |140000.0   |0.67       |POINT (-72.69373764994752 41.27998166917161) |624.0                 |252.19                    |7                |6                              |\n",
            "|Windsor     |2016     |Condo           |2017|160217       |2017-04-03   |116 HIGH PATH RD   |39690.0       |90000.0    |0.44       |POINT (-72.65265626949711 41.89449309165452) |2457.0                |751.48                    |5                |2                              |\n",
            "+------------+---------+----------------+----+-------------+-------------+-------------------+--------------+-----------+-----------+---------------------------------------------+----------------------+--------------------------+-----------------+-------------------------------+\n",
            "only showing top 20 rows\n",
            "\n"
          ]
        }
      ]
    },
    {
      "cell_type": "code",
      "source": [
        "from pyspark.sql.functions import round\n",
        "\n",
        "# Calculate Sales Ratio and round to two decimal places\n",
        "df = df.withColumn(\"Sales Ratio\", round(df[\"Assessed Value\"] / df[\"Sale Amount\"], 2))\n",
        "\n",
        "# Display the first 5 rows\n",
        "df.show(5, truncate=False)\n"
      ],
      "metadata": {
        "colab": {
          "base_uri": "https://localhost:8080/"
        },
        "id": "z28TlwQe9GmD",
        "outputId": "bbf3bb6e-7b5a-4004-d424-3d103da4eaf8"
      },
      "execution_count": 38,
      "outputs": [
        {
          "output_type": "stream",
          "name": "stdout",
          "text": [
            "+----------+---------+----------------+----+-------------+-------------+---------------+--------------+-----------+-----------+--------------------------------------------+----------------------+--------------------------+-----------------+-------------------------------+\n",
            "|Town      |List Year|Residential Type|Year|Serial Number|Date Recorded|Address        |Assessed Value|Sale Amount|Sales Ratio|Location                                    |Total Crimes Committed|Average Crimes per 100,000|Number of Schools|Number of Healthcare facilities|\n",
            "+----------+---------+----------------+----+-------------+-------------+---------------+--------------+-----------+-----------+--------------------------------------------+----------------------+--------------------------+-----------------+-------------------------------+\n",
            "|Avon      |2009     |Condo           |2010|90146        |2010-04-12   |3 WILLOW LANE  |125870.0      |168500.0   |0.75       |POINT (-72.8758384 41.7696552)              |577.0                 |315.73                    |5                |4                              |\n",
            "|Windsor   |2009     |Condo           |2010|90270        |2010-06-18   |91 VICTORIA ST |52990.0       |87000.0    |0.61       |POINT (-72.65787947200603 41.87221605797811)|1596.0                |489.61                    |5                |2                              |\n",
            "|Rocky Hill|2010     |Condo           |2011|100183       |2011-08-11   |27 HICKORY LANE|141540.0      |168500.0   |0.84       |POINT (-73.45180420689245 41.2790051414073) |816.0                 |392.71                    |4                |5                              |\n",
            "|Stratford |2010     |Condo           |2011|100354       |2011-04-29   |6 SHORELINE DR |451500.0      |420000.0   |1.08       |POINT (-73.12735727422778 41.14845306094261)|5140.0                |889.29                    |12               |4                              |\n",
            "|Berlin    |2011     |Condo           |2012|110102       |2012-02-10   |7 QUARRY LN    |250000.0      |351450.0   |0.71       |POINT (-73.4111588 41.154743)               |995.0                 |471.02                    |3                |0                              |\n",
            "+----------+---------+----------------+----+-------------+-------------+---------------+--------------+-----------+-----------+--------------------------------------------+----------------------+--------------------------+-----------------+-------------------------------+\n",
            "only showing top 5 rows\n",
            "\n"
          ]
        }
      ]
    },
    {
      "cell_type": "code",
      "source": [
        "# Delete rows where the Town field has value \"***Unknown***\"\n",
        "df = df.filter(df[\"Town\"] != \"***Unknown***\")"
      ],
      "metadata": {
        "id": "5rXNut2B9Nug"
      },
      "execution_count": 39,
      "outputs": []
    },
    {
      "cell_type": "code",
      "source": [
        "from pyspark.sql.functions import count\n",
        "\n",
        "# Group by List Year and calculate the total houses listed\n",
        "year_wise_listing = df.groupBy(\"List Year\").agg(count(\"*\").alias(\"Total Houses Listed\"))\n",
        "\n",
        "# Order the result by List Year\n",
        "year_wise_listing = year_wise_listing.orderBy(\"List Year\")\n",
        "\n",
        "# Display the result\n",
        "year_wise_listing.show()\n"
      ],
      "metadata": {
        "colab": {
          "base_uri": "https://localhost:8080/"
        },
        "id": "4QWJAi2f9XXU",
        "outputId": "4bbe6051-eab3-4c8d-95da-d3f1e0f7d7c8"
      },
      "execution_count": 40,
      "outputs": [
        {
          "output_type": "stream",
          "name": "stdout",
          "text": [
            "+---------+-------------------+\n",
            "|List Year|Total Houses Listed|\n",
            "+---------+-------------------+\n",
            "|     2009|               5708|\n",
            "|     2010|               6676|\n",
            "|     2011|               6080|\n",
            "|     2012|               6503|\n",
            "|     2013|               7102|\n",
            "|     2014|               9170|\n",
            "|     2015|               8866|\n",
            "|     2016|               8945|\n",
            "|     2017|               1942|\n",
            "+---------+-------------------+\n",
            "\n"
          ]
        }
      ]
    },
    {
      "cell_type": "code",
      "source": [
        "from pyspark.sql.functions import count\n",
        "\n",
        "# Group by List Year and Residential Type, and calculate the total houses listed\n",
        "year_wise_listing_residential_type = df.groupBy(\"List Year\", \"Residential Type\") \\\n",
        "                                       .agg(count(\"*\").alias(\"Total Houses Listed\"))\n",
        "\n",
        "# Order the result by List Year\n",
        "year_wise_listing_residential_type = year_wise_listing_residential_type.orderBy(\"List Year\")\n",
        "\n",
        "# Display the result\n",
        "year_wise_listing_residential_type.show()\n"
      ],
      "metadata": {
        "colab": {
          "base_uri": "https://localhost:8080/"
        },
        "id": "HWjFZyvs9jkA",
        "outputId": "f0024086-cf7c-4339-efea-e40c7a90c6e9"
      },
      "execution_count": 41,
      "outputs": [
        {
          "output_type": "stream",
          "name": "stdout",
          "text": [
            "+---------+----------------+-------------------+\n",
            "|List Year|Residential Type|Total Houses Listed|\n",
            "+---------+----------------+-------------------+\n",
            "|     2009|           Condo|               1113|\n",
            "|     2009|   Single Family|               4595|\n",
            "|     2010|   Single Family|               5383|\n",
            "|     2010|           Condo|               1293|\n",
            "|     2011|           Condo|               1124|\n",
            "|     2011|   Single Family|               4956|\n",
            "|     2012|           Condo|               1134|\n",
            "|     2012|   Single Family|               5369|\n",
            "|     2013|   Single Family|               5810|\n",
            "|     2013|           Condo|               1292|\n",
            "|     2014|           Condo|               1625|\n",
            "|     2014|   Single Family|               7545|\n",
            "|     2015|   Single Family|               7224|\n",
            "|     2015|           Condo|               1642|\n",
            "|     2016|           Condo|               1774|\n",
            "|     2016|   Single Family|               7171|\n",
            "|     2017|           Condo|                318|\n",
            "|     2017|   Single Family|               1624|\n",
            "+---------+----------------+-------------------+\n",
            "\n"
          ]
        }
      ]
    },
    {
      "cell_type": "code",
      "source": [
        "from pyspark.sql.functions import col, count, sum, avg, when\n",
        "from pyspark.sql import functions as F\n",
        "\n",
        "house_types = [\"Condo\", \"Single Family\"]\n",
        "df = df.filter(col('Residential Type').isin(house_types))\n",
        "house_type_sales_town_year = df.groupBy(\"Town\", \"List Year\", \"Residential Type\").agg(\n",
        "    F.round(F.avg(\"Assessed Value\"), 2).alias(\"Average Assessed Value\"),\n",
        "    F.round(F.avg(\"Sale Amount\"), 2).alias(\"Average Sale Amount\"),\n",
        "    F.round(F.avg(\"Sales Ratio\"), 2).alias(\"Average Sale Ratio\"),\n",
        "    count(\"*\").alias(\"Houses Sold\")\n",
        ")\n",
        "\n",
        "condo_data = house_type_sales_town_year.groupBy(\"Town\", \"List Year\") \\\n",
        "    .agg(\n",
        "        F.sum(F.when(house_type_sales_town_year[\"Residential Type\"] == \"Condo\", house_type_sales_town_year[\"Houses Sold\"])).alias(\"Houses Sold(Condo)\"),\n",
        "        F.avg(F.when(house_type_sales_town_year[\"Residential Type\"] == \"Condo\", house_type_sales_town_year[\"Average Assessed Value\"])).alias(\"Condo_Average Assessed Value\"),\n",
        "        F.avg(F.when(house_type_sales_town_year[\"Residential Type\"] == \"Condo\", house_type_sales_town_year[\"Average Sale Amount\"])).alias(\"Condo_Average Sale Amount\"),\n",
        "        F.avg(F.when(house_type_sales_town_year[\"Residential Type\"] == \"Condo\", house_type_sales_town_year[\"Average Sale Ratio\"])).alias(\"Condo_Average Sale Ratio\")\n",
        "\n",
        "    )\n",
        "single_family_data = house_type_sales_town_year.groupBy(\"Town\", \"List Year\") \\\n",
        "    .agg(\n",
        "        F.sum(F.when(house_type_sales_town_year[\"Residential Type\"] == \"Single Family\", house_type_sales_town_year[\"Houses Sold\"])).alias(\"Houses Sold(Single)\"),\n",
        "        F.avg(F.when(house_type_sales_town_year[\"Residential Type\"] == \"Single Family\", house_type_sales_town_year[\"Average Assessed Value\"])).alias(\"Single Family_Average Assessed Value\"),\n",
        "        F.avg(F.when(house_type_sales_town_year[\"Residential Type\"] == \"Single Family\", house_type_sales_town_year[\"Average Sale Amount\"])).alias(\"Single Family_Average Sale Amount\"),\n",
        "        F.avg(F.when(house_type_sales_town_year[\"Residential Type\"] == \"Single Family\", house_type_sales_town_year[\"Average Sale Ratio\"])).alias(\"Single Family_Average Sale Ratio\")\n",
        "    )\n",
        "\n",
        "final_df = condo_data.join(single_family_data, [\"Town\", \"List Year\"], \"inner\")\n",
        "final_df.show()\n",
        "\n",
        "\n",
        "\n",
        "\n",
        "\n"
      ],
      "metadata": {
        "colab": {
          "base_uri": "https://localhost:8080/"
        },
        "id": "aa3p3B6P9_PH",
        "outputId": "4985354c-99f9-4a87-93bc-3a85527fc665"
      },
      "execution_count": 55,
      "outputs": [
        {
          "output_type": "stream",
          "name": "stdout",
          "text": [
            "+------------+---------+------------------+----------------------------+-------------------------+------------------------+-------------------+------------------------------------+---------------------------------+--------------------------------+\n",
            "|        Town|List Year|Houses Sold(Condo)|Condo_Average Assessed Value|Condo_Average Sale Amount|Condo_Average Sale Ratio|Houses Sold(Single)|Single Family_Average Assessed Value|Single Family_Average Sale Amount|Single Family_Average Sale Ratio|\n",
            "+------------+---------+------------------+----------------------------+-------------------------+------------------------+-------------------+------------------------------------+---------------------------------+--------------------------------+\n",
            "|      Hamden|     2010|                15|                    125896.0|                 167860.0|                    0.82|                 66|                           166972.41|                        203731.21|                            0.96|\n",
            "|   Killingly|     2015|                 9|                    84101.11|                112238.89|                    1.04|                 84|                           110823.81|                        172698.69|                            0.73|\n",
            "|     Chaplin|     2011|              NULL|                        NULL|                     NULL|                    NULL|                  3|                           139233.33|                         160800.0|                            0.86|\n",
            "|     Windsor|     2010|                12|                   126915.83|                177156.83|                    0.77|                 48|                           154065.63|                        207468.75|                            0.77|\n",
            "|   Newington|     2013|                21|                   148232.62|                219521.86|                    0.73|                 49|                           145140.61|                        210178.57|                            0.72|\n",
            "| Marlborough|     2010|                 1|                    163730.0|                 204500.0|                     0.8|                 15|                            237700.0|                        291141.67|                            0.85|\n",
            "|  Colchester|     2010|                 8|                    135900.0|                181480.63|                     0.8|                 26|                           178488.46|                        229896.15|                            0.84|\n",
            "|     Andover|     2013|              NULL|                        NULL|                     NULL|                    NULL|                  7|                           188542.86|                        262214.29|                            0.71|\n",
            "|  Stonington|     2016|                15|                    234340.0|                266669.07|                    1.23|                 72|                           274624.33|                        454545.46|                            0.81|\n",
            "|  Canterbury|     2016|              NULL|                        NULL|                     NULL|                    NULL|                  8|                            138900.0|                         207487.5|                            0.67|\n",
            "|   Woodstock|     2012|                 1|                     82000.0|                 114500.0|                    0.72|                 22|                           177870.91|                        223060.36|                            0.94|\n",
            "| East Granby|     2014|                 1|                    211300.0|                 325000.0|                    0.65|                 21|                           186480.95|                        249235.71|                            0.84|\n",
            "|Killingworth|     2010|              NULL|                        NULL|                     NULL|                    NULL|                 17|                            202810.0|                        217500.65|                            0.97|\n",
            "|      Hebron|     2013|                 3|                   163613.33|                 222700.0|                    0.77|                 23|                           177891.74|                         246390.7|                            0.83|\n",
            "| Marlborough|     2014|                 3|                    145950.0|                 211000.0|                    0.69|                 19|                           188377.37|                        246111.37|                            0.84|\n",
            "|      Morris|     2013|              NULL|                        NULL|                     NULL|                    NULL|                  7|                           211618.57|                        259214.29|                            0.91|\n",
            "|      Lisbon|     2009|              NULL|                        NULL|                     NULL|                    NULL|                  7|                           162458.57|                        196228.57|                            0.84|\n",
            "|     Norwalk|     2010|                59|                   212299.03|                254458.64|                     1.1|                131|                           486350.45|                        644623.76|                            0.86|\n",
            "|   Mansfield|     2017|                 1|                    121900.0|                 194500.0|                    0.63|                 14|                           140078.57|                        187571.43|                            0.78|\n",
            "|    Woodbury|     2017|                 2|                    111040.0|                 173750.0|                    0.64|                  9|                           263792.22|                        349433.33|                            0.77|\n",
            "+------------+---------+------------------+----------------------------+-------------------------+------------------------+-------------------+------------------------------------+---------------------------------+--------------------------------+\n",
            "only showing top 20 rows\n",
            "\n"
          ]
        }
      ]
    },
    {
      "cell_type": "code",
      "source": [
        "# Group by \"List Year\" and count the number of unique towns\n",
        "town_counts_by_year = final_df.groupBy(\"List Year\").agg(count(\"Town\").alias(\"Number of Towns\"))\n",
        "\n",
        "# Order the result by \"List Year\"\n",
        "town_counts_by_year = town_counts_by_year.orderBy(\"List Year\")\n",
        "\n",
        "# Show the result\n",
        "town_counts_by_year.show()"
      ],
      "metadata": {
        "colab": {
          "base_uri": "https://localhost:8080/"
        },
        "id": "yVVzdAFqAb_h",
        "outputId": "bb62768d-627f-4f5a-ac36-37ebc47a1195"
      },
      "execution_count": 56,
      "outputs": [
        {
          "output_type": "stream",
          "name": "stdout",
          "text": [
            "+---------+---------------+\n",
            "|List Year|Number of Towns|\n",
            "+---------+---------------+\n",
            "|     2009|            155|\n",
            "|     2010|            150|\n",
            "|     2011|            134|\n",
            "|     2012|            138|\n",
            "|     2013|            127|\n",
            "|     2014|            156|\n",
            "|     2015|            139|\n",
            "|     2016|            142|\n",
            "|     2017|            133|\n",
            "+---------+---------------+\n",
            "\n"
          ]
        }
      ]
    },
    {
      "cell_type": "code",
      "source": [
        "from pyspark.sql.functions import count\n",
        "\n",
        "# Group by \"List Year\", \"Houses Sold(Condo)\", and \"Houses Sold(Single)\", and count the number of unique towns\n",
        "town_counts_by_year_and_houses_sold = final_df.groupBy([\"List Year\", \"Houses Sold(Condo)\", \"Houses Sold(Single)\"]) \\\n",
        "    .agg(count(\"Town\").alias(\"Number of Towns\"))\n",
        "\n",
        "# Order the result by \"List Year\"\n",
        "town_counts_by_year_and_houses_sold = town_counts_by_year_and_houses_sold.orderBy(\"List Year\")\n",
        "\n",
        "# Show the result\n",
        "town_counts_by_year_and_houses_sold.show()"
      ],
      "metadata": {
        "colab": {
          "base_uri": "https://localhost:8080/"
        },
        "id": "BlIJDb4UAsoj",
        "outputId": "90df5f5a-eda3-4384-b65f-4edba5c20a89"
      },
      "execution_count": 57,
      "outputs": [
        {
          "output_type": "stream",
          "name": "stdout",
          "text": [
            "+---------+------------------+-------------------+---------------+\n",
            "|List Year|Houses Sold(Condo)|Houses Sold(Single)|Number of Towns|\n",
            "+---------+------------------+-------------------+---------------+\n",
            "|     2009|                 5|                 19|              1|\n",
            "|     2009|                 7|                 20|              1|\n",
            "|     2009|                 5|                 11|              1|\n",
            "|     2009|              NULL|                  4|              4|\n",
            "|     2009|              NULL|                 13|              2|\n",
            "|     2009|                 6|                 33|              1|\n",
            "|     2009|              NULL|                 10|              3|\n",
            "|     2009|                24|                 38|              1|\n",
            "|     2009|                 2|                  4|              1|\n",
            "|     2009|              NULL|                  7|              4|\n",
            "|     2009|                13|                 60|              1|\n",
            "|     2009|              NULL|                 19|              2|\n",
            "|     2009|                26|                 25|              1|\n",
            "|     2009|                14|                 17|              1|\n",
            "|     2009|                15|                 50|              1|\n",
            "|     2009|                20|                 47|              1|\n",
            "|     2009|                11|                 48|              1|\n",
            "|     2009|              NULL|                 11|              3|\n",
            "|     2009|                 1|                 11|              3|\n",
            "|     2009|                 4|                 23|              1|\n",
            "+---------+------------------+-------------------+---------------+\n",
            "only showing top 20 rows\n",
            "\n"
          ]
        }
      ]
    },
    {
      "cell_type": "code",
      "source": [
        "from pyspark.sql.functions import col, count, sum\n",
        "\n",
        "# Group by \"Town\" and aggregate the data\n",
        "df_year_town = final_df.groupBy(\"Town\").agg(\n",
        "    count(col(\"List Year\")).alias(\"Number of Years\"),\n",
        "    sum(col(\"Houses Sold(Condo)\")).alias(\"Total Condo Homes\"),\n",
        "    sum(col(\"Houses Sold(Single)\")).alias(\"Total Single Homes\")\n",
        ").orderBy(\"Town\")\n",
        "\n",
        "# Display the DataFrame\n",
        "df_year_town.show()\n"
      ],
      "metadata": {
        "colab": {
          "base_uri": "https://localhost:8080/"
        },
        "id": "1ZRLNDCjBBVf",
        "outputId": "3ba001cb-70ed-4d0e-d3f0-5accd7e09a31"
      },
      "execution_count": 58,
      "outputs": [
        {
          "output_type": "stream",
          "name": "stdout",
          "text": [
            "+------------+---------------+-----------------+------------------+\n",
            "|        Town|Number of Years|Total Condo Homes|Total Single Homes|\n",
            "+------------+---------------+-----------------+------------------+\n",
            "|     Andover|              8|             NULL|                60|\n",
            "|     Ansonia|              8|                6|               200|\n",
            "|     Ashford|              7|                3|               101|\n",
            "|        Avon|              8|              207|               410|\n",
            "| Barkhamsted|              8|             NULL|                74|\n",
            "|Beacon Falls|              7|               24|                99|\n",
            "|      Berlin|              8|               88|               280|\n",
            "|     Bethany|              8|             NULL|               117|\n",
            "|      Bethel|              7|              138|               238|\n",
            "|   Bethlehem|              8|                1|                60|\n",
            "|  Bloomfield|              7|               49|               341|\n",
            "|      Bolton|              9|             NULL|               115|\n",
            "|      Bozrah|              7|             NULL|                27|\n",
            "|    Branford|              7|              246|               386|\n",
            "|  Bridgeport|              8|              337|               873|\n",
            "| Bridgewater|              8|                2|                31|\n",
            "|     Bristol|              7|              119|               875|\n",
            "|  Brookfield|              7|               98|               236|\n",
            "|    Brooklyn|              7|                5|               140|\n",
            "|  Burlington|              8|                4|               208|\n",
            "+------------+---------------+-----------------+------------------+\n",
            "only showing top 20 rows\n",
            "\n"
          ]
        }
      ]
    },
    {
      "cell_type": "code",
      "source": [
        "print(final_df.count())"
      ],
      "metadata": {
        "colab": {
          "base_uri": "https://localhost:8080/"
        },
        "id": "uKF0Y4nJBkb7",
        "outputId": "ca5a53d2-f197-41d2-ca48-3f66d0601694"
      },
      "execution_count": 59,
      "outputs": [
        {
          "output_type": "stream",
          "name": "stdout",
          "text": [
            "1274\n"
          ]
        }
      ]
    },
    {
      "cell_type": "code",
      "source": [
        "final_df.show()"
      ],
      "metadata": {
        "colab": {
          "base_uri": "https://localhost:8080/"
        },
        "id": "5QbcdRKyBu9D",
        "outputId": "4409cba8-6898-4e09-edee-dc3c3d0e3c00"
      },
      "execution_count": 60,
      "outputs": [
        {
          "output_type": "stream",
          "name": "stdout",
          "text": [
            "+------------+---------+------------------+----------------------------+-------------------------+------------------------+-------------------+------------------------------------+---------------------------------+--------------------------------+\n",
            "|        Town|List Year|Houses Sold(Condo)|Condo_Average Assessed Value|Condo_Average Sale Amount|Condo_Average Sale Ratio|Houses Sold(Single)|Single Family_Average Assessed Value|Single Family_Average Sale Amount|Single Family_Average Sale Ratio|\n",
            "+------------+---------+------------------+----------------------------+-------------------------+------------------------+-------------------+------------------------------------+---------------------------------+--------------------------------+\n",
            "|      Hamden|     2010|                15|                    125896.0|                 167860.0|                    0.82|                 66|                           166972.41|                        203731.21|                            0.96|\n",
            "|   Killingly|     2015|                 9|                    84101.11|                112238.89|                    1.04|                 84|                           110823.81|                        172698.69|                            0.73|\n",
            "|     Chaplin|     2011|              NULL|                        NULL|                     NULL|                    NULL|                  3|                           139233.33|                         160800.0|                            0.86|\n",
            "|     Windsor|     2010|                12|                   126915.83|                177156.83|                    0.77|                 48|                           154065.63|                        207468.75|                            0.77|\n",
            "|   Newington|     2013|                21|                   148232.62|                219521.86|                    0.73|                 49|                           145140.61|                        210178.57|                            0.72|\n",
            "| Marlborough|     2010|                 1|                    163730.0|                 204500.0|                     0.8|                 15|                            237700.0|                        291141.67|                            0.85|\n",
            "|  Colchester|     2010|                 8|                    135900.0|                181480.63|                     0.8|                 26|                           178488.46|                        229896.15|                            0.84|\n",
            "|     Andover|     2013|              NULL|                        NULL|                     NULL|                    NULL|                  7|                           188542.86|                        262214.29|                            0.71|\n",
            "|  Stonington|     2016|                15|                    234340.0|                266669.07|                    1.23|                 72|                           274624.33|                        454545.46|                            0.81|\n",
            "|  Canterbury|     2016|              NULL|                        NULL|                     NULL|                    NULL|                  8|                            138900.0|                         207487.5|                            0.67|\n",
            "|   Woodstock|     2012|                 1|                     82000.0|                 114500.0|                    0.72|                 22|                           177870.91|                        223060.36|                            0.94|\n",
            "| East Granby|     2014|                 1|                    211300.0|                 325000.0|                    0.65|                 21|                           186480.95|                        249235.71|                            0.84|\n",
            "|Killingworth|     2010|              NULL|                        NULL|                     NULL|                    NULL|                 17|                            202810.0|                        217500.65|                            0.97|\n",
            "|      Hebron|     2013|                 3|                   163613.33|                 222700.0|                    0.77|                 23|                           177891.74|                         246390.7|                            0.83|\n",
            "| Marlborough|     2014|                 3|                    145950.0|                 211000.0|                    0.69|                 19|                           188377.37|                        246111.37|                            0.84|\n",
            "|      Morris|     2013|              NULL|                        NULL|                     NULL|                    NULL|                  7|                           211618.57|                        259214.29|                            0.91|\n",
            "|      Lisbon|     2009|              NULL|                        NULL|                     NULL|                    NULL|                  7|                           162458.57|                        196228.57|                            0.84|\n",
            "|     Norwalk|     2010|                59|                   212299.03|                254458.64|                     1.1|                131|                           486350.45|                        644623.76|                            0.86|\n",
            "|   Mansfield|     2017|                 1|                    121900.0|                 194500.0|                    0.63|                 14|                           140078.57|                        187571.43|                            0.78|\n",
            "|    Woodbury|     2017|                 2|                    111040.0|                 173750.0|                    0.64|                  9|                           263792.22|                        349433.33|                            0.77|\n",
            "+------------+---------+------------------+----------------------------+-------------------------+------------------------+-------------------+------------------------------------+---------------------------------+--------------------------------+\n",
            "only showing top 20 rows\n",
            "\n"
          ]
        }
      ]
    },
    {
      "cell_type": "code",
      "source": [
        "final_df = df.join(final_df, [\"Town\", \"List Year\", ], \"inner\")\n",
        "\n",
        "final_df.show(truncate=False)"
      ],
      "metadata": {
        "colab": {
          "base_uri": "https://localhost:8080/"
        },
        "id": "2VAFSMOKDDTt",
        "outputId": "0187cafb-34e2-475f-f370-b9f42eae21b2"
      },
      "execution_count": 61,
      "outputs": [
        {
          "output_type": "stream",
          "name": "stdout",
          "text": [
            "+------------+---------+----------------+----+-------------+-------------+-------------------+--------------+-----------+-----------+---------------------------------------------+----------------------+--------------------------+-----------------+-------------------------------+------------------+----------------------------+-------------------------+------------------------+-------------------+------------------------------------+---------------------------------+--------------------------------+\n",
            "|Town        |List Year|Residential Type|Year|Serial Number|Date Recorded|Address            |Assessed Value|Sale Amount|Sales Ratio|Location                                     |Total Crimes Committed|Average Crimes per 100,000|Number of Schools|Number of Healthcare facilities|Houses Sold(Condo)|Condo_Average Assessed Value|Condo_Average Sale Amount|Condo_Average Sale Ratio|Houses Sold(Single)|Single Family_Average Assessed Value|Single Family_Average Sale Amount|Single Family_Average Sale Ratio|\n",
            "+------------+---------+----------------+----+-------------+-------------+-------------------+--------------+-----------+-----------+---------------------------------------------+----------------------+--------------------------+-----------------+-------------------------------+------------------+----------------------------+-------------------------+------------------------+-------------------+------------------------------------+---------------------------------+--------------------------------+\n",
            "|Avon        |2009     |Condo           |2010|90146        |2010-04-12   |3 WILLOW LANE      |125870.0      |168500.0   |0.75       |POINT (-72.8758384 41.7696552)               |577.0                 |315.73                    |5                |4                              |24                |158127.92                   |214525.04                |0.76                    |38                 |396873.16                           |539098.21                        |0.78                            |\n",
            "|Windsor     |2009     |Condo           |2010|90270        |2010-06-18   |91 VICTORIA ST     |52990.0       |87000.0    |0.61       |POINT (-72.65787947200603 41.87221605797811) |1596.0                |489.61                    |5                |2                              |20                |113638.0                    |199305.0                 |0.76                    |55                 |149224.73                           |204114.36                        |0.91                            |\n",
            "|Rocky Hill  |2010     |Condo           |2011|100183       |2011-08-11   |27 HICKORY LANE    |141540.0      |168500.0   |0.84       |POINT (-73.45180420689245 41.2790051414073)  |816.0                 |392.71                    |4                |5                              |16                |123296.25                   |190276.56                |0.7                     |16                 |239780.63                           |290341.63                        |1.0                             |\n",
            "|Stratford   |2010     |Condo           |2011|100354       |2011-04-29   |6 SHORELINE DR     |451500.0      |420000.0   |1.08       |POINT (-73.12735727422778 41.14845306094261) |5140.0                |889.29                    |12               |4                              |26                |173907.31                   |209850.0                 |0.84                    |92                 |177585.98                           |232786.89                        |0.84                            |\n",
            "|Berlin      |2011     |Condo           |2012|110102       |2012-02-10   |7 QUARRY LN        |250000.0      |351450.0   |0.71       |POINT (-73.4111588 41.154743)                |995.0                 |471.02                    |3                |0                              |12                |175875.0                    |276738.33                |0.64                    |35                 |185348.57                           |231924.89                        |1.08                            |\n",
            "|Branford    |2011     |Condo           |2011|110047       |2011-11-21   |4 JERIMOTH DR      |178700.0      |215000.0   |0.83       |POINT (-72.82231724329003 41.30913125705498) |2335.0                |703.86                    |5                |4                              |32                |143722.59                   |174834.88                |1.43                    |44                 |219015.91                           |291652.18                        |0.82                            |\n",
            "|Avon        |2011     |Condo           |2011|110050       |2011-12-16   |18 HERITAGE DRIVE  |101430.0      |139000.0   |0.73       |POINT (-72.8754456 41.7665725)               |543.0                 |296.58                    |5                |4                              |24                |188110.42                   |226601.5                 |1.67                    |68                 |414252.94                           |523119.46                        |1.34                            |\n",
            "|Wethersfield|2012     |Condo           |2012|12019        |2012-10-25   |19 SPRING ST       |119400.0      |145000.0   |0.82       |POINT (-72.6187041 41.9253519)               |1300.0                |426.68                    |7                |0                              |10                |124250.0                    |150090.0                 |0.83                    |73                 |186005.48                           |239777.95                        |0.87                            |\n",
            "|Cromwell    |2013     |Condo           |2014|130091       |2014-03-10   |8 SHAWNEE COURT    |119960.0      |188500.0   |0.64       |POINT (-72.669477 41.6133345)                |939.0                 |628.86                    |4                |4                              |21                |145164.29                   |245382.62                |0.67                    |19                 |162031.05                           |255871.05                        |0.73                            |\n",
            "|Cromwell    |2013     |Condo           |2014|130184       |2014-07-24   |3 SOUTHBRIDGE      |371470.0      |562500.0   |0.66       |POINT (-72.6345172 41.630592)                |939.0                 |628.86                    |4                |4                              |21                |145164.29                   |245382.62                |0.67                    |19                 |162031.05                           |255871.05                        |0.73                            |\n",
            "|Monroe      |2014     |Condo           |2015|14055        |2015-01-07   |13 MEADOWLARK CIR  |149700.0      |190000.0   |0.79       |POINT (-73.2544087 41.3370612)               |378.0                 |169.46                    |5                |0                              |13                |135438.46                   |186707.69                |0.74                    |54                 |252159.26                           |360366.67                        |0.75                            |\n",
            "|Enfield     |2014     |Condo           |2015|140195       |2015-02-27   |133 MEADOWS        |110230.0      |151000.0   |0.73       |POINT (-72.55674844897959 42.029997040816326)|2533.0                |483.4                     |8                |2                              |20                |113022.0                    |154275.0                 |0.75                    |112                |124672.68                           |157076.98                        |0.98                            |\n",
            "|Madison     |2015     |Condo           |2016|150223       |2016-05-18   |7A YANKEE GLEN ROAD|180000.0      |207000.0   |0.87       |POINT (-72.596673 41.2846145)                |252.0                 |122.03                    |5                |0                              |8                 |204500.0                    |252895.75                |0.82                    |69                 |392820.28                           |585489.51                        |0.83                            |\n",
            "|Stratford   |2015     |Condo           |2015|150040       |2015-10-19   |5 HAWLEY GLEN      |109830.0      |140000.0   |0.78       |POINT (-73.14572158202166 41.236137583866125)|3905.0                |674.24                    |12               |4                              |45                |147858.22                   |193881.36                |0.8                     |135                |170032.96                           |223201.66                        |0.83                            |\n",
            "|Plainville  |2015     |Condo           |2015|150010       |2015-10-07   |18 CROWN ST        |169610.0      |245000.0   |0.69       |POINT (-73.436445 41.4020006)                |1528.0                |760.86                    |4                |2                              |18                |82697.22                    |146043.44                |0.73                    |52                 |129106.54                           |164286.15                        |0.9                             |\n",
            "|Plainville  |2015     |Condo           |2015|150010       |2015-10-07   |18 CROWN ST        |169610.0      |245000.0   |0.69       |POINT (-72.8633674 41.6712066)               |1528.0                |760.86                    |4                |2                              |18                |82697.22                    |146043.44                |0.73                    |52                 |129106.54                           |164286.15                        |0.9                             |\n",
            "|Bridgeport  |2016     |Condo           |2017|167930       |2017-09-27   |95 LANCE CIR       |105820.0      |148000.0   |0.72       |POINT (-73.23277247937577 41.22664270492695) |14207.0               |879.35                    |29               |8                              |64                |59668.13                    |80871.25                 |0.93                    |160                |112265.19                           |152377.03                        |0.87                            |\n",
            "|Farmington  |2016     |Condo           |2016|16010        |2016-10-05   |2 PARTRIDGE LA     |177280.0      |275000.0   |0.64       |POINT (-72.8887219153397 41.69914769771562)  |2019.0                |738.57                    |5                |8                              |40                |191404.23                   |198428.73                |0.85                    |74                 |326218.11                           |459442.92                        |0.74                            |\n",
            "|Guilford    |2016     |Condo           |2016|1600025      |2016-10-18   |7 RIVER COLONY     |93510.0       |140000.0   |0.67       |POINT (-72.69373764994752 41.27998166917161) |624.0                 |252.19                    |7                |6                              |12                |139160.83                   |205588.33                |0.81                    |84                 |328134.52                           |450895.24                        |0.81                            |\n",
            "|Windsor     |2016     |Condo           |2017|160217       |2017-04-03   |116 HIGH PATH RD   |39690.0       |90000.0    |0.44       |POINT (-72.65265626949711 41.89449309165452) |2457.0                |751.48                    |5                |2                              |24                |137360.42                   |199523.83                |0.67                    |80                 |144750.5                            |212024.64                        |0.73                            |\n",
            "+------------+---------+----------------+----+-------------+-------------+-------------------+--------------+-----------+-----------+---------------------------------------------+----------------------+--------------------------+-----------------+-------------------------------+------------------+----------------------------+-------------------------+------------------------+-------------------+------------------------------------+---------------------------------+--------------------------------+\n",
            "only showing top 20 rows\n",
            "\n"
          ]
        }
      ]
    },
    {
      "cell_type": "code",
      "source": [
        "print(final_df.count())"
      ],
      "metadata": {
        "colab": {
          "base_uri": "https://localhost:8080/"
        },
        "id": "mp7uDGIGDNOo",
        "outputId": "4bc7a3a1-ef02-4725-c8f9-1365b92fdce6"
      },
      "execution_count": 62,
      "outputs": [
        {
          "output_type": "stream",
          "name": "stdout",
          "text": [
            "60992\n"
          ]
        }
      ]
    },
    {
      "cell_type": "code",
      "source": [
        "# Group by town and year, and aggregate the required columns\n",
        "aggregated_df = final_df.groupBy(\"Town\", \"List Year\") \\\n",
        "    .agg(avg(\"Assessed Value\").alias(\"Avg Assessed Value\"),\n",
        "         avg(\"Sale Amount\").alias(\"Avg Sale Amount\"),\n",
        "         avg(\"Sales Ratio\").alias(\"Avg Sales Ratio\"),\n",
        "         avg(\"Total Crimes Committed\").alias(\"Avg Total Crimes\"),\n",
        "         avg(\"Average Crimes per 100,000\").alias(\"Avg Crimes per 100,000\"),\n",
        "         avg(\"Number of Schools\").alias(\"Avg Number of Schools\"),\n",
        "         avg(\"Number of Healthcare facilities\").alias(\"Avg Number of Healthcare facilities\"),\n",
        "         avg(\"Houses Sold(Condo)\").alias(\"Avg Houses Sold (Condo)\"),\n",
        "         avg(\"Condo_Average Assessed Value\").alias(\"Avg Condo Assessed Value\"),\n",
        "         avg(\"Condo_Average Sale Amount\").alias(\"Avg Condo Sale Amount\"),\n",
        "         avg(\"Condo_Average Sale Ratio\").alias(\"Avg Condo Sale Ratio\"),\n",
        "         avg(\"Houses Sold(Single)\").alias(\"Avg Houses Sold (Single)\"),\n",
        "         avg(\"Single Family_Average Assessed Value\").alias(\"Avg Single Family Assessed Value\"),\n",
        "         avg(\"Single Family_Average Sale Amount\").alias(\"Avg Single Family Sale Amount\"),\n",
        "         avg(\"Single Family_Average Sale Ratio\").alias(\"Avg Single Family Sale Ratio\"))\n",
        "\n",
        "# Show the aggregated DataFrame\n",
        "aggregated_df.show()"
      ],
      "metadata": {
        "colab": {
          "base_uri": "https://localhost:8080/"
        },
        "id": "mg3Q5NoBFd5O",
        "outputId": "8966de52-9072-4cf0-9991-f386e160e988"
      },
      "execution_count": 70,
      "outputs": [
        {
          "output_type": "stream",
          "name": "stdout",
          "text": [
            "+------------+---------+------------------+------------------+------------------+------------------+----------------------+---------------------+-----------------------------------+-----------------------+------------------------+---------------------+--------------------+------------------------+--------------------------------+-----------------------------+----------------------------+\n",
            "|        Town|List Year|Avg Assessed Value|   Avg Sale Amount|   Avg Sales Ratio|  Avg Total Crimes|Avg Crimes per 100,000|Avg Number of Schools|Avg Number of Healthcare facilities|Avg Houses Sold (Condo)|Avg Condo Assessed Value|Avg Condo Sale Amount|Avg Condo Sale Ratio|Avg Houses Sold (Single)|Avg Single Family Assessed Value|Avg Single Family Sale Amount|Avg Single Family Sale Ratio|\n",
            "+------------+---------+------------------+------------------+------------------+------------------+----------------------+---------------------+-----------------------------------+-----------------------+------------------------+---------------------+--------------------+------------------------+--------------------------------+-----------------------------+----------------------------+\n",
            "|      Hamden|     2010|159365.66666666666| 197088.3950617284|0.9323456790123454| 4177.592592592592|     634.8298765432099|                  9.0|                               11.0|                   15.0|                125896.0|             167860.0|  0.8200000000000001|                    66.0|               166972.4100000001|           203731.21000000043|          0.9599999999999995|\n",
            "|   Killingly|     2015|108237.74193548386|166847.74193548388|0.7578494623655915| 427.5376344086022|     224.3562365591397|                  0.0|                                0.0|                    9.0|       84101.11000000013|            112238.89|  1.0400000000000016|                    84.0|              110823.80999999994|           172698.68999999983|           0.729999999999999|\n",
            "|     Chaplin|     2011|139233.33333333334|          160800.0|              0.86|              71.0|     272.9166666666667|                  1.0|                                0.0|                   NULL|                    NULL|                 NULL|                NULL|                     3.0|                       139233.33|                     160800.0|                        0.86|\n",
            "|     Windsor|     2010|148635.66666666666|201406.36666666667|0.7728333333333332|1521.3833333333334|    466.20133333333365|                  5.0|                                2.0|                   12.0|      126915.83000000006|   177156.83000000005|  0.7700000000000008|                    48.0|              154065.62999999998|                    207468.75|          0.7700000000000008|\n",
            "|   Newington|     2013| 146068.2142857143|212981.55714285714|0.7244285714285714|2295.2571428571428|     674.9065714285715|                  7.0|                                4.0|                   21.0|      148232.61999999994|    219521.8599999998|   0.729999999999999|                    49.0|                       145140.61|           210178.57000000018|          0.7199999999999994|\n",
            "| Marlborough|     2010|        233076.875|       285726.5625|0.8468749999999999|             145.5|    220.57499999999993|                  1.0|                                2.0|                    1.0|                163730.0|             204500.0|  0.8000000000000002|                    15.0|                        237700.0|                    291141.67|          0.8499999999999998|\n",
            "|  Colchester|     2010|168467.64705882352|218504.26470588235|0.8270588235294118|429.47058823529414|    255.39882352941174|                  4.0|                                1.0|                    8.0|                135900.0|   181480.62999999992|  0.8000000000000004|                    26.0|                       178488.46|           229896.15000000014|                        0.84|\n",
            "|     Andover|     2013|188542.85714285713|262214.28571428574|0.7142857142857143| 67.85714285714286|    192.57999999999998|                  1.0|                                0.0|                   NULL|                    NULL|                 NULL|                NULL|                     7.0|              188542.86000000002|                    262214.29|                        0.71|\n",
            "|  Stonington|     2016| 267678.7586206897| 422152.9770114943| 0.881149425287356| 786.4597701149426|    379.47195402298865|                  1.0|                                0.0|                   15.0|                234340.0|   266669.07000000024|  1.2300000000000006|                    72.0|               274624.3299999995|           454545.46000000066|          0.8100000000000009|\n",
            "|  Canterbury|     2016|          138900.0|          207487.5|           0.67375|            82.125|    151.25250000000003|                  2.0|                                0.0|                   NULL|                    NULL|                 NULL|                NULL|                     8.0|                        138900.0|                     207487.5|                        0.67|\n",
            "|   Woodstock|     2012|173702.60869565216|218340.34782608695|0.9304347826086956|135.47826086956522|    161.66913043478257|                  2.0|                                0.0|                    1.0|                 82000.0|             114500.0|  0.7200000000000003|                    22.0|              177870.91000000006|           223060.35999999996|          0.9400000000000001|\n",
            "| East Granby|     2014| 187609.0909090909|252679.54545454544|0.8309090909090912|146.45454545454547|    266.24363636363637|                  4.0|                                0.0|                    1.0|                211300.0|             325000.0|  0.6500000000000002|                    21.0|              186480.95000000007|                    249235.71|                        0.84|\n",
            "|Killingworth|     2010|          202810.0|217500.64705882352|0.9688235294117646| 95.82352941176471|    137.67235294117648|                  0.0|                                0.0|                   NULL|                    NULL|                 NULL|                NULL|                    17.0|                        202810.0|           217500.64999999994|          0.9700000000000001|\n",
            "|      Hebron|     2013|176244.23076923078|243657.15384615384|0.8273076923076924|106.46153846153847|    106.54615384615384|                  2.0|                                0.0|                    3.0|      163613.33000000005|             222700.0|  0.7699999999999997|                    23.0|               177891.7400000001|           246390.70000000013|          0.8299999999999995|\n",
            "| Marlborough|     2014|182591.81818181818|241323.45454545456| 0.815909090909091| 71.31818181818181|    107.73136363636364|                  1.0|                                2.0|                    3.0|                145950.0|             211000.0|  0.6899999999999996|                    19.0|              188377.37000000008|           246111.37000000008|                        0.84|\n",
            "|      Morris|     2013|211618.57142857142| 259214.2857142857|0.9071428571428573|              42.0|                157.24|                  0.0|                                0.0|                   NULL|                    NULL|                 NULL|                NULL|                     7.0|              211618.57000000004|                    259214.29|                        0.91|\n",
            "|      Lisbon|     2009|162458.57142857142|196228.57142857142|0.8371428571428571|             318.0|     677.0199999999999|                  1.0|                                0.0|                   NULL|                    NULL|                 NULL|                NULL|                     7.0|              162458.57000000004|           196228.57000000004|                        0.84|\n",
            "|     Norwalk|     2010|401250.27368421055|523467.22105263156|0.9321052631578947| 6749.957894736842|      703.935684210527|                 16.0|                               11.0|                   59.0|      212299.03000000055|   254458.64000000048|  1.0999999999999963|                   131.0|               486350.4500000017|            644623.7600000021|          0.8600000000000025|\n",
            "|   Mansfield|     2017|138866.66666666666|188033.33333333334|0.7686666666666666|             399.0|                166.29|                  0.0|                                0.0|                    1.0|                121900.0|             194500.0|  0.6300000000000001|                    14.0|              140078.57000000004|           187571.43000000002|          0.7799999999999999|\n",
            "|    Woodbury|     2017| 236019.0909090909| 317490.9090909091|0.7454545454545454|             108.0|    101.41999999999999|                  0.0|                                0.0|                    2.0|                111040.0|             173750.0|  0.6399999999999999|                     9.0|               263792.2199999999|                    349433.33|          0.7699999999999999|\n",
            "+------------+---------+------------------+------------------+------------------+------------------+----------------------+---------------------+-----------------------------------+-----------------------+------------------------+---------------------+--------------------+------------------------+--------------------------------+-----------------------------+----------------------------+\n",
            "only showing top 20 rows\n",
            "\n"
          ]
        }
      ]
    },
    {
      "cell_type": "code",
      "source": [
        "aggregated_df.count()"
      ],
      "metadata": {
        "colab": {
          "base_uri": "https://localhost:8080/"
        },
        "id": "WPgN-bnXKdVq",
        "outputId": "91011cfd-03e6-4369-d436-4abd5dabe1c4"
      },
      "execution_count": 71,
      "outputs": [
        {
          "output_type": "execute_result",
          "data": {
            "text/plain": [
              "1274"
            ]
          },
          "metadata": {},
          "execution_count": 71
        }
      ]
    },
    {
      "cell_type": "code",
      "source": [
        "for col in aggregated_df.columns:\n",
        "    null_count = aggregated_df.filter(aggregated_df[col].isNull() | (aggregated_df[col] == \"\")).count()\n",
        "    print(f\"Column: {col}\\t Null Count: {null_count}\")\n",
        "\n",
        "total_count = aggregated_df.count()\n",
        "print(f\"Total Count: {total_count}\")\n"
      ],
      "metadata": {
        "colab": {
          "base_uri": "https://localhost:8080/"
        },
        "id": "uY9WTC-VHkN3",
        "outputId": "9b7a249d-8053-4266-b11a-b55a76e6fa77"
      },
      "execution_count": 72,
      "outputs": [
        {
          "output_type": "stream",
          "name": "stdout",
          "text": [
            "Column: Town\t Null Count: 0\n",
            "Column: List Year\t Null Count: 0\n",
            "Column: Avg Assessed Value\t Null Count: 0\n",
            "Column: Avg Sale Amount\t Null Count: 0\n",
            "Column: Avg Sales Ratio\t Null Count: 0\n",
            "Column: Avg Total Crimes\t Null Count: 0\n",
            "Column: Avg Crimes per 100,000\t Null Count: 0\n",
            "Column: Avg Number of Schools\t Null Count: 0\n",
            "Column: Avg Number of Healthcare facilities\t Null Count: 0\n",
            "Column: Avg Houses Sold (Condo)\t Null Count: 403\n",
            "Column: Avg Condo Assessed Value\t Null Count: 403\n",
            "Column: Avg Condo Sale Amount\t Null Count: 403\n",
            "Column: Avg Condo Sale Ratio\t Null Count: 403\n",
            "Column: Avg Houses Sold (Single)\t Null Count: 1\n",
            "Column: Avg Single Family Assessed Value\t Null Count: 1\n",
            "Column: Avg Single Family Sale Amount\t Null Count: 1\n",
            "Column: Avg Single Family Sale Ratio\t Null Count: 1\n",
            "Total Count: 1274\n"
          ]
        }
      ]
    },
    {
      "cell_type": "code",
      "source": [
        "# Replace null values with zero in the aggregated DataFrame\n",
        "aggregated_df_filled = aggregated_df.fillna(0)\n",
        "\n",
        "# Check if there are any null values after filling\n",
        "for col in aggregated_df_filled.columns:\n",
        "    null_count = aggregated_df_filled.filter(aggregated_df_filled[col].isNull() | (aggregated_df_filled[col] == \"\")).count()\n",
        "    print(f\"Column: {col}\\t Null Count: {null_count}\")\n",
        "\n",
        "total_count = aggregated_df_filled.count()\n",
        "print(f\"Total Count: {total_count}\")\n"
      ],
      "metadata": {
        "colab": {
          "base_uri": "https://localhost:8080/"
        },
        "id": "y9QM24hyL3TX",
        "outputId": "fce7cb09-0cdf-46f4-d06e-b876fc9996a7"
      },
      "execution_count": 73,
      "outputs": [
        {
          "output_type": "stream",
          "name": "stdout",
          "text": [
            "Column: Town\t Null Count: 0\n",
            "Column: List Year\t Null Count: 0\n",
            "Column: Avg Assessed Value\t Null Count: 0\n",
            "Column: Avg Sale Amount\t Null Count: 0\n",
            "Column: Avg Sales Ratio\t Null Count: 0\n",
            "Column: Avg Total Crimes\t Null Count: 0\n",
            "Column: Avg Crimes per 100,000\t Null Count: 0\n",
            "Column: Avg Number of Schools\t Null Count: 0\n",
            "Column: Avg Number of Healthcare facilities\t Null Count: 0\n",
            "Column: Avg Houses Sold (Condo)\t Null Count: 0\n",
            "Column: Avg Condo Assessed Value\t Null Count: 0\n",
            "Column: Avg Condo Sale Amount\t Null Count: 0\n",
            "Column: Avg Condo Sale Ratio\t Null Count: 0\n",
            "Column: Avg Houses Sold (Single)\t Null Count: 0\n",
            "Column: Avg Single Family Assessed Value\t Null Count: 0\n",
            "Column: Avg Single Family Sale Amount\t Null Count: 0\n",
            "Column: Avg Single Family Sale Ratio\t Null Count: 0\n",
            "Total Count: 1274\n"
          ]
        }
      ]
    },
    {
      "cell_type": "code",
      "source": [
        "# Read the GeoJSON file as a regular JSON file into a PySpark DataFrame\n",
        "geojson_df = spark.read.format(\"json\").load(\"/content/Town_Location.geojson\")\n",
        "\n",
        "# Show the schema of the DataFrame\n",
        "geojson_df.printSchema()\n",
        "\n",
        "# Show the first few rows of the DataFrame\n",
        "geojson_df.show()"
      ],
      "metadata": {
        "colab": {
          "base_uri": "https://localhost:8080/"
        },
        "id": "53ZlRTi_MOom",
        "outputId": "b82911a7-b826-4201-a67f-c1b03e63ea76"
      },
      "execution_count": 76,
      "outputs": [
        {
          "output_type": "stream",
          "name": "stdout",
          "text": [
            "root\n",
            " |-- _corrupt_record: string (nullable = true)\n",
            " |-- geometry: struct (nullable = true)\n",
            " |    |-- coordinates: array (nullable = true)\n",
            " |    |    |-- element: double (containsNull = true)\n",
            " |    |-- type: string (nullable = true)\n",
            " |-- properties: struct (nullable = true)\n",
            " |    |-- State: string (nullable = true)\n",
            " |    |-- Town: string (nullable = true)\n",
            " |    |-- category: string (nullable = true)\n",
            " |    |-- display_name: string (nullable = true)\n",
            " |    |-- latlong: string (nullable = true)\n",
            " |    |-- osm_id: string (nullable = true)\n",
            " |    |-- result_num: string (nullable = true)\n",
            " |    |-- type: string (nullable = true)\n",
            " |-- type: string (nullable = true)\n",
            "\n",
            "+--------------------+--------------------+--------------------+-------+\n",
            "|     _corrupt_record|            geometry|          properties|   type|\n",
            "+--------------------+--------------------+--------------------+-------+\n",
            "|                   {|                NULL|                NULL|   NULL|\n",
            "|\"type\": \"FeatureC...|                NULL|                NULL|   NULL|\n",
            "|\"name\": \"Town_Loc...|                NULL|                NULL|   NULL|\n",
            "|\"crs\": { \"type\": ...|                NULL|                NULL|   NULL|\n",
            "|       \"features\": [|                NULL|                NULL|   NULL|\n",
            "|                NULL|{[-72.37036, 41.7...|{CT, Andover, bou...|Feature|\n",
            "|                NULL|{[-73.043713, 41....|{CT, Ansonia, pla...|Feature|\n",
            "|                NULL|{[-72.1214653, 41...|{CT, Ashford, bou...|Feature|\n",
            "|                NULL|{[-72.8306541, 41...|{CT, Avon, bounda...|Feature|\n",
            "|                NULL|{[-72.9139904, 41...|{CT, Barkhamsted,...|Feature|\n",
            "|                NULL|{[-73.062608, 41....|{CT, Beacon Falls...|Feature|\n",
            "|                NULL|{[-72.7456519, 41...|{CT, Berlin, boun...|Feature|\n",
            "|                NULL|{[-72.9970496, 41...|{CT, Bethany, bou...|Feature|\n",
            "|                NULL|{[-73.412668, 41....|{CT, Bethel, boun...|Feature|\n",
            "|                NULL|{[-73.2080798, 41...|{CT, Bethlehem, b...|Feature|\n",
            "|                NULL|{[-72.7300945, 41...|{CT, Bloomfield, ...|Feature|\n",
            "|                NULL|{[-72.4334173, 41...|{CT, Bolton, boun...|Feature|\n",
            "|                NULL|{[-72.168238, 41....|{CT, Bozrah, boun...|Feature|\n",
            "|                NULL|{[-72.8150989, 41...|{CT, Branford, bo...|Feature|\n",
            "|                NULL|{[-73.1887863, 41...|{CT, Bridgeport, ...|Feature|\n",
            "+--------------------+--------------------+--------------------+-------+\n",
            "only showing top 20 rows\n",
            "\n"
          ]
        }
      ]
    },
    {
      "cell_type": "code",
      "source": [
        "# Join the aggregated DataFrame with the GeoJSON DataFrame\n",
        "joined_df = aggregated_df.join(geojson_df, aggregated_df[\"Town\"] == geojson_df[\"properties.Town\"], how=\"left\")\n",
        "\n",
        "# Drop the '_corrupt_record' column if it exists (only if reading GeoJSON caused this column to appear)\n",
        "joined_df = joined_df.drop(\"_corrupt_record\")\n",
        "\n",
        "# Show the joined DataFrame\n",
        "joined_df.show()"
      ],
      "metadata": {
        "colab": {
          "base_uri": "https://localhost:8080/"
        },
        "id": "H66JzD-9NKfp",
        "outputId": "d3b3740f-ece5-408a-96b7-e31d25fe2543"
      },
      "execution_count": 77,
      "outputs": [
        {
          "output_type": "stream",
          "name": "stdout",
          "text": [
            "+------------+---------+------------------+------------------+------------------+------------------+----------------------+---------------------+-----------------------------------+-----------------------+------------------------+---------------------+--------------------+------------------------+--------------------------------+-----------------------------+----------------------------+--------------------+--------------------+-------+\n",
            "|        Town|List Year|Avg Assessed Value|   Avg Sale Amount|   Avg Sales Ratio|  Avg Total Crimes|Avg Crimes per 100,000|Avg Number of Schools|Avg Number of Healthcare facilities|Avg Houses Sold (Condo)|Avg Condo Assessed Value|Avg Condo Sale Amount|Avg Condo Sale Ratio|Avg Houses Sold (Single)|Avg Single Family Assessed Value|Avg Single Family Sale Amount|Avg Single Family Sale Ratio|            geometry|          properties|   type|\n",
            "+------------+---------+------------------+------------------+------------------+------------------+----------------------+---------------------+-----------------------------------+-----------------------+------------------------+---------------------+--------------------+------------------------+--------------------------------+-----------------------------+----------------------------+--------------------+--------------------+-------+\n",
            "|      Hamden|     2010|159365.66666666666| 197088.3950617284|0.9323456790123454| 4177.592592592592|     634.8298765432099|                  9.0|                               11.0|                   15.0|                125896.0|             167860.0|  0.8200000000000001|                    66.0|               166972.4100000001|           203731.21000000043|          0.9599999999999995|{[-72.8968574, 41...|{CT, Hamden, boun...|Feature|\n",
            "|   Killingly|     2015|108237.74193548386|166847.74193548388|0.7578494623655915| 427.5376344086022|     224.3562365591397|                  0.0|                                0.0|                    9.0|       84101.11000000013|            112238.89|  1.0400000000000016|                    84.0|              110823.80999999994|           172698.68999999983|           0.729999999999999|{[-71.8795925, 41...|{CT, Killingly, b...|Feature|\n",
            "|     Chaplin|     2011|139233.33333333334|          160800.0|              0.86|              71.0|     272.9166666666667|                  1.0|                                0.0|                   NULL|                    NULL|                 NULL|                NULL|                     3.0|                       139233.33|                     160800.0|                        0.86|{[-72.1272989, 41...|{CT, Chaplin, bou...|Feature|\n",
            "|     Windsor|     2010|148635.66666666666|201406.36666666667|0.7728333333333332|1521.3833333333334|    466.20133333333365|                  5.0|                                2.0|                   12.0|      126915.83000000006|   177156.83000000005|  0.7700000000000008|                    48.0|              154065.62999999998|                    207468.75|          0.7700000000000008|{[-72.6437022, 41...|{CT, Windsor, bou...|Feature|\n",
            "|   Newington|     2013| 146068.2142857143|212981.55714285714|0.7244285714285714|2295.2571428571428|     674.9065714285715|                  7.0|                                4.0|                   21.0|      148232.61999999994|    219521.8599999998|   0.729999999999999|                    49.0|                       145140.61|           210178.57000000018|          0.7199999999999994|{[-72.7237063, 41...|{CT, Newington, b...|Feature|\n",
            "| Marlborough|     2010|        233076.875|       285726.5625|0.8468749999999999|             145.5|    220.57499999999993|                  1.0|                                2.0|                    1.0|                163730.0|             204500.0|  0.8000000000000002|                    15.0|                        237700.0|                    291141.67|          0.8499999999999998|{[-72.459808, 41....|{CT, Marlborough,...|Feature|\n",
            "|  Colchester|     2010|168467.64705882352|218504.26470588235|0.8270588235294118|429.47058823529414|    255.39882352941174|                  4.0|                                1.0|                    8.0|                135900.0|   181480.62999999992|  0.8000000000000004|                    26.0|                       178488.46|           229896.15000000014|                        0.84|{[-72.3320269, 41...|{CT, Colchester, ...|Feature|\n",
            "|     Andover|     2013|188542.85714285713|262214.28571428574|0.7142857142857143| 67.85714285714286|    192.57999999999998|                  1.0|                                0.0|                   NULL|                    NULL|                 NULL|                NULL|                     7.0|              188542.86000000002|                    262214.29|                        0.71|{[-72.37036, 41.7...|{CT, Andover, bou...|Feature|\n",
            "|  Stonington|     2016| 267678.7586206897| 422152.9770114943| 0.881149425287356| 786.4597701149426|    379.47195402298865|                  1.0|                                0.0|                   15.0|                234340.0|   266669.07000000024|  1.2300000000000006|                    72.0|               274624.3299999995|           454545.46000000066|          0.8100000000000009|{[-71.9059042, 41...|{CT, Stonington, ...|Feature|\n",
            "|  Canterbury|     2016|          138900.0|          207487.5|           0.67375|            82.125|    151.25250000000003|                  2.0|                                0.0|                   NULL|                    NULL|                 NULL|                NULL|                     8.0|                        138900.0|                     207487.5|                        0.67|{[-71.9710811, 41...|{CT, Canterbury, ...|Feature|\n",
            "|   Woodstock|     2012|173702.60869565216|218340.34782608695|0.9304347826086956|135.47826086956522|    161.66913043478257|                  2.0|                                0.0|                    1.0|                 82000.0|             114500.0|  0.7200000000000003|                    22.0|              177870.91000000006|           223060.35999999996|          0.9400000000000001|{[-71.9739626, 41...|{CT, Woodstock, b...|Feature|\n",
            "| East Granby|     2014| 187609.0909090909|252679.54545454544|0.8309090909090912|146.45454545454547|    266.24363636363637|                  4.0|                                0.0|                    1.0|                211300.0|             325000.0|  0.6500000000000002|                    21.0|              186480.95000000007|                    249235.71|                        0.84|{[-72.7273158, 41...|{CT, East Granby,...|Feature|\n",
            "|Killingworth|     2010|          202810.0|217500.64705882352|0.9688235294117646| 95.82352941176471|    137.67235294117648|                  0.0|                                0.0|                   NULL|                    NULL|                 NULL|                NULL|                    17.0|                        202810.0|           217500.64999999994|          0.9700000000000001|{[-72.5637023, 41...|{CT, Killingworth...|Feature|\n",
            "|      Hebron|     2013|176244.23076923078|243657.15384615384|0.8273076923076924|106.46153846153847|    106.54615384615384|                  2.0|                                0.0|                    3.0|      163613.33000000005|             222700.0|  0.7699999999999997|                    23.0|               177891.7400000001|           246390.70000000013|          0.8299999999999995|{[-72.3659161, 41...|{CT, Hebron, boun...|Feature|\n",
            "| Marlborough|     2014|182591.81818181818|241323.45454545456| 0.815909090909091| 71.31818181818181|    107.73136363636364|                  1.0|                                2.0|                    3.0|                145950.0|             211000.0|  0.6899999999999996|                    19.0|              188377.37000000008|           246111.37000000008|                        0.84|{[-72.459808, 41....|{CT, Marlborough,...|Feature|\n",
            "|      Morris|     2013|211618.57142857142| 259214.2857142857|0.9071428571428573|              42.0|                157.24|                  0.0|                                0.0|                   NULL|                    NULL|                 NULL|                NULL|                     7.0|              211618.57000000004|                    259214.29|                        0.91|{[-73.1962245, 41...|{CT, Morris, boun...|Feature|\n",
            "|      Lisbon|     2009|162458.57142857142|196228.57142857142|0.8371428571428571|             318.0|     677.0199999999999|                  1.0|                                0.0|                   NULL|                    NULL|                 NULL|                NULL|                     7.0|              162458.57000000004|           196228.57000000004|                        0.84|{[-72.0207809, 41...|{CT, Lisbon, boun...|Feature|\n",
            "|     Norwalk|     2010|401250.27368421055|523467.22105263156|0.9321052631578947| 6749.957894736842|      703.935684210527|                 16.0|                               11.0|                   59.0|      212299.03000000055|   254458.64000000048|  1.0999999999999963|                   131.0|               486350.4500000017|            644623.7600000021|          0.8600000000000025|{[-73.4078968, 41...|{CT, Norwalk, bou...|Feature|\n",
            "|   Mansfield|     2017|138866.66666666666|188033.33333333334|0.7686666666666666|             399.0|                166.29|                  0.0|                                0.0|                    1.0|                121900.0|             194500.0|  0.6300000000000001|                    14.0|              140078.57000000004|           187571.43000000002|          0.7799999999999999|{[-72.2131565, 41...|{CT, Mansfield, b...|Feature|\n",
            "|    Woodbury|     2017| 236019.0909090909| 317490.9090909091|0.7454545454545454|             108.0|    101.41999999999999|                  0.0|                                0.0|                    2.0|                111040.0|             173750.0|  0.6399999999999999|                     9.0|               263792.2199999999|                    349433.33|          0.7699999999999999|{[-73.2090025, 41...|{CT, Woodbury, bo...|Feature|\n",
            "+------------+---------+------------------+------------------+------------------+------------------+----------------------+---------------------+-----------------------------------+-----------------------+------------------------+---------------------+--------------------+------------------------+--------------------------------+-----------------------------+----------------------------+--------------------+--------------------+-------+\n",
            "only showing top 20 rows\n",
            "\n"
          ]
        }
      ]
    },
    {
      "cell_type": "code",
      "source": [
        "joined_df = joined_df.drop(\"properties\",\"type\")\n",
        "\n",
        "joined_df.show()"
      ],
      "metadata": {
        "colab": {
          "base_uri": "https://localhost:8080/"
        },
        "id": "Q-r7gosXNzbb",
        "outputId": "bbb7e056-b880-4cd2-a1c5-1dfaa4b194f9"
      },
      "execution_count": 79,
      "outputs": [
        {
          "output_type": "stream",
          "name": "stdout",
          "text": [
            "+------------+---------+------------------+------------------+------------------+------------------+----------------------+---------------------+-----------------------------------+-----------------------+------------------------+---------------------+--------------------+------------------------+--------------------------------+-----------------------------+----------------------------+--------------------+\n",
            "|        Town|List Year|Avg Assessed Value|   Avg Sale Amount|   Avg Sales Ratio|  Avg Total Crimes|Avg Crimes per 100,000|Avg Number of Schools|Avg Number of Healthcare facilities|Avg Houses Sold (Condo)|Avg Condo Assessed Value|Avg Condo Sale Amount|Avg Condo Sale Ratio|Avg Houses Sold (Single)|Avg Single Family Assessed Value|Avg Single Family Sale Amount|Avg Single Family Sale Ratio|            geometry|\n",
            "+------------+---------+------------------+------------------+------------------+------------------+----------------------+---------------------+-----------------------------------+-----------------------+------------------------+---------------------+--------------------+------------------------+--------------------------------+-----------------------------+----------------------------+--------------------+\n",
            "|      Hamden|     2010|159365.66666666666| 197088.3950617284|0.9323456790123454| 4177.592592592592|     634.8298765432099|                  9.0|                               11.0|                   15.0|                125896.0|             167860.0|  0.8200000000000001|                    66.0|               166972.4100000001|           203731.21000000043|          0.9599999999999995|{[-72.8968574, 41...|\n",
            "|   Killingly|     2015|108237.74193548386|166847.74193548388|0.7578494623655915| 427.5376344086022|     224.3562365591397|                  0.0|                                0.0|                    9.0|       84101.11000000013|            112238.89|  1.0400000000000016|                    84.0|              110823.80999999994|           172698.68999999983|           0.729999999999999|{[-71.8795925, 41...|\n",
            "|     Chaplin|     2011|139233.33333333334|          160800.0|              0.86|              71.0|     272.9166666666667|                  1.0|                                0.0|                   NULL|                    NULL|                 NULL|                NULL|                     3.0|                       139233.33|                     160800.0|                        0.86|{[-72.1272989, 41...|\n",
            "|     Windsor|     2010|148635.66666666666|201406.36666666667|0.7728333333333332|1521.3833333333334|    466.20133333333365|                  5.0|                                2.0|                   12.0|      126915.83000000006|   177156.83000000005|  0.7700000000000008|                    48.0|              154065.62999999998|                    207468.75|          0.7700000000000008|{[-72.6437022, 41...|\n",
            "|   Newington|     2013| 146068.2142857143|212981.55714285714|0.7244285714285714|2295.2571428571428|     674.9065714285715|                  7.0|                                4.0|                   21.0|      148232.61999999994|    219521.8599999998|   0.729999999999999|                    49.0|                       145140.61|           210178.57000000018|          0.7199999999999994|{[-72.7237063, 41...|\n",
            "| Marlborough|     2010|        233076.875|       285726.5625|0.8468749999999999|             145.5|    220.57499999999993|                  1.0|                                2.0|                    1.0|                163730.0|             204500.0|  0.8000000000000002|                    15.0|                        237700.0|                    291141.67|          0.8499999999999998|{[-72.459808, 41....|\n",
            "|  Colchester|     2010|168467.64705882352|218504.26470588235|0.8270588235294118|429.47058823529414|    255.39882352941174|                  4.0|                                1.0|                    8.0|                135900.0|   181480.62999999992|  0.8000000000000004|                    26.0|                       178488.46|           229896.15000000014|                        0.84|{[-72.3320269, 41...|\n",
            "|     Andover|     2013|188542.85714285713|262214.28571428574|0.7142857142857143| 67.85714285714286|    192.57999999999998|                  1.0|                                0.0|                   NULL|                    NULL|                 NULL|                NULL|                     7.0|              188542.86000000002|                    262214.29|                        0.71|{[-72.37036, 41.7...|\n",
            "|  Stonington|     2016| 267678.7586206897| 422152.9770114943| 0.881149425287356| 786.4597701149426|    379.47195402298865|                  1.0|                                0.0|                   15.0|                234340.0|   266669.07000000024|  1.2300000000000006|                    72.0|               274624.3299999995|           454545.46000000066|          0.8100000000000009|{[-71.9059042, 41...|\n",
            "|  Canterbury|     2016|          138900.0|          207487.5|           0.67375|            82.125|    151.25250000000003|                  2.0|                                0.0|                   NULL|                    NULL|                 NULL|                NULL|                     8.0|                        138900.0|                     207487.5|                        0.67|{[-71.9710811, 41...|\n",
            "|   Woodstock|     2012|173702.60869565216|218340.34782608695|0.9304347826086956|135.47826086956522|    161.66913043478257|                  2.0|                                0.0|                    1.0|                 82000.0|             114500.0|  0.7200000000000003|                    22.0|              177870.91000000006|           223060.35999999996|          0.9400000000000001|{[-71.9739626, 41...|\n",
            "| East Granby|     2014| 187609.0909090909|252679.54545454544|0.8309090909090912|146.45454545454547|    266.24363636363637|                  4.0|                                0.0|                    1.0|                211300.0|             325000.0|  0.6500000000000002|                    21.0|              186480.95000000007|                    249235.71|                        0.84|{[-72.7273158, 41...|\n",
            "|Killingworth|     2010|          202810.0|217500.64705882352|0.9688235294117646| 95.82352941176471|    137.67235294117648|                  0.0|                                0.0|                   NULL|                    NULL|                 NULL|                NULL|                    17.0|                        202810.0|           217500.64999999994|          0.9700000000000001|{[-72.5637023, 41...|\n",
            "|      Hebron|     2013|176244.23076923078|243657.15384615384|0.8273076923076924|106.46153846153847|    106.54615384615384|                  2.0|                                0.0|                    3.0|      163613.33000000005|             222700.0|  0.7699999999999997|                    23.0|               177891.7400000001|           246390.70000000013|          0.8299999999999995|{[-72.3659161, 41...|\n",
            "| Marlborough|     2014|182591.81818181818|241323.45454545456| 0.815909090909091| 71.31818181818181|    107.73136363636364|                  1.0|                                2.0|                    3.0|                145950.0|             211000.0|  0.6899999999999996|                    19.0|              188377.37000000008|           246111.37000000008|                        0.84|{[-72.459808, 41....|\n",
            "|      Morris|     2013|211618.57142857142| 259214.2857142857|0.9071428571428573|              42.0|                157.24|                  0.0|                                0.0|                   NULL|                    NULL|                 NULL|                NULL|                     7.0|              211618.57000000004|                    259214.29|                        0.91|{[-73.1962245, 41...|\n",
            "|      Lisbon|     2009|162458.57142857142|196228.57142857142|0.8371428571428571|             318.0|     677.0199999999999|                  1.0|                                0.0|                   NULL|                    NULL|                 NULL|                NULL|                     7.0|              162458.57000000004|           196228.57000000004|                        0.84|{[-72.0207809, 41...|\n",
            "|     Norwalk|     2010|401250.27368421055|523467.22105263156|0.9321052631578947| 6749.957894736842|      703.935684210527|                 16.0|                               11.0|                   59.0|      212299.03000000055|   254458.64000000048|  1.0999999999999963|                   131.0|               486350.4500000017|            644623.7600000021|          0.8600000000000025|{[-73.4078968, 41...|\n",
            "|   Mansfield|     2017|138866.66666666666|188033.33333333334|0.7686666666666666|             399.0|                166.29|                  0.0|                                0.0|                    1.0|                121900.0|             194500.0|  0.6300000000000001|                    14.0|              140078.57000000004|           187571.43000000002|          0.7799999999999999|{[-72.2131565, 41...|\n",
            "|    Woodbury|     2017| 236019.0909090909| 317490.9090909091|0.7454545454545454|             108.0|    101.41999999999999|                  0.0|                                0.0|                    2.0|                111040.0|             173750.0|  0.6399999999999999|                     9.0|               263792.2199999999|                    349433.33|          0.7699999999999999|{[-73.2090025, 41...|\n",
            "+------------+---------+------------------+------------------+------------------+------------------+----------------------+---------------------+-----------------------------------+-----------------------+------------------------+---------------------+--------------------+------------------------+--------------------------------+-----------------------------+----------------------------+--------------------+\n",
            "only showing top 20 rows\n",
            "\n"
          ]
        }
      ]
    },
    {
      "cell_type": "code",
      "source": [
        "# Check if there are any null values after filling\n",
        "for col in joined_df.columns:\n",
        "    null_count = joined_df.filter(joined_df[col].isNull()).count()\n",
        "    print(f\"Column: {col}\\t Null Count: {null_count}\")\n",
        "\n",
        "total_count = joined_df.count()\n",
        "print(f\"Total Count: {total_count}\")"
      ],
      "metadata": {
        "colab": {
          "base_uri": "https://localhost:8080/"
        },
        "id": "1tv5EgEZOPQO",
        "outputId": "dba31a4a-be6e-42e0-e3a2-20916229d72b"
      },
      "execution_count": 82,
      "outputs": [
        {
          "output_type": "stream",
          "name": "stdout",
          "text": [
            "Column: Town\t Null Count: 0\n",
            "Column: List Year\t Null Count: 0\n",
            "Column: Avg Assessed Value\t Null Count: 0\n",
            "Column: Avg Sale Amount\t Null Count: 0\n",
            "Column: Avg Sales Ratio\t Null Count: 0\n",
            "Column: Avg Total Crimes\t Null Count: 0\n",
            "Column: Avg Crimes per 100,000\t Null Count: 0\n",
            "Column: Avg Number of Schools\t Null Count: 0\n",
            "Column: Avg Number of Healthcare facilities\t Null Count: 0\n",
            "Column: Avg Houses Sold (Condo)\t Null Count: 403\n",
            "Column: Avg Condo Assessed Value\t Null Count: 403\n",
            "Column: Avg Condo Sale Amount\t Null Count: 403\n",
            "Column: Avg Condo Sale Ratio\t Null Count: 403\n",
            "Column: Avg Houses Sold (Single)\t Null Count: 1\n",
            "Column: Avg Single Family Assessed Value\t Null Count: 1\n",
            "Column: Avg Single Family Sale Amount\t Null Count: 1\n",
            "Column: Avg Single Family Sale Ratio\t Null Count: 1\n",
            "Column: geometry\t Null Count: 0\n",
            "Total Count: 1274\n"
          ]
        }
      ]
    },
    {
      "cell_type": "code",
      "source": [
        "from pyspark.sql.functions import when\n",
        "\n",
        "# Replace null values with zero in the joined DataFrame\n",
        "filled_df = joined_df.fillna(0)\n",
        "\n",
        "# Check if there are any null values after filling\n",
        "for col in filled_df.columns:\n",
        "    null_count = filled_df.filter(filled_df[col].isNull()).count()\n",
        "    print(f\"Column: {col}\\t Null Count: {null_count}\")\n",
        "\n",
        "total_count = filled_df.count()\n",
        "print(f\"Total Count: {total_count}\")\n"
      ],
      "metadata": {
        "colab": {
          "base_uri": "https://localhost:8080/"
        },
        "id": "Ay-VHbPvPgM4",
        "outputId": "071a6615-3ec9-41af-ccbc-7e8609f30b51"
      },
      "execution_count": 83,
      "outputs": [
        {
          "output_type": "stream",
          "name": "stdout",
          "text": [
            "Column: Town\t Null Count: 0\n",
            "Column: List Year\t Null Count: 0\n",
            "Column: Avg Assessed Value\t Null Count: 0\n",
            "Column: Avg Sale Amount\t Null Count: 0\n",
            "Column: Avg Sales Ratio\t Null Count: 0\n",
            "Column: Avg Total Crimes\t Null Count: 0\n",
            "Column: Avg Crimes per 100,000\t Null Count: 0\n",
            "Column: Avg Number of Schools\t Null Count: 0\n",
            "Column: Avg Number of Healthcare facilities\t Null Count: 0\n",
            "Column: Avg Houses Sold (Condo)\t Null Count: 0\n",
            "Column: Avg Condo Assessed Value\t Null Count: 0\n",
            "Column: Avg Condo Sale Amount\t Null Count: 0\n",
            "Column: Avg Condo Sale Ratio\t Null Count: 0\n",
            "Column: Avg Houses Sold (Single)\t Null Count: 0\n",
            "Column: Avg Single Family Assessed Value\t Null Count: 0\n",
            "Column: Avg Single Family Sale Amount\t Null Count: 0\n",
            "Column: Avg Single Family Sale Ratio\t Null Count: 0\n",
            "Column: geometry\t Null Count: 0\n",
            "Total Count: 1274\n"
          ]
        }
      ]
    },
    {
      "cell_type": "code",
      "source": [
        "filled_df.show()\n",
        "filled_df.count()"
      ],
      "metadata": {
        "colab": {
          "base_uri": "https://localhost:8080/"
        },
        "id": "wMuUGZMqPltE",
        "outputId": "c27b1510-9c5d-4e14-816a-a9d44c8eca3a"
      },
      "execution_count": 84,
      "outputs": [
        {
          "output_type": "stream",
          "name": "stdout",
          "text": [
            "+------------+---------+------------------+------------------+------------------+------------------+----------------------+---------------------+-----------------------------------+-----------------------+------------------------+---------------------+--------------------+------------------------+--------------------------------+-----------------------------+----------------------------+--------------------+\n",
            "|        Town|List Year|Avg Assessed Value|   Avg Sale Amount|   Avg Sales Ratio|  Avg Total Crimes|Avg Crimes per 100,000|Avg Number of Schools|Avg Number of Healthcare facilities|Avg Houses Sold (Condo)|Avg Condo Assessed Value|Avg Condo Sale Amount|Avg Condo Sale Ratio|Avg Houses Sold (Single)|Avg Single Family Assessed Value|Avg Single Family Sale Amount|Avg Single Family Sale Ratio|            geometry|\n",
            "+------------+---------+------------------+------------------+------------------+------------------+----------------------+---------------------+-----------------------------------+-----------------------+------------------------+---------------------+--------------------+------------------------+--------------------------------+-----------------------------+----------------------------+--------------------+\n",
            "|      Hamden|     2010|159365.66666666666| 197088.3950617284|0.9323456790123454| 4177.592592592592|     634.8298765432099|                  9.0|                               11.0|                   15.0|                125896.0|             167860.0|  0.8200000000000001|                    66.0|               166972.4100000001|           203731.21000000043|          0.9599999999999995|{[-72.8968574, 41...|\n",
            "|   Killingly|     2015|108237.74193548386|166847.74193548388|0.7578494623655915| 427.5376344086022|     224.3562365591397|                  0.0|                                0.0|                    9.0|       84101.11000000013|            112238.89|  1.0400000000000016|                    84.0|              110823.80999999994|           172698.68999999983|           0.729999999999999|{[-71.8795925, 41...|\n",
            "|     Chaplin|     2011|139233.33333333334|          160800.0|              0.86|              71.0|     272.9166666666667|                  1.0|                                0.0|                    0.0|                     0.0|                  0.0|                 0.0|                     3.0|                       139233.33|                     160800.0|                        0.86|{[-72.1272989, 41...|\n",
            "|     Windsor|     2010|148635.66666666666|201406.36666666667|0.7728333333333332|1521.3833333333334|    466.20133333333365|                  5.0|                                2.0|                   12.0|      126915.83000000006|   177156.83000000005|  0.7700000000000008|                    48.0|              154065.62999999998|                    207468.75|          0.7700000000000008|{[-72.6437022, 41...|\n",
            "|   Newington|     2013| 146068.2142857143|212981.55714285714|0.7244285714285714|2295.2571428571428|     674.9065714285715|                  7.0|                                4.0|                   21.0|      148232.61999999994|    219521.8599999998|   0.729999999999999|                    49.0|                       145140.61|           210178.57000000018|          0.7199999999999994|{[-72.7237063, 41...|\n",
            "| Marlborough|     2010|        233076.875|       285726.5625|0.8468749999999999|             145.5|    220.57499999999993|                  1.0|                                2.0|                    1.0|                163730.0|             204500.0|  0.8000000000000002|                    15.0|                        237700.0|                    291141.67|          0.8499999999999998|{[-72.459808, 41....|\n",
            "|  Colchester|     2010|168467.64705882352|218504.26470588235|0.8270588235294118|429.47058823529414|    255.39882352941174|                  4.0|                                1.0|                    8.0|                135900.0|   181480.62999999992|  0.8000000000000004|                    26.0|                       178488.46|           229896.15000000014|                        0.84|{[-72.3320269, 41...|\n",
            "|     Andover|     2013|188542.85714285713|262214.28571428574|0.7142857142857143| 67.85714285714286|    192.57999999999998|                  1.0|                                0.0|                    0.0|                     0.0|                  0.0|                 0.0|                     7.0|              188542.86000000002|                    262214.29|                        0.71|{[-72.37036, 41.7...|\n",
            "|  Stonington|     2016| 267678.7586206897| 422152.9770114943| 0.881149425287356| 786.4597701149426|    379.47195402298865|                  1.0|                                0.0|                   15.0|                234340.0|   266669.07000000024|  1.2300000000000006|                    72.0|               274624.3299999995|           454545.46000000066|          0.8100000000000009|{[-71.9059042, 41...|\n",
            "|  Canterbury|     2016|          138900.0|          207487.5|           0.67375|            82.125|    151.25250000000003|                  2.0|                                0.0|                    0.0|                     0.0|                  0.0|                 0.0|                     8.0|                        138900.0|                     207487.5|                        0.67|{[-71.9710811, 41...|\n",
            "|   Woodstock|     2012|173702.60869565216|218340.34782608695|0.9304347826086956|135.47826086956522|    161.66913043478257|                  2.0|                                0.0|                    1.0|                 82000.0|             114500.0|  0.7200000000000003|                    22.0|              177870.91000000006|           223060.35999999996|          0.9400000000000001|{[-71.9739626, 41...|\n",
            "| East Granby|     2014| 187609.0909090909|252679.54545454544|0.8309090909090912|146.45454545454547|    266.24363636363637|                  4.0|                                0.0|                    1.0|                211300.0|             325000.0|  0.6500000000000002|                    21.0|              186480.95000000007|                    249235.71|                        0.84|{[-72.7273158, 41...|\n",
            "|Killingworth|     2010|          202810.0|217500.64705882352|0.9688235294117646| 95.82352941176471|    137.67235294117648|                  0.0|                                0.0|                    0.0|                     0.0|                  0.0|                 0.0|                    17.0|                        202810.0|           217500.64999999994|          0.9700000000000001|{[-72.5637023, 41...|\n",
            "|      Hebron|     2013|176244.23076923078|243657.15384615384|0.8273076923076924|106.46153846153847|    106.54615384615384|                  2.0|                                0.0|                    3.0|      163613.33000000005|             222700.0|  0.7699999999999997|                    23.0|               177891.7400000001|           246390.70000000013|          0.8299999999999995|{[-72.3659161, 41...|\n",
            "| Marlborough|     2014|182591.81818181818|241323.45454545456| 0.815909090909091| 71.31818181818181|    107.73136363636364|                  1.0|                                2.0|                    3.0|                145950.0|             211000.0|  0.6899999999999996|                    19.0|              188377.37000000008|           246111.37000000008|                        0.84|{[-72.459808, 41....|\n",
            "|      Morris|     2013|211618.57142857142| 259214.2857142857|0.9071428571428573|              42.0|                157.24|                  0.0|                                0.0|                    0.0|                     0.0|                  0.0|                 0.0|                     7.0|              211618.57000000004|                    259214.29|                        0.91|{[-73.1962245, 41...|\n",
            "|      Lisbon|     2009|162458.57142857142|196228.57142857142|0.8371428571428571|             318.0|     677.0199999999999|                  1.0|                                0.0|                    0.0|                     0.0|                  0.0|                 0.0|                     7.0|              162458.57000000004|           196228.57000000004|                        0.84|{[-72.0207809, 41...|\n",
            "|     Norwalk|     2010|401250.27368421055|523467.22105263156|0.9321052631578947| 6749.957894736842|      703.935684210527|                 16.0|                               11.0|                   59.0|      212299.03000000055|   254458.64000000048|  1.0999999999999963|                   131.0|               486350.4500000017|            644623.7600000021|          0.8600000000000025|{[-73.4078968, 41...|\n",
            "|   Mansfield|     2017|138866.66666666666|188033.33333333334|0.7686666666666666|             399.0|                166.29|                  0.0|                                0.0|                    1.0|                121900.0|             194500.0|  0.6300000000000001|                    14.0|              140078.57000000004|           187571.43000000002|          0.7799999999999999|{[-72.2131565, 41...|\n",
            "|    Woodbury|     2017| 236019.0909090909| 317490.9090909091|0.7454545454545454|             108.0|    101.41999999999999|                  0.0|                                0.0|                    2.0|                111040.0|             173750.0|  0.6399999999999999|                     9.0|               263792.2199999999|                    349433.33|          0.7699999999999999|{[-73.2090025, 41...|\n",
            "+------------+---------+------------------+------------------+------------------+------------------+----------------------+---------------------+-----------------------------------+-----------------------+------------------------+---------------------+--------------------+------------------------+--------------------------------+-----------------------------+----------------------------+--------------------+\n",
            "only showing top 20 rows\n",
            "\n"
          ]
        },
        {
          "output_type": "execute_result",
          "data": {
            "text/plain": [
              "1274"
            ]
          },
          "metadata": {},
          "execution_count": 84
        }
      ]
    },
    {
      "cell_type": "code",
      "source": [
        "from pyspark.sql.functions import round\n",
        "\n",
        "# Assuming you have a DataFrame named 'filled_df' containing your data\n",
        "\n",
        "# Round all decimal values to two decimal places\n",
        "final_df = filled_df.select(\n",
        "    filled_df['Town'],\n",
        "    filled_df['List Year'],\n",
        "    round(filled_df['Avg Assessed Value'], 2).alias('Avg Assessed Value'),\n",
        "    round(filled_df['Avg Sale Amount'], 2).alias('Avg Sale Amount'),\n",
        "    round(filled_df['Avg Sales Ratio'], 2).alias('Avg Sales Ratio'),\n",
        "    round(filled_df['Avg Total Crimes'], 2).alias('Avg Total Crimes'),\n",
        "    round(filled_df['Avg Crimes per 100,000'], 2).alias('Avg Crimes per 100,000'),\n",
        "    round(filled_df['Avg Number of Schools'], 2).alias('Avg Number of Schools'),\n",
        "    round(filled_df['Avg Number of Healthcare facilities'], 2).alias('Avg Number of Healthcare facilities'),\n",
        "    round(filled_df['Avg Houses Sold (Condo)'], 2).alias('Avg Houses Sold (Condo)'),\n",
        "    round(filled_df['Avg Condo Assessed Value'], 2).alias('Avg Condo Assessed Value'),\n",
        "    round(filled_df['Avg Condo Sale Amount'], 2).alias('Avg Condo Sale Amount'),\n",
        "    round(filled_df['Avg Condo Sale Ratio'], 2).alias('Avg Condo Sale Ratio'),\n",
        "    round(filled_df['Avg Houses Sold (Single)'], 2).alias('Avg Houses Sold (Single)'),\n",
        "    round(filled_df['Avg Single Family Assessed Value'], 2).alias('Avg Single Family Assessed Value'),\n",
        "    round(filled_df['Avg Single Family Sale Amount'], 2).alias('Avg Single Family Sale Amount'),\n",
        "    round(filled_df['Avg Single Family Sale Ratio'], 2).alias('Avg Single Family Sale Ratio'),\n",
        "    filled_df['geometry']\n",
        ")\n",
        "\n",
        "# Show the rounded DataFrame\n",
        "final_df.show()\n"
      ],
      "metadata": {
        "colab": {
          "base_uri": "https://localhost:8080/"
        },
        "id": "4ARtwKn_P978",
        "outputId": "5b4c8795-888a-471f-9370-57f11ee2ba06"
      },
      "execution_count": 86,
      "outputs": [
        {
          "output_type": "stream",
          "name": "stdout",
          "text": [
            "+------------+---------+------------------+---------------+---------------+----------------+----------------------+---------------------+-----------------------------------+-----------------------+------------------------+---------------------+--------------------+------------------------+--------------------------------+-----------------------------+----------------------------+--------------------+\n",
            "|        Town|List Year|Avg Assessed Value|Avg Sale Amount|Avg Sales Ratio|Avg Total Crimes|Avg Crimes per 100,000|Avg Number of Schools|Avg Number of Healthcare facilities|Avg Houses Sold (Condo)|Avg Condo Assessed Value|Avg Condo Sale Amount|Avg Condo Sale Ratio|Avg Houses Sold (Single)|Avg Single Family Assessed Value|Avg Single Family Sale Amount|Avg Single Family Sale Ratio|            geometry|\n",
            "+------------+---------+------------------+---------------+---------------+----------------+----------------------+---------------------+-----------------------------------+-----------------------+------------------------+---------------------+--------------------+------------------------+--------------------------------+-----------------------------+----------------------------+--------------------+\n",
            "|      Hamden|     2010|         159365.67|       197088.4|           0.93|         4177.59|                634.83|                  9.0|                               11.0|                   15.0|                125896.0|             167860.0|                0.82|                    66.0|                       166972.41|                    203731.21|                        0.96|{[-72.8968574, 41...|\n",
            "|   Killingly|     2015|         108237.74|      166847.74|           0.76|          427.54|                224.36|                  0.0|                                0.0|                    9.0|                84101.11|            112238.89|                1.04|                    84.0|                       110823.81|                    172698.69|                        0.73|{[-71.8795925, 41...|\n",
            "|     Chaplin|     2011|         139233.33|       160800.0|           0.86|            71.0|                272.92|                  1.0|                                0.0|                    0.0|                     0.0|                  0.0|                 0.0|                     3.0|                       139233.33|                     160800.0|                        0.86|{[-72.1272989, 41...|\n",
            "|     Windsor|     2010|         148635.67|      201406.37|           0.77|         1521.38|                 466.2|                  5.0|                                2.0|                   12.0|               126915.83|            177156.83|                0.77|                    48.0|                       154065.63|                    207468.75|                        0.77|{[-72.6437022, 41...|\n",
            "|   Newington|     2013|         146068.21|      212981.56|           0.72|         2295.26|                674.91|                  7.0|                                4.0|                   21.0|               148232.62|            219521.86|                0.73|                    49.0|                       145140.61|                    210178.57|                        0.72|{[-72.7237063, 41...|\n",
            "| Marlborough|     2010|         233076.88|      285726.56|           0.85|           145.5|                220.57|                  1.0|                                2.0|                    1.0|                163730.0|             204500.0|                 0.8|                    15.0|                        237700.0|                    291141.67|                        0.85|{[-72.459808, 41....|\n",
            "|  Colchester|     2010|         168467.65|      218504.26|           0.83|          429.47|                 255.4|                  4.0|                                1.0|                    8.0|                135900.0|            181480.63|                 0.8|                    26.0|                       178488.46|                    229896.15|                        0.84|{[-72.3320269, 41...|\n",
            "|     Andover|     2013|         188542.86|      262214.29|           0.71|           67.86|                192.58|                  1.0|                                0.0|                    0.0|                     0.0|                  0.0|                 0.0|                     7.0|                       188542.86|                    262214.29|                        0.71|{[-72.37036, 41.7...|\n",
            "|  Stonington|     2016|         267678.76|      422152.98|           0.88|          786.46|                379.47|                  1.0|                                0.0|                   15.0|                234340.0|            266669.07|                1.23|                    72.0|                       274624.33|                    454545.46|                        0.81|{[-71.9059042, 41...|\n",
            "|  Canterbury|     2016|          138900.0|       207487.5|           0.67|           82.13|                151.25|                  2.0|                                0.0|                    0.0|                     0.0|                  0.0|                 0.0|                     8.0|                        138900.0|                     207487.5|                        0.67|{[-71.9710811, 41...|\n",
            "|   Woodstock|     2012|         173702.61|      218340.35|           0.93|          135.48|                161.67|                  2.0|                                0.0|                    1.0|                 82000.0|             114500.0|                0.72|                    22.0|                       177870.91|                    223060.36|                        0.94|{[-71.9739626, 41...|\n",
            "| East Granby|     2014|         187609.09|      252679.55|           0.83|          146.45|                266.24|                  4.0|                                0.0|                    1.0|                211300.0|             325000.0|                0.65|                    21.0|                       186480.95|                    249235.71|                        0.84|{[-72.7273158, 41...|\n",
            "|Killingworth|     2010|          202810.0|      217500.65|           0.97|           95.82|                137.67|                  0.0|                                0.0|                    0.0|                     0.0|                  0.0|                 0.0|                    17.0|                        202810.0|                    217500.65|                        0.97|{[-72.5637023, 41...|\n",
            "|      Hebron|     2013|         176244.23|      243657.15|           0.83|          106.46|                106.55|                  2.0|                                0.0|                    3.0|               163613.33|             222700.0|                0.77|                    23.0|                       177891.74|                     246390.7|                        0.83|{[-72.3659161, 41...|\n",
            "| Marlborough|     2014|         182591.82|      241323.45|           0.82|           71.32|                107.73|                  1.0|                                2.0|                    3.0|                145950.0|             211000.0|                0.69|                    19.0|                       188377.37|                    246111.37|                        0.84|{[-72.459808, 41....|\n",
            "|      Morris|     2013|         211618.57|      259214.29|           0.91|            42.0|                157.24|                  0.0|                                0.0|                    0.0|                     0.0|                  0.0|                 0.0|                     7.0|                       211618.57|                    259214.29|                        0.91|{[-73.1962245, 41...|\n",
            "|      Lisbon|     2009|         162458.57|      196228.57|           0.84|           318.0|                677.02|                  1.0|                                0.0|                    0.0|                     0.0|                  0.0|                 0.0|                     7.0|                       162458.57|                    196228.57|                        0.84|{[-72.0207809, 41...|\n",
            "|     Norwalk|     2010|         401250.27|      523467.22|           0.93|         6749.96|                703.94|                 16.0|                               11.0|                   59.0|               212299.03|            254458.64|                 1.1|                   131.0|                       486350.45|                    644623.76|                        0.86|{[-73.4078968, 41...|\n",
            "|   Mansfield|     2017|         138866.67|      188033.33|           0.77|           399.0|                166.29|                  0.0|                                0.0|                    1.0|                121900.0|             194500.0|                0.63|                    14.0|                       140078.57|                    187571.43|                        0.78|{[-72.2131565, 41...|\n",
            "|    Woodbury|     2017|         236019.09|      317490.91|           0.75|           108.0|                101.42|                  0.0|                                0.0|                    2.0|                111040.0|             173750.0|                0.64|                     9.0|                       263792.22|                    349433.33|                        0.77|{[-73.2090025, 41...|\n",
            "+------------+---------+------------------+---------------+---------------+----------------+----------------------+---------------------+-----------------------------------+-----------------------+------------------------+---------------------+--------------------+------------------------+--------------------------------+-----------------------------+----------------------------+--------------------+\n",
            "only showing top 20 rows\n",
            "\n"
          ]
        }
      ]
    },
    {
      "cell_type": "code",
      "source": [
        "final_df.printSchema()"
      ],
      "metadata": {
        "colab": {
          "base_uri": "https://localhost:8080/"
        },
        "id": "CU2Xzr1eRjbX",
        "outputId": "4ebf3498-5b57-4594-a6d7-b53adef3fb0b"
      },
      "execution_count": 92,
      "outputs": [
        {
          "output_type": "stream",
          "name": "stdout",
          "text": [
            "root\n",
            " |-- Town: string (nullable = true)\n",
            " |-- List Year: integer (nullable = true)\n",
            " |-- Avg Assessed Value: double (nullable = true)\n",
            " |-- Avg Sale Amount: double (nullable = true)\n",
            " |-- Avg Sales Ratio: double (nullable = true)\n",
            " |-- Avg Total Crimes: double (nullable = true)\n",
            " |-- Avg Crimes per 100,000: double (nullable = true)\n",
            " |-- Avg Number of Schools: double (nullable = true)\n",
            " |-- Avg Number of Healthcare facilities: double (nullable = true)\n",
            " |-- Avg Houses Sold (Condo): double (nullable = true)\n",
            " |-- Avg Condo Assessed Value: double (nullable = true)\n",
            " |-- Avg Condo Sale Amount: double (nullable = true)\n",
            " |-- Avg Condo Sale Ratio: double (nullable = true)\n",
            " |-- Avg Houses Sold (Single): double (nullable = true)\n",
            " |-- Avg Single Family Assessed Value: double (nullable = true)\n",
            " |-- Avg Single Family Sale Amount: double (nullable = true)\n",
            " |-- Avg Single Family Sale Ratio: double (nullable = true)\n",
            " |-- geometry: struct (nullable = true)\n",
            " |    |-- coordinates: array (nullable = true)\n",
            " |    |    |-- element: double (containsNull = true)\n",
            " |    |-- type: string (nullable = true)\n",
            "\n"
          ]
        }
      ]
    },
    {
      "cell_type": "code",
      "source": [
        "from pyspark.sql.functions import concat, format_string\n",
        "\n",
        "# Assuming the `coordinates` array has longitude and latitude values\n",
        "final_df = final_df.withColumn(\n",
        "    'geometry',\n",
        "    concat(\n",
        "        format_string('POINT(%s %s)', final_df['geometry.coordinates'][0], final_df['geometry.coordinates'][1])\n",
        "    )\n",
        ")\n"
      ],
      "metadata": {
        "id": "NmGbfLXvQ0pL"
      },
      "execution_count": 93,
      "outputs": []
    },
    {
      "cell_type": "code",
      "source": [
        "# Write the DataFrame to a CSV file\n",
        "final_df.write.csv(\"Complete.csv\", header=True, mode=\"overwrite\")\n",
        "\n",
        "# Download the CSV file to the system\n",
        "from google.colab import files\n",
        "files.download(\"Complete.csv\")"
      ],
      "metadata": {
        "id": "YQQeNNaaS1uQ"
      },
      "execution_count": null,
      "outputs": []
    }
  ]
}