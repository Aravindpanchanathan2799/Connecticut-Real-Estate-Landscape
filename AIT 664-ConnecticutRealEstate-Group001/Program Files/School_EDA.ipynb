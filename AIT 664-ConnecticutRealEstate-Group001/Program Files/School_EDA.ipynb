{
  "nbformat": 4,
  "nbformat_minor": 0,
  "metadata": {
    "colab": {
      "provenance": []
    },
    "kernelspec": {
      "name": "python3",
      "display_name": "Python 3"
    },
    "language_info": {
      "name": "python"
    }
  },
  "cells": [
    {
      "cell_type": "code",
      "execution_count": 1,
      "metadata": {
        "colab": {
          "base_uri": "https://localhost:8080/"
        },
        "id": "F26er53-8p18",
        "outputId": "c87b7c2e-99cc-43f2-9b0e-37ae1df47953"
      },
      "outputs": [
        {
          "output_type": "stream",
          "name": "stdout",
          "text": [
            "Collecting pyspark\n",
            "  Downloading pyspark-3.5.1.tar.gz (317.0 MB)\n",
            "\u001b[2K     \u001b[90m━━━━━━━━━━━━━━━━━━━━━━━━━━━━━━━━━━━━━━━━\u001b[0m \u001b[32m317.0/317.0 MB\u001b[0m \u001b[31m2.9 MB/s\u001b[0m eta \u001b[36m0:00:00\u001b[0m\n",
            "\u001b[?25h  Preparing metadata (setup.py) ... \u001b[?25l\u001b[?25hdone\n",
            "Requirement already satisfied: py4j==0.10.9.7 in /usr/local/lib/python3.10/dist-packages (from pyspark) (0.10.9.7)\n",
            "Building wheels for collected packages: pyspark\n",
            "  Building wheel for pyspark (setup.py) ... \u001b[?25l\u001b[?25hdone\n",
            "  Created wheel for pyspark: filename=pyspark-3.5.1-py2.py3-none-any.whl size=317488491 sha256=235795671d1386ec564b6eed65d3242dda88a1c025763043b423f6dda7a9bf4f\n",
            "  Stored in directory: /root/.cache/pip/wheels/80/1d/60/2c256ed38dddce2fdd93be545214a63e02fbd8d74fb0b7f3a6\n",
            "Successfully built pyspark\n",
            "Installing collected packages: pyspark\n",
            "Successfully installed pyspark-3.5.1\n"
          ]
        }
      ],
      "source": [
        "!pip install pyspark"
      ]
    },
    {
      "cell_type": "code",
      "source": [
        "from pyspark.sql import SparkSession\n",
        "from pyspark.sql.functions import year, count, col\n",
        "import matplotlib.pyplot as plt\n",
        "from pyspark.sql.functions import to_date, date_format\n",
        "import pandas as pd\n",
        "import numpy as np\n",
        "from scipy import stats"
      ],
      "metadata": {
        "id": "3dsMBkXW9CZU"
      },
      "execution_count": 2,
      "outputs": []
    },
    {
      "cell_type": "code",
      "source": [
        "from pyspark.sql import SparkSession\n",
        "spark = SparkSession.builder.getOrCreate()\n",
        "df = spark.read.format(\"csv\").option(\"header\", True).load(\"/content/School_Updated.csv\")\n",
        "print(df.dtypes)\n",
        "df.printSchema()"
      ],
      "metadata": {
        "colab": {
          "base_uri": "https://localhost:8080/"
        },
        "id": "WMBmZw0T9FTk",
        "outputId": "5e0a5c85-8c89-489f-b027-8208675838b8"
      },
      "execution_count": 3,
      "outputs": [
        {
          "output_type": "stream",
          "name": "stdout",
          "text": [
            "[('School ID', 'string'), ('District Name', 'string'), ('School Name', 'string'), ('Organization Type', 'string'), ('Organization Code', 'string'), ('Address', 'string'), ('Town', 'string'), ('Zipcode', 'string'), ('Phone', 'string'), ('Student Open Date', 'string'), ('State', 'string'), ('geometry', 'string')]\n",
            "root\n",
            " |-- School ID: string (nullable = true)\n",
            " |-- District Name: string (nullable = true)\n",
            " |-- School Name: string (nullable = true)\n",
            " |-- Organization Type: string (nullable = true)\n",
            " |-- Organization Code: string (nullable = true)\n",
            " |-- Address: string (nullable = true)\n",
            " |-- Town: string (nullable = true)\n",
            " |-- Zipcode: string (nullable = true)\n",
            " |-- Phone: string (nullable = true)\n",
            " |-- Student Open Date: string (nullable = true)\n",
            " |-- State: string (nullable = true)\n",
            " |-- geometry: string (nullable = true)\n",
            "\n"
          ]
        }
      ]
    },
    {
      "cell_type": "code",
      "source": [
        "df = df.withColumn(\"Student_Open_Date\", to_date(df[\"Student Open Date\"], \"MM-dd-yyyy\")) \\\n",
        "       .withColumn(\"Open_Year\", year(\"Student_Open_Date\"))\n",
        "\n",
        "# Show the updated DataFrame\n",
        "df.show()"
      ],
      "metadata": {
        "colab": {
          "base_uri": "https://localhost:8080/"
        },
        "id": "0LDmYl6r9Wb5",
        "outputId": "f0b92318-6e9f-4da3-d53f-718ffc4679fa"
      },
      "execution_count": 4,
      "outputs": [
        {
          "output_type": "stream",
          "name": "stdout",
          "text": [
            "+---------+--------------------+--------------------+--------------------+-----------------+--------------------+----------+-------+------------+-----------------+-----+--------------------+-----------------+---------+\n",
            "|School ID|       District Name|         School Name|   Organization Type|Organization Code|             Address|      Town|Zipcode|       Phone|Student Open Date|State|            geometry|Student_Open_Date|Open_Year|\n",
            "+---------+--------------------+--------------------+--------------------+-----------------+--------------------+----------+-------+------------+-----------------+-----+--------------------+-----------------+---------+\n",
            "|        0|Vernon School Dis...| Skinner Road School|      Public Schools|          1461011|      90 Skinner Rd.|    Vernon|   6066|860-870-6180|       01-07-1984|   CT|POINT (-72.491502...|       1984-01-07|     1984|\n",
            "|        1|Department of Soc...|Department of Soc...|      State Agencies|          3320015| 25 Sigourney Street|  Hartford|   6106|860-424-5129|       01-07-2000|   CT|POINT (-72.694626...|       2000-01-07|     2000|\n",
            "|        2|Norwalk School Di...|West Rocks Middle...|      Public Schools|          1035411|  81 West Rocks Road|   Norwalk|   6851|203-899-2970|       01-07-1984|   CT|POINT (-73.416113...|       1984-01-07|     1984|\n",
            "|        4|Bridgeport School...|Jettie S. Tisdale...|      Public Schools|           152211|250 Hollister Avenue|Bridgeport|   6607|203-576-8037|       01-07-1984|   CT|POINT (-73.160234...|       1984-01-07|     1984|\n",
            "|        5|Regional School D...|Amity Middle Scho...|    Regional Schools|          2055212|      100 Ohman Ave.|    Orange|   6477|203-392-3200|       01-07-2002|   CT|POINT (-73.006023...|       2002-01-07|     2002|\n",
            "|        6|Stamford School D...|Westhill High School|      Public Schools|          1356311|     125 Roxbury Rd.|  Stamford|   6902|203-977-4477|       01-07-1984|   CT|POINT (-73.565552...|       1984-01-07|     1984|\n",
            "|        7|Norwalk School Di...|Concord Magnet Sc...|      Public Schools|          1030311|     21 Hunters Lane|   Norwalk|   6850|203-899-2840|       01-07-1984|   CT|POINT (-73.442092...|       1984-01-07|     1984|\n",
            "|        8|Woodbridge School...|Woodbridge School...|Public School Dis...|          1670011|     40 Beecher Road|Woodbridge|   6525|203-387-6631|       01-07-1996|   CT|POINT (-73.008984...|       1996-01-07|     1996|\n",
            "|        9|Hartford School D...|Hartford PreKinde...|      Public Schools|           641311|   85 Edwards Street|  Hartford|   6120|860-695-5820|       01-07-2013|   CT|POINT (-72.682106...|       2013-01-07|     2013|\n",
            "|       10|Colchester School...|Colchester Elemen...|      Public Schools|           280411|  315 Halls Hill Rd.|Colchester|   6415|860-537-0717|       01-07-2006|   CT|POINT (-72.316312...|       2006-01-07|     2006|\n",
            "|       11|Unified School Di...|Garner Correction...|State Agency Faci...|          3361915|   50 Nunnawauk Road|   Newtown|   6470|203-270-2897|       01-07-2000|   CT|POINT (-73.272268...|       2000-01-07|     2000|\n",
            "|       12|Somers School Dis...|  Somers High School|      Public Schools|          1296111|  5 Vision Boulevard|    Somers|   6071|860-749-2270|       01-07-1984|   CT|POINT (-72.458666...|       1984-01-07|     1984|\n",
            "|       13|Brookfield School...|Brookfield School...|Public School Dis...|           180011|     100 Pocono Road|Brookfield|   6804|203-775-7700|       01-07-1996|   CT|POINT (-73.398896...|       1996-01-07|     1996|\n",
            "|       14|Milford School Di...|J. F. Kennedy School|      Public Schools|           841911|       404 West Ave.|   Milford|   6460|203-783-3568|       01-07-1984|   CT|POINT (-73.088984...|       1984-01-07|     1984|\n",
            "|       15|Capitol Region Ed...|Capitol Region Ed...|Regional Educatio...|          2410014|111 Charter Oak A...|  Hartford|   6106|860-524-4063|       01-07-2000|   CT|POINT (-72.668350...|       2000-01-07|     2000|\n",
            "|       16|Hamden School Dis...|    Bear Path School|      Public Schools|           621211|         10 Kirk Rd.|    Hamden|   6514|203-407-2015|       01-07-1984|   CT|POINT (-72.927365...|       1984-01-07|     1984|\n",
            "|       17|The Gilbert Schoo...|  The Gilbert School|Endowed and Incor...|          9026122|   200 Williams Ave.|   Winsted|   6098|860-379-8521|       01-07-2000|   CT|POINT (-73.068154...|       2000-01-07|     2000|\n",
            "|       18|Tolland School Di...|Birch Grove Prima...|      Public Schools|          1420111|       247 Rhodes RD|   Tolland|   6084|860-870-6750|       01-07-1999|   CT|POINT (-72.334141...|       1999-01-07|     1999|\n",
            "|       19|Waterbury School ...|Maloney Interdist...|      Public Schools|          1513111|   233 South Elm St.| Waterbury|   6706|203-574-8162|       01-07-1996|   CT|POINT (-73.037693...|       1996-01-07|     1996|\n",
            "|       20|Guilford School D...|Guilford Lakes Sc...|      Public Schools|           600211|       40 Maupas Rd.|  Guilford|   6437|203-453-5201|       01-07-1984|   CT|POINT (-72.688775...|       1984-01-07|     1984|\n",
            "+---------+--------------------+--------------------+--------------------+-----------------+--------------------+----------+-------+------------+-----------------+-----+--------------------+-----------------+---------+\n",
            "only showing top 20 rows\n",
            "\n"
          ]
        }
      ]
    },
    {
      "cell_type": "code",
      "source": [
        "df.printSchema()"
      ],
      "metadata": {
        "colab": {
          "base_uri": "https://localhost:8080/"
        },
        "id": "JvaU0H_X-VYQ",
        "outputId": "3753ce6e-4c5b-4c4f-85df-563239037c97"
      },
      "execution_count": 5,
      "outputs": [
        {
          "output_type": "stream",
          "name": "stdout",
          "text": [
            "root\n",
            " |-- School ID: string (nullable = true)\n",
            " |-- District Name: string (nullable = true)\n",
            " |-- School Name: string (nullable = true)\n",
            " |-- Organization Type: string (nullable = true)\n",
            " |-- Organization Code: string (nullable = true)\n",
            " |-- Address: string (nullable = true)\n",
            " |-- Town: string (nullable = true)\n",
            " |-- Zipcode: string (nullable = true)\n",
            " |-- Phone: string (nullable = true)\n",
            " |-- Student Open Date: string (nullable = true)\n",
            " |-- State: string (nullable = true)\n",
            " |-- geometry: string (nullable = true)\n",
            " |-- Student_Open_Date: date (nullable = true)\n",
            " |-- Open_Year: integer (nullable = true)\n",
            "\n"
          ]
        }
      ]
    },
    {
      "cell_type": "code",
      "source": [
        "df = df.drop(\"Student Open Date\")\n",
        "\n",
        "df.printSchema()\n",
        "\n",
        "# Show the updated DataFrame\n",
        "df.show()"
      ],
      "metadata": {
        "colab": {
          "base_uri": "https://localhost:8080/"
        },
        "id": "1scn6hUj-pLC",
        "outputId": "aa72686b-e606-4e96-bc4e-16c61535517a"
      },
      "execution_count": 6,
      "outputs": [
        {
          "output_type": "stream",
          "name": "stdout",
          "text": [
            "root\n",
            " |-- School ID: string (nullable = true)\n",
            " |-- District Name: string (nullable = true)\n",
            " |-- School Name: string (nullable = true)\n",
            " |-- Organization Type: string (nullable = true)\n",
            " |-- Organization Code: string (nullable = true)\n",
            " |-- Address: string (nullable = true)\n",
            " |-- Town: string (nullable = true)\n",
            " |-- Zipcode: string (nullable = true)\n",
            " |-- Phone: string (nullable = true)\n",
            " |-- State: string (nullable = true)\n",
            " |-- geometry: string (nullable = true)\n",
            " |-- Student_Open_Date: date (nullable = true)\n",
            " |-- Open_Year: integer (nullable = true)\n",
            "\n",
            "+---------+--------------------+--------------------+--------------------+-----------------+--------------------+----------+-------+------------+-----+--------------------+-----------------+---------+\n",
            "|School ID|       District Name|         School Name|   Organization Type|Organization Code|             Address|      Town|Zipcode|       Phone|State|            geometry|Student_Open_Date|Open_Year|\n",
            "+---------+--------------------+--------------------+--------------------+-----------------+--------------------+----------+-------+------------+-----+--------------------+-----------------+---------+\n",
            "|        0|Vernon School Dis...| Skinner Road School|      Public Schools|          1461011|      90 Skinner Rd.|    Vernon|   6066|860-870-6180|   CT|POINT (-72.491502...|       1984-01-07|     1984|\n",
            "|        1|Department of Soc...|Department of Soc...|      State Agencies|          3320015| 25 Sigourney Street|  Hartford|   6106|860-424-5129|   CT|POINT (-72.694626...|       2000-01-07|     2000|\n",
            "|        2|Norwalk School Di...|West Rocks Middle...|      Public Schools|          1035411|  81 West Rocks Road|   Norwalk|   6851|203-899-2970|   CT|POINT (-73.416113...|       1984-01-07|     1984|\n",
            "|        4|Bridgeport School...|Jettie S. Tisdale...|      Public Schools|           152211|250 Hollister Avenue|Bridgeport|   6607|203-576-8037|   CT|POINT (-73.160234...|       1984-01-07|     1984|\n",
            "|        5|Regional School D...|Amity Middle Scho...|    Regional Schools|          2055212|      100 Ohman Ave.|    Orange|   6477|203-392-3200|   CT|POINT (-73.006023...|       2002-01-07|     2002|\n",
            "|        6|Stamford School D...|Westhill High School|      Public Schools|          1356311|     125 Roxbury Rd.|  Stamford|   6902|203-977-4477|   CT|POINT (-73.565552...|       1984-01-07|     1984|\n",
            "|        7|Norwalk School Di...|Concord Magnet Sc...|      Public Schools|          1030311|     21 Hunters Lane|   Norwalk|   6850|203-899-2840|   CT|POINT (-73.442092...|       1984-01-07|     1984|\n",
            "|        8|Woodbridge School...|Woodbridge School...|Public School Dis...|          1670011|     40 Beecher Road|Woodbridge|   6525|203-387-6631|   CT|POINT (-73.008984...|       1996-01-07|     1996|\n",
            "|        9|Hartford School D...|Hartford PreKinde...|      Public Schools|           641311|   85 Edwards Street|  Hartford|   6120|860-695-5820|   CT|POINT (-72.682106...|       2013-01-07|     2013|\n",
            "|       10|Colchester School...|Colchester Elemen...|      Public Schools|           280411|  315 Halls Hill Rd.|Colchester|   6415|860-537-0717|   CT|POINT (-72.316312...|       2006-01-07|     2006|\n",
            "|       11|Unified School Di...|Garner Correction...|State Agency Faci...|          3361915|   50 Nunnawauk Road|   Newtown|   6470|203-270-2897|   CT|POINT (-73.272268...|       2000-01-07|     2000|\n",
            "|       12|Somers School Dis...|  Somers High School|      Public Schools|          1296111|  5 Vision Boulevard|    Somers|   6071|860-749-2270|   CT|POINT (-72.458666...|       1984-01-07|     1984|\n",
            "|       13|Brookfield School...|Brookfield School...|Public School Dis...|           180011|     100 Pocono Road|Brookfield|   6804|203-775-7700|   CT|POINT (-73.398896...|       1996-01-07|     1996|\n",
            "|       14|Milford School Di...|J. F. Kennedy School|      Public Schools|           841911|       404 West Ave.|   Milford|   6460|203-783-3568|   CT|POINT (-73.088984...|       1984-01-07|     1984|\n",
            "|       15|Capitol Region Ed...|Capitol Region Ed...|Regional Educatio...|          2410014|111 Charter Oak A...|  Hartford|   6106|860-524-4063|   CT|POINT (-72.668350...|       2000-01-07|     2000|\n",
            "|       16|Hamden School Dis...|    Bear Path School|      Public Schools|           621211|         10 Kirk Rd.|    Hamden|   6514|203-407-2015|   CT|POINT (-72.927365...|       1984-01-07|     1984|\n",
            "|       17|The Gilbert Schoo...|  The Gilbert School|Endowed and Incor...|          9026122|   200 Williams Ave.|   Winsted|   6098|860-379-8521|   CT|POINT (-73.068154...|       2000-01-07|     2000|\n",
            "|       18|Tolland School Di...|Birch Grove Prima...|      Public Schools|          1420111|       247 Rhodes RD|   Tolland|   6084|860-870-6750|   CT|POINT (-72.334141...|       1999-01-07|     1999|\n",
            "|       19|Waterbury School ...|Maloney Interdist...|      Public Schools|          1513111|   233 South Elm St.| Waterbury|   6706|203-574-8162|   CT|POINT (-73.037693...|       1996-01-07|     1996|\n",
            "|       20|Guilford School D...|Guilford Lakes Sc...|      Public Schools|           600211|       40 Maupas Rd.|  Guilford|   6437|203-453-5201|   CT|POINT (-72.688775...|       1984-01-07|     1984|\n",
            "+---------+--------------------+--------------------+--------------------+-----------------+--------------------+----------+-------+------------+-----+--------------------+-----------------+---------+\n",
            "only showing top 20 rows\n",
            "\n"
          ]
        }
      ]
    },
    {
      "cell_type": "code",
      "source": [
        "schools_per_town = df.groupBy(\"Town\").agg(count(\"School Name\").alias(\"Number_of_Schools\"))\n",
        "\n",
        "# Show the result\n",
        "schools_per_town.show()"
      ],
      "metadata": {
        "colab": {
          "base_uri": "https://localhost:8080/"
        },
        "id": "uUPGcfF4-xdR",
        "outputId": "66007fd1-67e6-4fce-e49c-689216d9b8e1"
      },
      "execution_count": 7,
      "outputs": [
        {
          "output_type": "stream",
          "name": "stdout",
          "text": [
            "+-------------------+-----------------+\n",
            "|               Town|Number_of_Schools|\n",
            "+-------------------+-----------------+\n",
            "|        Middlefield|                2|\n",
            "|         Plainfield|                4|\n",
            "|      Old Greenwich|                1|\n",
            "|          Bethlehem|                1|\n",
            "|   Stafford Springs|                4|\n",
            "|             Monroe|                6|\n",
            "|         Litchfield|                3|\n",
            "|         Brookfield|                5|\n",
            "|North Grosvenordale|                3|\n",
            "|           Sterling|                2|\n",
            "|             Bolton|                3|\n",
            "|      Windsor Locks|                5|\n",
            "|         Woodbridge|                4|\n",
            "|            Wolcott|                6|\n",
            "|           Cromwell|                5|\n",
            "|     North Franklin|                2|\n",
            "|        New Milford|                6|\n",
            "|           Guilford|                7|\n",
            "|         Manchester|               13|\n",
            "|          Thomaston|                4|\n",
            "+-------------------+-----------------+\n",
            "only showing top 20 rows\n",
            "\n"
          ]
        }
      ]
    },
    {
      "cell_type": "code",
      "source": [
        "public_schools_df = df.filter(df[\"Organization Type\"] == \"Public Schools\")\n",
        "\n",
        "# Show the filtered DataFrame\n",
        "public_schools_df.show()"
      ],
      "metadata": {
        "colab": {
          "base_uri": "https://localhost:8080/"
        },
        "id": "M6pGH67fDRFZ",
        "outputId": "f7344b0e-8956-4913-a8c5-ef6b073f3264"
      },
      "execution_count": 35,
      "outputs": [
        {
          "output_type": "stream",
          "name": "stdout",
          "text": [
            "+---------+--------------------+--------------------+-----------------+-----------------+--------------------+-------------+-------+------------+-----+--------------------+-----------------+---------+\n",
            "|School ID|       District Name|         School Name|Organization Type|Organization Code|             Address|         Town|Zipcode|       Phone|State|            geometry|Student_Open_Date|Open_Year|\n",
            "+---------+--------------------+--------------------+-----------------+-----------------+--------------------+-------------+-------+------------+-----+--------------------+-----------------+---------+\n",
            "|        0|Vernon School Dis...| Skinner Road School|   Public Schools|          1461011|      90 Skinner Rd.|       Vernon|   6066|860-870-6180|   CT|POINT (-72.491502...|       1984-01-07|     1984|\n",
            "|        2|Norwalk School Di...|West Rocks Middle...|   Public Schools|          1035411|  81 West Rocks Road|      Norwalk|   6851|203-899-2970|   CT|POINT (-73.416113...|       1984-01-07|     1984|\n",
            "|        4|Bridgeport School...|Jettie S. Tisdale...|   Public Schools|           152211|250 Hollister Avenue|   Bridgeport|   6607|203-576-8037|   CT|POINT (-73.160234...|       1984-01-07|     1984|\n",
            "|        6|Stamford School D...|Westhill High School|   Public Schools|          1356311|     125 Roxbury Rd.|     Stamford|   6902|203-977-4477|   CT|POINT (-73.565552...|       1984-01-07|     1984|\n",
            "|        7|Norwalk School Di...|Concord Magnet Sc...|   Public Schools|          1030311|     21 Hunters Lane|      Norwalk|   6850|203-899-2840|   CT|POINT (-73.442092...|       1984-01-07|     1984|\n",
            "|        9|Hartford School D...|Hartford PreKinde...|   Public Schools|           641311|   85 Edwards Street|     Hartford|   6120|860-695-5820|   CT|POINT (-72.682106...|       2013-01-07|     2013|\n",
            "|       10|Colchester School...|Colchester Elemen...|   Public Schools|           280411|  315 Halls Hill Rd.|   Colchester|   6415|860-537-0717|   CT|POINT (-72.316312...|       2006-01-07|     2006|\n",
            "|       12|Somers School Dis...|  Somers High School|   Public Schools|          1296111|  5 Vision Boulevard|       Somers|   6071|860-749-2270|   CT|POINT (-72.458666...|       1984-01-07|     1984|\n",
            "|       14|Milford School Di...|J. F. Kennedy School|   Public Schools|           841911|       404 West Ave.|      Milford|   6460|203-783-3568|   CT|POINT (-73.088984...|       1984-01-07|     1984|\n",
            "|       16|Hamden School Dis...|    Bear Path School|   Public Schools|           621211|         10 Kirk Rd.|       Hamden|   6514|203-407-2015|   CT|POINT (-72.927365...|       1984-01-07|     1984|\n",
            "|       18|Tolland School Di...|Birch Grove Prima...|   Public Schools|          1420111|       247 Rhodes RD|      Tolland|   6084|860-870-6750|   CT|POINT (-72.334141...|       1999-01-07|     1999|\n",
            "|       19|Waterbury School ...|Maloney Interdist...|   Public Schools|          1513111|   233 South Elm St.|    Waterbury|   6706|203-574-8162|   CT|POINT (-73.037693...|       1996-01-07|     1996|\n",
            "|       20|Guilford School D...|Guilford Lakes Sc...|   Public Schools|           600211|       40 Maupas Rd.|     Guilford|   6437|203-453-5201|   CT|POINT (-72.688775...|       1984-01-07|     1984|\n",
            "|       21|Norwalk School Di...|Brookside Element...|   Public Schools|          1030211| 382 Highland Avenue|      Norwalk|   6854|203-899-2830|   CT|POINT (-73.435601...|       1984-01-07|     1984|\n",
            "|       23|Ellington School ...|Ellington Middle ...|   Public Schools|           485111|46 Middle Butcher...|    Ellington|   6029|860-896-2339|   CT|POINT (-72.459672...|       1984-01-07|     1984|\n",
            "|       24|Waterbury School ...|   Bucks Hill School|   Public Schools|          1510511|  330 Bucks Hill Rd.|    Waterbury|   6704|203-574-8182|   CT|POINT (-73.028632...|       1984-01-07|     1984|\n",
            "|       27|West Haven School...|Harry M. Bailey M...|   Public Schools|          1565111|      106 Morgan Ln.|   West Haven|   6516|203-937-4380|   CT|POINT (-72.978413...|       1984-01-07|     1984|\n",
            "|       28|Middletown School...|       Wesley School|   Public Schools|           831411|10 Wesleyan Hills...|   Middletown|   6457|860-344-0381|   CT|POINT (-72.665725...|       1984-01-07|     1984|\n",
            "|       29|East Lyme School ...|Niantic Center Sc...|   Public Schools|           450211|     7 West Main St.|      Niantic|   6357|860-739-3961|   CT|POINT (-72.203812...|       1984-01-07|     1984|\n",
            "|       30|West Hartford Sch...|Charter Oak Inter...|   Public Schools|          1550511|    425 Oakwood Ave.|West Hartford|   6110|860-233-8506|   CT|POINT (-72.721963...|       1984-01-07|     1984|\n",
            "+---------+--------------------+--------------------+-----------------+-----------------+--------------------+-------------+-------+------------+-----+--------------------+-----------------+---------+\n",
            "only showing top 20 rows\n",
            "\n"
          ]
        }
      ]
    },
    {
      "cell_type": "code",
      "source": [
        "# Write the DataFrame to a new CSV file\n",
        "df.write.csv(\"Health_Updated(1).csv\",header=True)\n",
        "\n",
        "# Download the CSV file to the system\n",
        "from google.colab import files\n",
        "files.download(\"Health_Updated(1).csv\")"
      ],
      "metadata": {
        "id": "x5Avm96zTvVn"
      },
      "execution_count": null,
      "outputs": []
    }
  ]
}